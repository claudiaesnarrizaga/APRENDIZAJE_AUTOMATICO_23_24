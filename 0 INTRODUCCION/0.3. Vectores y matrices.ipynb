{
  "cells": [
    {
      "cell_type": "markdown",
      "metadata": {
        "id": "view-in-github",
        "colab_type": "text"
      },
      "source": [
        "<a href=\"https://colab.research.google.com/github/claudiaesnarrizaga/APRENDIZAJE_AUTOMATICO_23_24/blob/main/0%20INTRODUCCION/0.3.%20Vectores%20y%20matrices.ipynb\" target=\"_parent\"><img src=\"https://colab.research.google.com/assets/colab-badge.svg\" alt=\"Open In Colab\"/></a>"
      ]
    },
    {
      "cell_type": "code",
      "execution_count": 1,
      "metadata": {
        "pycharm": {
          "name": "#%%\n"
        },
        "id": "dKlTU2-_jdEW",
        "outputId": "a9df9507-26cb-4a60-b92b-daac57bb3263",
        "colab": {
          "base_uri": "https://localhost:8080/"
        }
      },
      "outputs": [
        {
          "output_type": "stream",
          "name": "stdout",
          "text": [
            "[5, 6, 9, 8, 7, 4, 65, 2, 2, 56, 46, 54]\n"
          ]
        }
      ],
      "source": [
        "lista = [5,6,9,8,7,4,65,2,2,56,46,54]\n",
        "print(lista)"
      ]
    },
    {
      "cell_type": "code",
      "execution_count": 2,
      "metadata": {
        "pycharm": {
          "name": "#%%\n"
        },
        "id": "gOC_OxpgjdEX",
        "outputId": "2c7ed8ad-da29-4189-aadb-56f0c4f505ee",
        "colab": {
          "base_uri": "https://localhost:8080/"
        }
      },
      "outputs": [
        {
          "output_type": "execute_result",
          "data": {
            "text/plain": [
              "True"
            ]
          },
          "metadata": {},
          "execution_count": 2
        }
      ],
      "source": [
        "2 in lista"
      ]
    },
    {
      "cell_type": "code",
      "execution_count": 3,
      "metadata": {
        "pycharm": {
          "name": "#%%\n"
        },
        "id": "kEjQwWR5jdEX",
        "outputId": "2aeabba9-9765-4990-89b5-1be381cf21f8",
        "colab": {
          "base_uri": "https://localhost:8080/"
        }
      },
      "outputs": [
        {
          "output_type": "execute_result",
          "data": {
            "text/plain": [
              "False"
            ]
          },
          "metadata": {},
          "execution_count": 3
        }
      ],
      "source": [
        "35 in lista"
      ]
    },
    {
      "cell_type": "code",
      "execution_count": 4,
      "metadata": {
        "pycharm": {
          "name": "#%%\n"
        },
        "id": "PXLg_HjKjdEX",
        "outputId": "4a9ca2a2-87b3-4b75-c91c-07e75aaaa7f5",
        "colab": {
          "base_uri": "https://localhost:8080/"
        }
      },
      "outputs": [
        {
          "output_type": "execute_result",
          "data": {
            "text/plain": [
              "5"
            ]
          },
          "metadata": {},
          "execution_count": 4
        }
      ],
      "source": [
        "lista[0]"
      ]
    },
    {
      "cell_type": "code",
      "execution_count": 5,
      "metadata": {
        "pycharm": {
          "name": "#%%\n"
        },
        "id": "yUSGbMidjdEX",
        "outputId": "89f000c5-3844-45db-979f-6f400ba0ba81",
        "colab": {
          "base_uri": "https://localhost:8080/"
        }
      },
      "outputs": [
        {
          "output_type": "execute_result",
          "data": {
            "text/plain": [
              "54"
            ]
          },
          "metadata": {},
          "execution_count": 5
        }
      ],
      "source": [
        "lista[-1]"
      ]
    },
    {
      "cell_type": "code",
      "execution_count": 6,
      "metadata": {
        "pycharm": {
          "name": "#%%\n"
        },
        "id": "fpurXII5jdEX",
        "outputId": "cacc937d-1dd5-4012-b07a-3b63584c408f",
        "colab": {
          "base_uri": "https://localhost:8080/"
        }
      },
      "outputs": [
        {
          "output_type": "execute_result",
          "data": {
            "text/plain": [
              "[9, 8]"
            ]
          },
          "metadata": {},
          "execution_count": 6
        }
      ],
      "source": [
        "lista[2:4]"
      ]
    },
    {
      "cell_type": "code",
      "execution_count": 7,
      "metadata": {
        "pycharm": {
          "name": "#%%\n"
        },
        "id": "W_XNBrLGjdEY",
        "outputId": "4a36eaf8-dac8-4fe6-8324-675e2a8a6db2",
        "colab": {
          "base_uri": "https://localhost:8080/"
        }
      },
      "outputs": [
        {
          "output_type": "execute_result",
          "data": {
            "text/plain": [
              "[5, 6, 9, 8, 7]"
            ]
          },
          "metadata": {},
          "execution_count": 7
        }
      ],
      "source": [
        "lista[:5]"
      ]
    },
    {
      "cell_type": "code",
      "execution_count": 8,
      "metadata": {
        "pycharm": {
          "name": "#%%\n"
        },
        "id": "WHTduMw-jdEY",
        "outputId": "260c49f9-6547-426a-981d-a82765f48c03",
        "colab": {
          "base_uri": "https://localhost:8080/"
        }
      },
      "outputs": [
        {
          "output_type": "execute_result",
          "data": {
            "text/plain": [
              "[7, 4, 65, 2, 2, 56, 46, 54]"
            ]
          },
          "metadata": {},
          "execution_count": 8
        }
      ],
      "source": [
        "lista[4:]"
      ]
    },
    {
      "cell_type": "code",
      "execution_count": 9,
      "metadata": {
        "pycharm": {
          "name": "#%%\n"
        },
        "id": "YiLhVtRqjdEY",
        "outputId": "54a516d7-38f6-4cae-eb3a-b83c5bea806f",
        "colab": {
          "base_uri": "https://localhost:8080/"
        }
      },
      "outputs": [
        {
          "output_type": "execute_result",
          "data": {
            "text/plain": [
              "[5, 6, 9, 8, 7, 4, 65, 2, 2, 56, 46, 54]"
            ]
          },
          "metadata": {},
          "execution_count": 9
        }
      ],
      "source": [
        "lista[:]"
      ]
    },
    {
      "cell_type": "code",
      "execution_count": 10,
      "metadata": {
        "pycharm": {
          "name": "#%%\n"
        },
        "id": "LmEqnrJvjdEY",
        "outputId": "3e6be7f8-eab1-4f98-f175-10892b6b4d3b",
        "colab": {
          "base_uri": "https://localhost:8080/"
        }
      },
      "outputs": [
        {
          "output_type": "execute_result",
          "data": {
            "text/plain": [
              "array([1, 2, 3, 4, 5, 6, 7, 8, 9])"
            ]
          },
          "metadata": {},
          "execution_count": 10
        }
      ],
      "source": [
        "import numpy as np\n",
        "\n",
        "np.arange(1,10)"
      ]
    },
    {
      "cell_type": "code",
      "execution_count": 11,
      "metadata": {
        "pycharm": {
          "name": "#%%\n"
        },
        "id": "vBl_9mjWjdEY",
        "outputId": "c3c8220a-bf16-47bb-db90-befec754410d",
        "colab": {
          "base_uri": "https://localhost:8080/"
        }
      },
      "outputs": [
        {
          "output_type": "execute_result",
          "data": {
            "text/plain": [
              "array([1, 3, 5, 7, 9])"
            ]
          },
          "metadata": {},
          "execution_count": 11
        }
      ],
      "source": [
        "np.arange(1,10,2)\n"
      ]
    },
    {
      "cell_type": "code",
      "execution_count": 12,
      "metadata": {
        "pycharm": {
          "name": "#%%\n"
        },
        "id": "oVco8b84jdEY",
        "outputId": "2f45bee3-2bf0-4c9a-984b-1bc0ccaaeea2",
        "colab": {
          "base_uri": "https://localhost:8080/"
        }
      },
      "outputs": [
        {
          "output_type": "execute_result",
          "data": {
            "text/plain": [
              "array([1, 2, 3, 4])"
            ]
          },
          "metadata": {},
          "execution_count": 12
        }
      ],
      "source": [
        "a = np.array([1,2,3,4])\n",
        "a"
      ]
    },
    {
      "cell_type": "code",
      "execution_count": 13,
      "metadata": {
        "pycharm": {
          "name": "#%%\n"
        },
        "id": "MaJY7okVjdEY",
        "outputId": "8347abe3-f38e-43a5-c344-90fb8b53aeb7",
        "colab": {
          "base_uri": "https://localhost:8080/"
        }
      },
      "outputs": [
        {
          "output_type": "execute_result",
          "data": {
            "text/plain": [
              "4"
            ]
          },
          "metadata": {},
          "execution_count": 13
        }
      ],
      "source": [
        "len(a)"
      ]
    },
    {
      "cell_type": "code",
      "execution_count": 14,
      "metadata": {
        "pycharm": {
          "name": "#%%\n"
        },
        "id": "r9dZ2I1cjdEY",
        "outputId": "6657a087-4680-4e4d-f9ab-b750f1b789ef",
        "colab": {
          "base_uri": "https://localhost:8080/"
        }
      },
      "outputs": [
        {
          "output_type": "execute_result",
          "data": {
            "text/plain": [
              "1"
            ]
          },
          "metadata": {},
          "execution_count": 14
        }
      ],
      "source": [
        "min(a)"
      ]
    },
    {
      "cell_type": "code",
      "execution_count": 15,
      "metadata": {
        "pycharm": {
          "name": "#%%\n"
        },
        "id": "Lq5iq0wLjdEY",
        "outputId": "c5a1abae-aa3f-499f-b33b-8f6528d130bc",
        "colab": {
          "base_uri": "https://localhost:8080/"
        }
      },
      "outputs": [
        {
          "output_type": "execute_result",
          "data": {
            "text/plain": [
              "4"
            ]
          },
          "metadata": {},
          "execution_count": 15
        }
      ],
      "source": [
        "max(a)"
      ]
    },
    {
      "cell_type": "code",
      "execution_count": 16,
      "metadata": {
        "pycharm": {
          "name": "#%%\n"
        },
        "id": "9UkmAGMWjdEY",
        "outputId": "f985c333-3332-4ffd-bb6e-84c3c0b559e3",
        "colab": {
          "base_uri": "https://localhost:8080/"
        }
      },
      "outputs": [
        {
          "output_type": "execute_result",
          "data": {
            "text/plain": [
              "array([[1, 2, 3],\n",
              "       [5, 6, 4],\n",
              "       [7, 5, 2]])"
            ]
          },
          "metadata": {},
          "execution_count": 16
        }
      ],
      "source": [
        "b = np.array([[1,2,3],[5,6,4],[7,5,2]])\n",
        "b"
      ]
    },
    {
      "cell_type": "code",
      "execution_count": 17,
      "metadata": {
        "pycharm": {
          "name": "#%%\n"
        },
        "id": "b5esWO-kjdEY",
        "outputId": "3c93de99-c2a1-4e4a-8785-c81f40ae1dce",
        "colab": {
          "base_uri": "https://localhost:8080/"
        }
      },
      "outputs": [
        {
          "output_type": "execute_result",
          "data": {
            "text/plain": [
              "array([1, 2, 3])"
            ]
          },
          "metadata": {},
          "execution_count": 17
        }
      ],
      "source": [
        "b[0]"
      ]
    },
    {
      "cell_type": "code",
      "execution_count": 18,
      "metadata": {
        "pycharm": {
          "name": "#%%\n"
        },
        "id": "FAuybA42jdEY",
        "outputId": "9c7e53a0-ce04-4ff2-cd4b-6d83a15e12dd",
        "colab": {
          "base_uri": "https://localhost:8080/"
        }
      },
      "outputs": [
        {
          "output_type": "execute_result",
          "data": {
            "text/plain": [
              "array([2, 6, 5])"
            ]
          },
          "metadata": {},
          "execution_count": 18
        }
      ],
      "source": [
        "b[:,1]"
      ]
    },
    {
      "cell_type": "code",
      "execution_count": 19,
      "metadata": {
        "pycharm": {
          "name": "#%%\n"
        },
        "id": "iiin2sSgjdEY",
        "outputId": "061b5ccc-320d-4d70-e672-c319f6a3ac11",
        "colab": {
          "base_uri": "https://localhost:8080/"
        }
      },
      "outputs": [
        {
          "output_type": "execute_result",
          "data": {
            "text/plain": [
              "2"
            ]
          },
          "metadata": {},
          "execution_count": 19
        }
      ],
      "source": [
        "b[2,2]"
      ]
    },
    {
      "cell_type": "markdown",
      "metadata": {
        "pycharm": {
          "name": "#%% md\n"
        },
        "id": "2bT9d-TajdEY"
      },
      "source": [
        "# Revisar la indexación de matrices (filas columnas)"
      ]
    },
    {
      "cell_type": "code",
      "execution_count": 20,
      "metadata": {
        "pycharm": {
          "name": "#%%\n"
        },
        "id": "LjUpamlNjdEZ",
        "outputId": "b661a07a-7cff-425c-c285-c2c645efe644",
        "colab": {
          "base_uri": "https://localhost:8080/"
        }
      },
      "outputs": [
        {
          "output_type": "execute_result",
          "data": {
            "text/plain": [
              "array([[2, 3],\n",
              "       [6, 4]])"
            ]
          },
          "metadata": {},
          "execution_count": 20
        }
      ],
      "source": [
        "b[0:2, 1:3]"
      ]
    },
    {
      "cell_type": "code",
      "execution_count": 21,
      "metadata": {
        "pycharm": {
          "name": "#%%\n"
        },
        "id": "cEqER37_jdEZ",
        "outputId": "1488a791-bf6b-4dbb-f61f-2ddf7400aeaf",
        "colab": {
          "base_uri": "https://localhost:8080/"
        }
      },
      "outputs": [
        {
          "output_type": "execute_result",
          "data": {
            "text/plain": [
              "array([[0.90342401, 0.58932142, 0.07324244, 0.27745889, 0.46021333],\n",
              "       [0.38056811, 0.46400658, 0.35560715, 0.37066964, 0.74863922],\n",
              "       [0.97563226, 0.85909419, 0.51710919, 0.45480557, 0.47062828],\n",
              "       [0.93999803, 0.17216456, 0.58320958, 0.34955163, 0.63743231],\n",
              "       [0.38397102, 0.19751437, 0.61551982, 0.42203672, 0.60067779]])"
            ]
          },
          "metadata": {},
          "execution_count": 21
        }
      ],
      "source": [
        "a = np.random.rand(5,5)\n",
        "a"
      ]
    },
    {
      "cell_type": "code",
      "execution_count": 22,
      "metadata": {
        "pycharm": {
          "name": "#%%\n"
        },
        "id": "nC7UPJGhjdEZ",
        "outputId": "2dac959e-b49f-45c0-843a-3c3461960e3d",
        "colab": {
          "base_uri": "https://localhost:8080/"
        }
      },
      "outputs": [
        {
          "output_type": "execute_result",
          "data": {
            "text/plain": [
              "(5, 5)"
            ]
          },
          "metadata": {},
          "execution_count": 22
        }
      ],
      "source": [
        "a.shape"
      ]
    },
    {
      "cell_type": "code",
      "execution_count": 23,
      "metadata": {
        "pycharm": {
          "name": "#%%\n"
        },
        "id": "NvtLOFIZjdEZ",
        "outputId": "ae47b101-079a-497a-ac14-1495de2f89c9",
        "colab": {
          "base_uri": "https://localhost:8080/"
        }
      },
      "outputs": [
        {
          "output_type": "execute_result",
          "data": {
            "text/plain": [
              "array([[0.57549721, 0.1401788 , 0.3216924 , 0.99235767, 0.21671728],\n",
              "       [0.70317268, 0.8270079 , 0.86263437, 0.06926561, 0.86429784],\n",
              "       [0.77233483, 0.28551598, 0.39470395, 0.53811834, 0.26362553],\n",
              "       [0.88237347, 0.07930512, 0.08502776, 0.79019215, 0.27037543],\n",
              "       [0.06772661, 0.08943508, 0.70004735, 0.73246092, 0.67433324]])"
            ]
          },
          "metadata": {},
          "execution_count": 23
        }
      ],
      "source": [
        "b  = np.random.rand(5,5)\n",
        "b"
      ]
    },
    {
      "cell_type": "code",
      "execution_count": 24,
      "metadata": {
        "pycharm": {
          "name": "#%%\n"
        },
        "id": "cQATDEhHjdEZ",
        "outputId": "49623fd1-6b6d-4c76-9c06-8fb4e9390281",
        "colab": {
          "base_uri": "https://localhost:8080/"
        }
      },
      "outputs": [
        {
          "output_type": "execute_result",
          "data": {
            "text/plain": [
              "array([[1.47892122, 0.72950022, 0.39493484, 1.26981656, 0.67693061],\n",
              "       [1.0837408 , 1.29101448, 1.21824151, 0.43993524, 1.61293705],\n",
              "       [1.74796709, 1.14461018, 0.91181314, 0.99292391, 0.73425381],\n",
              "       [1.8223715 , 0.25146968, 0.66823734, 1.13974378, 0.90780774],\n",
              "       [0.45169764, 0.28694945, 1.31556717, 1.15449764, 1.27501104]])"
            ]
          },
          "metadata": {},
          "execution_count": 24
        }
      ],
      "source": [
        "a + b"
      ]
    },
    {
      "cell_type": "code",
      "execution_count": 25,
      "metadata": {
        "pycharm": {
          "name": "#%%\n"
        },
        "id": "MXEH7zi2jdEZ",
        "outputId": "b26bae88-7be9-4509-e3e6-cbfda03304fe",
        "colab": {
          "base_uri": "https://localhost:8080/"
        }
      },
      "outputs": [
        {
          "output_type": "execute_result",
          "data": {
            "text/plain": [
              "array([[ 0.3279268 ,  0.44914262, -0.24844996, -0.71489878,  0.24349606],\n",
              "       [-0.32260457, -0.36300133, -0.50702722,  0.30140403, -0.11565862],\n",
              "       [ 0.20329743,  0.57357821,  0.12240524, -0.08331277,  0.20700275],\n",
              "       [ 0.05762456,  0.09285945,  0.49818183, -0.44064052,  0.36705689],\n",
              "       [ 0.31624441,  0.10807929, -0.08452753, -0.3104242 , -0.07365545]])"
            ]
          },
          "metadata": {},
          "execution_count": 25
        }
      ],
      "source": [
        "a-b"
      ]
    },
    {
      "cell_type": "code",
      "execution_count": 26,
      "metadata": {
        "pycharm": {
          "name": "#%%\n"
        },
        "id": "UrwtsArbjdEZ",
        "outputId": "6fdfdac0-a680-44b8-c6e7-d4c0fffa0b8a",
        "colab": {
          "base_uri": "https://localhost:8080/"
        }
      },
      "outputs": [
        {
          "output_type": "execute_result",
          "data": {
            "text/plain": [
              "array([[0.519918  , 0.08261037, 0.02356154, 0.27533846, 0.09973618],\n",
              "       [0.2676051 , 0.38373711, 0.30675895, 0.02567466, 0.64704726],\n",
              "       [0.75351478, 0.24528512, 0.20410504, 0.24473922, 0.12406963],\n",
              "       [0.82942932, 0.01365353, 0.049589  , 0.27621296, 0.17234603],\n",
              "       [0.02600506, 0.01766471, 0.43089302, 0.30912541, 0.40505701]])"
            ]
          },
          "metadata": {},
          "execution_count": 26
        }
      ],
      "source": [
        "a*b"
      ]
    },
    {
      "cell_type": "code",
      "execution_count": 27,
      "metadata": {
        "pycharm": {
          "name": "#%%\n"
        },
        "id": "J22K6j2vjdEZ",
        "outputId": "9439754d-28e5-4826-aa60-025eb53a1d0d",
        "colab": {
          "base_uri": "https://localhost:8080/"
        }
      },
      "outputs": [
        {
          "output_type": "execute_result",
          "data": {
            "text/plain": [
              "array([[1.56981475, 4.20406957, 0.22767849, 0.27959565, 2.1235655 ],\n",
              "       [0.54121573, 0.56106668, 0.41223392, 5.35142424, 0.86618199],\n",
              "       [1.26322447, 3.00891803, 1.31011911, 0.8451776 , 1.7852151 ],\n",
              "       [1.06530631, 2.17091367, 6.8590494 , 0.44236283, 2.35758228],\n",
              "       [5.66942607, 2.20846639, 0.87925456, 0.57619009, 0.89077292]])"
            ]
          },
          "metadata": {},
          "execution_count": 27
        }
      ],
      "source": [
        "a/b"
      ]
    },
    {
      "cell_type": "code",
      "execution_count": 28,
      "metadata": {
        "pycharm": {
          "name": "#%%\n"
        },
        "id": "RDNn6xnTjdEZ",
        "outputId": "09b311f2-5041-4506-b948-85d3e3aa2d7c",
        "colab": {
          "base_uri": "https://localhost:8080/"
        }
      },
      "outputs": [
        {
          "output_type": "execute_result",
          "data": {
            "text/plain": [
              "array([[0.90342401, 0.38056811, 0.97563226, 0.93999803, 0.38397102],\n",
              "       [0.58932142, 0.46400658, 0.85909419, 0.17216456, 0.19751437],\n",
              "       [0.07324244, 0.35560715, 0.51710919, 0.58320958, 0.61551982],\n",
              "       [0.27745889, 0.37066964, 0.45480557, 0.34955163, 0.42203672],\n",
              "       [0.46021333, 0.74863922, 0.47062828, 0.63743231, 0.60067779]])"
            ]
          },
          "metadata": {},
          "execution_count": 28
        }
      ],
      "source": [
        "np.transpose(a)"
      ]
    },
    {
      "cell_type": "code",
      "execution_count": 29,
      "metadata": {
        "pycharm": {
          "name": "#%%\n"
        },
        "id": "z6JDWGoOjdEZ",
        "outputId": "7249c347-7373-4697-ac87-a4d39bfc0c6c",
        "colab": {
          "base_uri": "https://localhost:8080/"
        }
      },
      "outputs": [
        {
          "output_type": "execute_result",
          "data": {
            "text/plain": [
              "array([[ 1.10689996,  1.69686687, 13.65328614,  3.60413752,  2.17290532],\n",
              "       [ 2.62765051,  2.15514186,  2.81209195,  2.6978201 ,  1.3357569 ],\n",
              "       [ 1.02497636,  1.16401671,  1.93382755,  2.19874176,  2.12481918],\n",
              "       [ 1.06383202,  5.80839628,  1.71464946,  2.86080769,  1.56879402],\n",
              "       [ 2.6043632 ,  5.06292282,  1.62464305,  2.36946205,  1.66478603]])"
            ]
          },
          "metadata": {},
          "execution_count": 29
        }
      ],
      "source": [
        "1/a"
      ]
    },
    {
      "cell_type": "markdown",
      "source": [
        "## PROBLEMAS"
      ],
      "metadata": {
        "id": "OJuE4JEajeI_"
      }
    },
    {
      "cell_type": "markdown",
      "source": [
        "1. Escribe una función **suma_matrices** que tome dos matrices **NumPy** como argumentos y devuelva una nueva matriz que sea la suma de las dos matrices originales. No utilices la operación de suma incorporada de NumPy (+)."
      ],
      "metadata": {
        "id": "gan8dp57jmqX"
      }
    },
    {
      "cell_type": "code",
      "source": [
        "import numpy as np\n",
        "\n",
        "def suma_matrices(A, B):\n",
        "   # Validar que las matrices tengan la misma dimensión\n",
        "    if A.shape != B.shape:\n",
        "        raise ValueError(\"Las matrices deben tener la misma dimensión para ser sumadas.\")\n",
        "\n",
        "    # Obtener las dimensiones de las matrices\n",
        "    filas, columnas = A.shape\n",
        "\n",
        "    # Crear una matriz vacía para almacenar la suma\n",
        "    suma = np.empty((filas, columnas), dtype=int)\n",
        "\n",
        "    # Iterar sobre los elementos de las matrices y sumarlos\n",
        "    for i in range(filas):\n",
        "        for j in range(columnas):\n",
        "            suma[i, j] = A[i, j] + B[i, j]\n",
        "\n",
        "    return suma\n",
        "\n",
        "# Pruebas\n",
        "A = np.array([[1, 2], [3, 4]])\n",
        "B = np.array([[5, 6], [7, 8]])\n",
        "assert np.array_equal(suma_matrices(A, B), np.array([[6, 8], [10, 12]]))"
      ],
      "metadata": {
        "id": "RqVmsQR3jszO"
      },
      "execution_count": 30,
      "outputs": []
    },
    {
      "cell_type": "markdown",
      "source": [
        "2. Escribe una función **transpuesta** que tome una matriz **NumPy** como argumento y **devuelva su transpuesta**. No utilices la propiedad T de NumPy."
      ],
      "metadata": {
        "id": "rbWnPtUjkPh5"
      }
    },
    {
      "cell_type": "code",
      "source": [
        "import numpy as np\n",
        "\n",
        "def transpuesta(A):\n",
        "  # Obtener las dimensiones de la matriz de entrada\n",
        "    filas, columnas = A.shape\n",
        "\n",
        "    # Crear una matriz vacía con las dimensiones intercambiadas\n",
        "    transpuesta_A = np.empty((columnas, filas), dtype=A.dtype)\n",
        "\n",
        "    # Iterar sobre las filas y columnas originales\n",
        "    for i in range(filas):\n",
        "        for j in range(columnas):\n",
        "            # Intercambiar filas por columnas al copiar los elementos\n",
        "            transpuesta_A[j, i] = A[i, j]\n",
        "\n",
        "    return transpuesta_A\n",
        "\n",
        "# Pruebas\n",
        "A = np.array([[1, 2, 3], [4, 5, 6]])\n",
        "assert np.array_equal(transpuesta(A), np.array([[1, 4], [2, 5], [3, 6]]))"
      ],
      "metadata": {
        "id": "XE1LFSPmkgyw"
      },
      "execution_count": 31,
      "outputs": []
    },
    {
      "cell_type": "markdown",
      "source": [
        "3. Escribe una función **multiplicar_matrices** que tome dos matrices **NumPy** como argumentos y devuelva una nueva matriz que sea el resultado de la multiplicación de las dos matrices originales. No utilices la operación de multiplicación de matrices incorporada de NumPy (@ o np.dot)."
      ],
      "metadata": {
        "id": "F1HYoqkdkw8K"
      }
    },
    {
      "cell_type": "code",
      "source": [
        "import numpy as np\n",
        "\n",
        "def multiplicar_matrices(A, B):\n",
        "   # Validar las dimensiones para la multiplicación matricial\n",
        "    if A.shape[1] != B.shape[0]:\n",
        "        raise ValueError(\"Las dimensiones de las matrices no permiten la multiplicación matricial.\")\n",
        "\n",
        "    # Obtener las dimensiones de las matrices de entrada\n",
        "    filas_A, columnas_A = A.shape\n",
        "    filas_B, columnas_B = B.shape\n",
        "\n",
        "    # Crear una matriz vacía para el resultado\n",
        "    resultado = np.empty((filas_A, columnas_B), dtype=A.dtype)\n",
        "\n",
        "    # Realizar la multiplicación matricial\n",
        "    for i in range(filas_A):\n",
        "        for j in range(columnas_B):\n",
        "            suma = 0\n",
        "            for k in range(columnas_A):\n",
        "                suma += A[i, k] * B[k, j]\n",
        "            resultado[i, j] = suma\n",
        "\n",
        "    return resultado\n",
        "\n",
        "# Pruebas\n",
        "A = np.array([[1, 2], [3, 4]])\n",
        "B = np.array([[2, 0], [1, 2]])\n",
        "assert np.array_equal(multiplicar_matrices(A, B), np.array([[4, 4], [10, 8]]))"
      ],
      "metadata": {
        "id": "9-Aa0AHNk6sK"
      },
      "execution_count": 32,
      "outputs": []
    }
  ],
  "metadata": {
    "kernelspec": {
      "display_name": "Python 3",
      "language": "python",
      "name": "python3"
    },
    "language_info": {
      "codemirror_mode": {
        "name": "ipython",
        "version": 3
      },
      "file_extension": ".py",
      "mimetype": "text/x-python",
      "name": "python",
      "nbconvert_exporter": "python",
      "pygments_lexer": "ipython3",
      "version": "3.6.5"
    },
    "colab": {
      "provenance": [],
      "include_colab_link": true
    }
  },
  "nbformat": 4,
  "nbformat_minor": 0
}
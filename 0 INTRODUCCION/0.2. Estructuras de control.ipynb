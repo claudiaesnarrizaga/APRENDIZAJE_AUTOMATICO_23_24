{
  "cells": [
    {
      "cell_type": "markdown",
      "metadata": {
        "id": "view-in-github",
        "colab_type": "text"
      },
      "source": [
        "<a href=\"https://colab.research.google.com/github/claudiaesnarrizaga/APRENDIZAJE_AUTOMATICO_23_24/blob/main/0%20INTRODUCCION/0.2.%20Estructuras%20de%20control.ipynb\" target=\"_parent\"><img src=\"https://colab.research.google.com/assets/colab-badge.svg\" alt=\"Open In Colab\"/></a>"
      ]
    },
    {
      "cell_type": "code",
      "execution_count": 1,
      "metadata": {
        "pycharm": {
          "name": "#%%\n"
        },
        "id": "ernuRavfc8K-",
        "outputId": "4b724edb-abf0-4959-ba95-9d242b06db4d",
        "colab": {
          "base_uri": "https://localhost:8080/"
        }
      },
      "outputs": [
        {
          "output_type": "stream",
          "name": "stdout",
          "text": [
            "x es menor\n"
          ]
        }
      ],
      "source": [
        "x=2\n",
        "y=4\n",
        "if x<y:\n",
        "    print (\"x es menor\")"
      ]
    },
    {
      "cell_type": "code",
      "execution_count": 2,
      "metadata": {
        "pycharm": {
          "name": "#%%\n"
        },
        "id": "lfkx5-6Kc8K_",
        "outputId": "b7e9d4b3-0169-44c0-cc3a-04235e0b4d0c",
        "colab": {
          "base_uri": "https://localhost:8080/"
        }
      },
      "outputs": [
        {
          "output_type": "stream",
          "name": "stdout",
          "text": [
            "x es mayor\n"
          ]
        }
      ],
      "source": [
        "x=4\n",
        "y=2\n",
        "if x<y:\n",
        "    print (\"x es menor\")\n",
        "elif x>y:\n",
        "    print (\"x es mayor\")"
      ]
    },
    {
      "cell_type": "code",
      "execution_count": 3,
      "metadata": {
        "pycharm": {
          "name": "#%%\n"
        },
        "id": "rG42yjWgc8K_",
        "outputId": "b9133aac-bc85-4f3e-bdf5-6106b577b2d7",
        "colab": {
          "base_uri": "https://localhost:8080/"
        }
      },
      "outputs": [
        {
          "output_type": "stream",
          "name": "stdout",
          "text": [
            "son iguales\n"
          ]
        }
      ],
      "source": [
        "x=2\n",
        "y=2\n",
        "if x<y:\n",
        "    print (\"x es menor\")\n",
        "elif x>y:\n",
        "    print (\"x es mayor\")\n",
        "else:\n",
        "    print (\"son iguales\")"
      ]
    },
    {
      "cell_type": "code",
      "execution_count": 4,
      "metadata": {
        "pycharm": {
          "name": "#%%\n"
        },
        "id": "JYejh9kJc8K_"
      },
      "outputs": [],
      "source": [
        "def comparador(x,y):\n",
        "    if x<y:\n",
        "        print (\"x es menor\")\n",
        "    elif x>y:\n",
        "        print (\"x es mayor\")\n",
        "    else:\n",
        "        print (\"son iguales\")"
      ]
    },
    {
      "cell_type": "code",
      "execution_count": 5,
      "metadata": {
        "pycharm": {
          "name": "#%%\n"
        },
        "id": "web7vFGPc8K_",
        "outputId": "6a4bac71-5507-4538-8cc9-48535e8c0f18",
        "colab": {
          "base_uri": "https://localhost:8080/"
        }
      },
      "outputs": [
        {
          "output_type": "stream",
          "name": "stdout",
          "text": [
            "x es menor\n"
          ]
        }
      ],
      "source": [
        "comparador(2,4)"
      ]
    },
    {
      "cell_type": "code",
      "execution_count": 6,
      "metadata": {
        "pycharm": {
          "name": "#%%\n"
        },
        "id": "puA-G13tc8LA",
        "outputId": "62b50c11-d836-4660-d366-5e576595447e",
        "colab": {
          "base_uri": "https://localhost:8080/"
        }
      },
      "outputs": [
        {
          "output_type": "stream",
          "name": "stdout",
          "text": [
            "x es mayor\n"
          ]
        }
      ],
      "source": [
        "comparador(3.4,1.2)"
      ]
    },
    {
      "cell_type": "code",
      "execution_count": 7,
      "metadata": {
        "pycharm": {
          "name": "#%%\n"
        },
        "id": "piVDflM8c8LA",
        "outputId": "c4f5bad7-fcdf-4418-f12e-13a9dabb8510",
        "colab": {
          "base_uri": "https://localhost:8080/"
        }
      },
      "outputs": [
        {
          "output_type": "stream",
          "name": "stdout",
          "text": [
            "0\n",
            "1\n",
            "2\n",
            "3\n",
            "4\n",
            "5\n",
            "6\n",
            "7\n",
            "8\n",
            "9\n"
          ]
        }
      ],
      "source": [
        "#Reseñar la posibilidad de bucle infinito\n",
        "i=0\n",
        "while i<10:\n",
        "    print (i)\n",
        "    i+=1"
      ]
    },
    {
      "cell_type": "code",
      "execution_count": 8,
      "metadata": {
        "pycharm": {
          "name": "#%%\n"
        },
        "id": "EWrW3hV2c8LA",
        "outputId": "7671e45e-f113-43e1-c765-5ff8ee16dca0",
        "colab": {
          "base_uri": "https://localhost:8080/"
        }
      },
      "outputs": [
        {
          "output_type": "stream",
          "name": "stdout",
          "text": [
            "0\n",
            "1\n",
            "2\n",
            "3\n",
            "4\n",
            "5\n",
            "6\n",
            "7\n",
            "8\n",
            "9\n"
          ]
        }
      ],
      "source": [
        "for i in range(0,10):\n",
        "    print (i)"
      ]
    },
    {
      "cell_type": "code",
      "execution_count": 9,
      "metadata": {
        "pycharm": {
          "name": "#%%\n"
        },
        "id": "GkU5qAp6c8LA",
        "outputId": "162e40a1-bc4b-418a-e447-5c7f82a346c0",
        "colab": {
          "base_uri": "https://localhost:8080/"
        }
      },
      "outputs": [
        {
          "output_type": "stream",
          "name": "stdout",
          "text": [
            "i\n",
            "P\n",
            "y\n",
            "t\n",
            "h\n",
            "o\n",
            "n\n"
          ]
        }
      ],
      "source": [
        "for i in \"iPython\":\n",
        "    print (i)"
      ]
    },
    {
      "cell_type": "code",
      "execution_count": 10,
      "metadata": {
        "pycharm": {
          "name": "#%%\n"
        },
        "id": "mx7hAypdc8LA",
        "outputId": "0bd90b2a-dec0-4bd1-b527-0d9b102b45e6",
        "colab": {
          "base_uri": "https://localhost:8080/"
        }
      },
      "outputs": [
        {
          "output_type": "stream",
          "name": "stdout",
          "text": [
            "Curso\n",
            "de\n",
            "iPtyhon\n"
          ]
        }
      ],
      "source": [
        "for i in \"Curso\",\"de\",\"iPtyhon\":\n",
        "    print (i)"
      ]
    },
    {
      "cell_type": "code",
      "execution_count": 11,
      "metadata": {
        "pycharm": {
          "name": "#%%\n"
        },
        "id": "vdYTOZJrc8LA",
        "outputId": "8355be16-3cbf-4a3b-ac36-e05aba8c32ff",
        "colab": {
          "base_uri": "https://localhost:8080/"
        }
      },
      "outputs": [
        {
          "output_type": "stream",
          "name": "stdout",
          "text": [
            "0\n",
            "1\n",
            "2\n",
            "3\n",
            "4\n"
          ]
        }
      ],
      "source": [
        "for i in range(0,10):\n",
        "    print (i)\n",
        "    if i==4:\n",
        "        break"
      ]
    },
    {
      "cell_type": "code",
      "execution_count": 12,
      "metadata": {
        "pycharm": {
          "name": "#%%\n"
        },
        "id": "JP9mR6-sc8LA",
        "outputId": "75bb86d9-edb7-42cb-819c-11b666c24a91",
        "colab": {
          "base_uri": "https://localhost:8080/"
        }
      },
      "outputs": [
        {
          "output_type": "stream",
          "name": "stdout",
          "text": [
            "1 es impar\n",
            "2 es par\n",
            "3 es impar\n",
            "4 es par\n",
            "5 es impar\n",
            "6 es par\n",
            "7 es impar\n",
            "8 es par\n",
            "9 es impar\n",
            "10 es par\n"
          ]
        }
      ],
      "source": [
        "i=1\n",
        "while i<=10:\n",
        "    if i%2==0:\n",
        "        print (str(i)+\" es par\")\n",
        "    else:\n",
        "        print (str(i)+\" es impar\")\n",
        "    i+=1"
      ]
    },
    {
      "cell_type": "markdown",
      "source": [
        "## PROBLEMAS"
      ],
      "metadata": {
        "id": "oqAIQOQSdITs"
      }
    },
    {
      "cell_type": "markdown",
      "source": [
        "1. Escribe una función **invertir_lista** que tome una lista como argumento y devuelva una nueva lista que contiene los elementos de la lista original en orden inverso. No se permite utilizar la función incorporada **reverse()** o la notación de slice **[::-1]**"
      ],
      "metadata": {
        "id": "zO5dbzdidXsD"
      }
    },
    {
      "cell_type": "code",
      "source": [
        "def invertir_lista(lista):\n",
        "  lista_invertida = []\n",
        "  for elemento in lista:\n",
        "      lista_invertida.insert(0, elemento)\n",
        "  return lista_invertida\n",
        "\n",
        "# Pruebas\n",
        "assert invertir_lista([1, 2, 3]) == [3, 2, 1]\n",
        "assert invertir_lista([\"a\", \"b\", \"c\"]) == [\"c\", \"b\", \"a\"]\n",
        "assert invertir_lista([]) == []\n",
        "assert invertir_lista([1]) == [1]"
      ],
      "metadata": {
        "id": "RLk0hOVfdgXQ"
      },
      "execution_count": 16,
      "outputs": []
    },
    {
      "cell_type": "markdown",
      "source": [
        "2. Escribe una función **contar_ocurrencias** que tome una lista y un elemento como argumentos. La función debe devolver el número de veces que aparece el elemento en la lista."
      ],
      "metadata": {
        "id": "5Ni2M3Bbd5MH"
      }
    },
    {
      "cell_type": "code",
      "source": [
        "def contar_ocurrencias(lista, elemento):\n",
        "  contador = 0\n",
        "  for item in lista:\n",
        "      if item == elemento:\n",
        "          contador += 1\n",
        "  return contador\n",
        "\n",
        "# Pruebas\n",
        "assert contar_ocurrencias([1, 2, 3, 4, 1, 2, 1], 1) == 3\n",
        "assert contar_ocurrencias([\"a\", \"b\", \"a\"], \"a\") == 2\n",
        "assert contar_ocurrencias([], \"a\") == 0\n",
        "assert contar_ocurrencias([1, 2, 3], 4) == 0"
      ],
      "metadata": {
        "id": "BYKPPL92eCT6"
      },
      "execution_count": 17,
      "outputs": []
    },
    {
      "cell_type": "markdown",
      "source": [
        "3. Escribe una función **es_palindromo** que tome una cadena como argumento y devuelva **True** si la cadena es un palíndromo (se lee igual de izquierda a derecha que de derecha a izquierda) o **False** si no lo es. Ignora las diferencias entre mayúsculas y minúsculas"
      ],
      "metadata": {
        "id": "N2dIncYAeYkb"
      }
    },
    {
      "cell_type": "code",
      "source": [
        "def es_palindromo(cadena):\n",
        "  # Convertir la cadena a minúsculas y eliminar espacios en blanco\n",
        "    cadena = cadena.lower().replace(\" \", \"\")\n",
        "    # Verificar si la cadena es igual a su reverso\n",
        "    return cadena == cadena[::-1]\n",
        "\n",
        "# Pruebas\n",
        "assert es_palindromo(\"Anilina\") == True\n",
        "assert es_palindromo(\"Radar\") == True\n",
        "assert es_palindromo(\"Python\") == False\n",
        "assert es_palindromo(\"a\") == True"
      ],
      "metadata": {
        "id": "Tlv5CnzKek2s"
      },
      "execution_count": 18,
      "outputs": []
    }
  ],
  "metadata": {
    "kernelspec": {
      "display_name": "Python 3",
      "language": "python",
      "name": "python3"
    },
    "language_info": {
      "codemirror_mode": {
        "name": "ipython",
        "version": 3
      },
      "file_extension": ".py",
      "mimetype": "text/x-python",
      "name": "python",
      "nbconvert_exporter": "python",
      "pygments_lexer": "ipython3",
      "version": "3.6.5"
    },
    "colab": {
      "provenance": [],
      "include_colab_link": true
    }
  },
  "nbformat": 4,
  "nbformat_minor": 0
}
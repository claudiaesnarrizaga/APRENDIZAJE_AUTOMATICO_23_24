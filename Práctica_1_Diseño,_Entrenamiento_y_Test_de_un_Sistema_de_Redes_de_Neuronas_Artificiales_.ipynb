{
  "nbformat": 4,
  "nbformat_minor": 0,
  "metadata": {
    "colab": {
      "provenance": [],
      "authorship_tag": "ABX9TyM+QehU8YgxloZaGXwqsiqK",
      "include_colab_link": true
    },
    "kernelspec": {
      "name": "python3",
      "display_name": "Python 3"
    },
    "language_info": {
      "name": "python"
    }
  },
  "cells": [
    {
      "cell_type": "markdown",
      "metadata": {
        "id": "view-in-github",
        "colab_type": "text"
      },
      "source": [
        "<a href=\"https://colab.research.google.com/github/claudiaesnarrizaga/APRENDIZAJE_AUTOMATICO_23_24/blob/main/Pr%C3%A1ctica_1_Dise%C3%B1o%2C_Entrenamiento_y_Test_de_un_Sistema_de_Redes_de_Neuronas_Artificiales_.ipynb\" target=\"_parent\"><img src=\"https://colab.research.google.com/assets/colab-badge.svg\" alt=\"Open In Colab\"/></a>"
      ]
    },
    {
      "cell_type": "markdown",
      "source": [
        "# Práctica 1 - Diseño, Entrenamiento y Test de un Sistema de Redes de Neuronas.\n",
        "###Grupo B03\n",
        "Integrantes: Celia Díaz, Jaime Martínez, Claudia Esnarrizaga\n"
      ],
      "metadata": {
        "id": "_ydjxRp8qcZ7"
      }
    },
    {
      "cell_type": "markdown",
      "source": [
        "###**ENUNCIADO**\n",
        "Crea un modelo de Red de Neuronas Artificiales que sea capaz de **reconocer** y **clasificar imágenes de ropa** en sus diferentes **tipologías**. Este modelo será **definido**, **configurado**, **entrenado**, **evaluado** y **mejorado** para posteriormente usarlo para hacer **predicciones**.\n",
        "Para ello, tendréis que crear un modelo en **Keras** aplicando de una tirada todos los pasos al conjunto de datos **Fashion-MNIST**, precargado en Keras y muy parecido al que vimos en clase de reconocimiento de cifras.\n",
        "Fashion_MNIST es un conjunto de datos de las imágenes de los artículos de Zalando (www.zalando.com), una tienda de moda online alemana especializada en ventas de ropa y zapatos. El conjunto de datos contiene 70k imágenes en escala de grises en 10 categorías. Estas imágenes muestran prendas individuales de ropa en baja resolución (28 x 28 píxeles).\n",
        "Se usan 60k imágenes para entrenar la red y 10k imágenes para evaluar la **precisión** con la que la red aprende a clasificar las imágenes."
      ],
      "metadata": {
        "id": "ZVGEJX5PDRCO"
      }
    },
    {
      "cell_type": "markdown",
      "source": [
        "####**Cuestiones a tener en cuenta**\n",
        "\n",
        "1. Importar todas las librerías\n",
        "requeridas\n",
        "2. Asegurar que estamos ejecutando la versión 2.0.0 (o superior) de TensorFlow\n",
        "3. Cargar datos de entrenamiento y de Test a partir de *keras.datasets.fashion_mnist*\n",
        "4. Analizar si los datos tienen la forma esperada\n",
        "5. Analizar el uso de la función de keras *keras.layers.Flatten()*\n",
        "\n",
        "\n"
      ],
      "metadata": {
        "id": "z82Iy9mvEnCf"
      }
    },
    {
      "cell_type": "code",
      "source": [
        "# 1._ IMPORTAMOS KERAS\n",
        "%tensorflow_version 2.x # Metasentencia: asegurarme de que estoy usando la versión por encima de la versión 2\n",
        "import tensorflow as tf # tensorflow (librería): matrices, tensores\n",
        "from tensorflow import keras # Usamos keras metido dentro de tensorflow"
      ],
      "metadata": {
        "colab": {
          "base_uri": "https://localhost:8080/"
        },
        "id": "OE72ZKwfMknb",
        "outputId": "47fc53a8-b185-4043-eb23-1a67f323175a"
      },
      "execution_count": 23,
      "outputs": [
        {
          "output_type": "stream",
          "name": "stdout",
          "text": [
            "Colab only includes TensorFlow 2.x; %tensorflow_version has no effect.\n"
          ]
        }
      ]
    },
    {
      "cell_type": "code",
      "source": [
        "# 2._ VERSIÓN TENSORFLOW >= 2.0.0\n",
        "print(\"GPU Available:\", tf.config.list_physical_devices('GPU'))\n",
        "print(tf.__version__) # Vemos qué versión estamos utilizando"
      ],
      "metadata": {
        "colab": {
          "base_uri": "https://localhost:8080/"
        },
        "id": "q1zbJrZ7MxtA",
        "outputId": "8d931e99-090c-47e8-a101-a5b58bc24d8d"
      },
      "execution_count": 24,
      "outputs": [
        {
          "output_type": "stream",
          "name": "stdout",
          "text": [
            "GPU Available: []\n",
            "2.13.0\n"
          ]
        }
      ]
    },
    {
      "cell_type": "code",
      "source": [
        "# 3._ CARGAMOS EL CONJUNTO DE DATOS FASHION-MINIST EN KERAS\n",
        "from keras.datasets import fashion_mnist # De todos los conjuntos de datos impórtame mnist\n",
        "(train_images, train_labels), (test_images, test_labels) = fashion_mnist.load_data() # Llama a una función, cargar datos"
      ],
      "metadata": {
        "id": "l5uhc5GnM0YP"
      },
      "execution_count": 25,
      "outputs": []
    },
    {
      "cell_type": "markdown",
      "source": [
        "Para comprobar la forma de los datos, imprimiremos una de las imágenes, elegida de forma aleatoria, y dependiendo del número que nos devuelva, sabremos qué prenda es gracias a la siguiente tabla:"
      ],
      "metadata": {
        "id": "uFeNCHLeNCjd"
      }
    },
    {
      "cell_type": "markdown",
      "source": [
        "![Captura de pantalla 2023-10-10 172232.png](data:image/png;base64,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)"
      ],
      "metadata": {
        "id": "Xqw4CXloLnL_"
      }
    },
    {
      "cell_type": "code",
      "execution_count": 26,
      "metadata": {
        "id": "f6P1iqEemblr",
        "colab": {
          "base_uri": "https://localhost:8080/"
        },
        "outputId": "f3a6125b-7e10-41d5-9671-ae9928998357"
      },
      "outputs": [
        {
          "output_type": "stream",
          "name": "stdout",
          "text": [
            "(60000, 28, 28)\n",
            "[[  0   0   0   0   0   0   0   0   0   0   0  13   4   0   0   0  30   0   0   0   0   0   0   0   0   0   0   0]\n",
            " [  0   0   0   0   0   0   0   0   0  67 189 228 255 172 124 255 235 201  94   0   0   0   0   0   0   0   0   0]\n",
            " [  0   0   0   0   0   0   0   0  52 246 244 227 217 233 235 229 233 239 255  99   0   0   0   0   0   0   0   0]\n",
            " [  0   0   0   0   0   0   0   0 180 246 226 232 229 223 228 235 234 230 244 216   0   0   0   0   0   0   0   0]\n",
            " [  0   0   0   0   0   0   0   0 217 242 229 233 235 235 236 236 233 231 241 240   0   0   0   0   0   0   0   0]\n",
            " [  0   0   0   0   0   0   0   0 244 242 239 233 233 233 232 234 234 239 239 255   0   0   0   0   0   0   0   0]\n",
            " [  0   0   0   0   0   0   0   0 227 230 215 250 233 233 233 236 246 220 227 239   7   0   0   0   0   0   0   0]\n",
            " [  0   0   0   0   0   0   0  14 249 178 120 255 227 240 241 227 255 108 148 255  49   0   0   0   0   0   0   0]\n",
            " [  0   0   0   0   0   0   0  62 255 136  65 255 231 219 215 233 255  69 100 255  99   0   0   0   0   0   0   0]\n",
            " [  0   0   0   0   0   0   0 104 255  58  13 255 233 211 203 231 255  52  28 255 147   0   0   0   0   0   0   0]\n",
            " [  0   0   0   0   0   0   0 136 255   0  31 255 223 242 244 223 255  51   0 255 184   0   0   0   0   0   0   0]\n",
            " [  0   0   0   0   0   0   0 186 255   0 119 255 226 230 233 227 255 140   0 255 195   0   0   0   0   0   0   0]\n",
            " [  0   0   0   0   0   0   0 198 255   0 216 254 229 234 235 233 246 239  35 255 191   0   0   0   0   0   0   0]\n",
            " [  0   0   0   0   0   0   0 200 255  39 250 239 232 235 235 234 234 255  77 255 197   0   0   0   0   0   0   0]\n",
            " [  0   0   0   0   0   0   0 193 255  65 255 231 235 236 236 236 230 255  67 246 206   0   0   0   0   0   0   0]\n",
            " [  0   0   0   0   0   0   0 185 247  73 255 229 236 236 236 237 232 255  75 243 198   0   0   0   0   0   0   0]\n",
            " [  0   0   0   0   0   0   0 175 242  71 255 229 237 236 236 237 230 255  74 249 183   0   0   0   0   0   0   0]\n",
            " [  0   0   0   0   0   0   0 163 234  56 255 227 236 236 236 236 229 255  63 250 177   0   0   0   0   0   0   0]\n",
            " [  0   0   0   0   0   0   0 187 255  45 255 227 236 236 236 237 231 255  56 255 183   0   0   0   0   0   0   0]\n",
            " [  0   0   0   0   0   0   0 155 188  37 255 233 235 235 237 236 235 255  41 255 182   0   0   0   0   0   0   0]\n",
            " [  0   0   0   0   0   0   0   0   0  16 255 233 236 236 236 235 237 255   0   0   0   0   0   0   0   0   0   0]\n",
            " [  0   0   0   0   0   0   0   0   0   1 255 235 236 236 236 234 240 255   0   0   0   0   0   0   0   0   0   0]\n",
            " [  0   0   0   0   0   0   0   2   0   0 228 236 235 236 236 232 242 252   0   0   2   0   0   0   0   0   0   0]\n",
            " [  0   0   0   0   0   0   0   2   0   0 220 239 233 236 236 234 245 230   0   0   1   0   0   0   0   0   0   0]\n",
            " [  0   0   0   0   0   0   0   2   0   0 214 241 235 238 237 234 247 207   0   0   0   0   0   0   0   0   0   0]\n",
            " [  0   0   0   0   0   0   0   1   0   0 204 240 232 229 230 230 246 177   0   0   0   0   0   0   0   0   0   0]\n",
            " [  0   0   0   0   0   0   0   1   0   0 248 255 246 255 255 245 255 167   0   4   0   0   0   0   0   0   0   0]\n",
            " [  0   0   0   0   0   0   0   0   0   0 109 169 146 156 153 139 173  71   0   1   0   0   0   0   0   0   0   0]]\n"
          ]
        }
      ],
      "source": [
        "# 4._ COMPROBAR FORMA DE LOS DATOS\n",
        "print(train_images.shape) # train_images: variable donde se me han guardado las imágenes (60000 imágenes/matrices de 28x28)\n",
        "# Vemos la matriz de la imagen número 2500 (28x28)\n",
        "import numpy as np\n",
        "np.set_printoptions(precision=2, suppress=True, linewidth=145)\n",
        "print(np.matrix(train_images[2500]))"
      ]
    },
    {
      "cell_type": "code",
      "source": [
        "train_labels[2500] # Cogemos la etiqueta asociada a la imagen 2500\n",
        "# La imagen corresponde con un vestido."
      ],
      "metadata": {
        "colab": {
          "base_uri": "https://localhost:8080/"
        },
        "id": "HUZhB-UyG_yu",
        "outputId": "565372d5-7c2f-4485-eb7a-ad51cfb8bd67"
      },
      "execution_count": 27,
      "outputs": [
        {
          "output_type": "execute_result",
          "data": {
            "text/plain": [
              "3"
            ]
          },
          "metadata": {},
          "execution_count": 27
        }
      ]
    },
    {
      "cell_type": "code",
      "source": [
        "# Veamos el elemento 2500 y pintémoslo con matplotlib\n",
        "import matplotlib.pyplot as plt\n",
        "digit = train_images[2500]\n",
        "plt.imshow(digit, cmap=plt.cm.binary) # imshow: muéstrame imagen, le paso una matriz y\n",
        "                                      # el mapeo de colores es cm.binary (número más bajo = blanco, número más alto = negro)\n",
        "plt.show()"
      ],
      "metadata": {
        "colab": {
          "base_uri": "https://localhost:8080/",
          "height": 430
        },
        "id": "Llo3aom9OvSx",
        "outputId": "415941ff-60a9-46aa-9516-27f9aa5c7b33"
      },
      "execution_count": 28,
      "outputs": [
        {
          "output_type": "display_data",
          "data": {
            "text/plain": [
              "<Figure size 640x480 with 1 Axes>"
            ],
            "image/png": "[encoded data removed]"
          },
          "metadata": {}
        }
      ]
    },
    {
      "cell_type": "markdown",
      "source": [
        "La función *keras.layers.Flatten()* se utiliza para aplanar una capa de datos en una sola dimensión. En el contexto de un modelo de red neuronal, se utiliza para transformar datos bidimensionales (como imágenes) en una forma unidimensional antes de pasarlos a capas densamente conectadas. En nuestro código, podríamos aplicarlo de la siguiente manera:"
      ],
      "metadata": {
        "id": "N6Z88UG3ODka"
      }
    },
    {
      "cell_type": "code",
      "source": [
        "# 5._ ANALIZAR FUNCIÓN keras.layers.Flatten()\n",
        "from tensorflow.keras.layers import Flatten\n",
        "# Añadimos una capa Flatten después de cargar los datos\n",
        "model = keras.Sequential([Flatten(input_shape = (28, 28))])"
      ],
      "metadata": {
        "id": "JwyMVINtN8Sq"
      },
      "execution_count": 29,
      "outputs": []
    },
    {
      "cell_type": "markdown",
      "source": [
        "Si agregamos una capa Flatten después de cargar los datos nos transformará las imágenes de 28x28 píxeles en un vector unidimensional de 784 elementos antes de pasarlos a las capas densas de la red neuronal. Esto es necesario porque las capas densas requieren entradas unidimensionales. No nos va a cambiar la forma en que cargamos o mostramos las imágenes, pero va a ser una parte esencial de la definición de nuestro modelo de red neuronal si planeamos usar capas densamente conectadas después de aplanar los datos."
      ],
      "metadata": {
        "id": "I875S_TeRWcn"
      }
    },
    {
      "cell_type": "markdown",
      "source": [
        "####**Cuestiones para implementar y responder**"
      ],
      "metadata": {
        "id": "hF5TnqooFUgo"
      }
    },
    {
      "cell_type": "code",
      "source": [],
      "metadata": {
        "id": "_Nx8NdfbFgb1"
      },
      "execution_count": 29,
      "outputs": []
    }
  ]
}
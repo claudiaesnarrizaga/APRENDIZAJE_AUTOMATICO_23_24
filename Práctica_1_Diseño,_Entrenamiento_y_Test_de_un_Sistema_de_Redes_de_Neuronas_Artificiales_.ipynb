{
  "nbformat": 4,
  "nbformat_minor": 0,
  "metadata": {
    "colab": {
      "provenance": [],
      "include_colab_link": true
    },
    "kernelspec": {
      "name": "python3",
      "display_name": "Python 3"
    },
    "language_info": {
      "name": "python"
    }
  },
  "cells": [
    {
      "cell_type": "markdown",
      "metadata": {
        "id": "view-in-github",
        "colab_type": "text"
      },
      "source": [
        "<a href=\"https://colab.research.google.com/github/claudiaesnarrizaga/APRENDIZAJE_AUTOMATICO_23_24/blob/main/Pr%C3%A1ctica_1_Dise%C3%B1o%2C_Entrenamiento_y_Test_de_un_Sistema_de_Redes_de_Neuronas_Artificiales_.ipynb\" target=\"_parent\"><img src=\"https://colab.research.google.com/assets/colab-badge.svg\" alt=\"Open In Colab\"/></a>"
      ]
    },
    {
      "cell_type": "markdown",
      "source": [
        "# Práctica 1 - Diseño, Entrenamiento y Test de un Sistema de Redes de Neuronas.\n",
        "###Grupo B03\n",
        "Integrantes: Celia Díaz, Jaime Martínez, Claudia Esnarrizaga\n"
      ],
      "metadata": {
        "id": "_ydjxRp8qcZ7"
      }
    },
    {
      "cell_type": "markdown",
      "source": [
        "##**Enunciado**\n",
        "Crea un modelo de Red de Neuronas Artificiales que sea capaz de **reconocer** y **clasificar imágenes de ropa** en sus diferentes **tipologías**. Este modelo será **definido**, **configurado**, **entrenado**, **evaluado** y **mejorado** para posteriormente usarlo para hacer **predicciones**.\n",
        "Para ello, tendréis que crear un modelo en **Keras** aplicando de una tirada todos los pasos al conjunto de datos **Fashion-MNIST**, precargado en Keras y muy parecido al que vimos en clase de reconocimiento de cifras.\n",
        "Fashion_MNIST es un conjunto de datos de las imágenes de los artículos de Zalando (www.zalando.com), una tienda de moda online alemana especializada en ventas de ropa y zapatos. El conjunto de datos contiene 70k imágenes en escala de grises en 10 categorías. Estas imágenes muestran prendas individuales de ropa en baja resolución (28 x 28 píxeles).\n",
        "Se usan 60k imágenes para entrenar la red y 10k imágenes para evaluar la **precisión** con la que la red aprende a clasificar las imágenes."
      ],
      "metadata": {
        "id": "ZVGEJX5PDRCO"
      }
    },
    {
      "cell_type": "markdown",
      "source": [
        "##**Cuestiones a tener en cuenta**\n",
        "\n",
        "1. Importar todas las librerías\n",
        "requeridas\n",
        "2. Asegurar que estamos ejecutando la versión 2.0.0 (o superior) de TensorFlow\n",
        "3. Cargar datos de entrenamiento y de Test a partir de *keras.datasets.fashion_mnist*\n",
        "4. Analizar si los datos tienen la forma esperada\n",
        "5. Analizar el uso de la función de keras *keras.layers.Flatten()*\n",
        "\n",
        "\n"
      ],
      "metadata": {
        "id": "z82Iy9mvEnCf"
      }
    },
    {
      "cell_type": "code",
      "source": [
        "# 1._ IMPORTAMOS KERAS\n",
        "%tensorflow_version 2.x # Metasentencia: asegurarme de que estoy usando la versión por encima de la versión 2\n",
        "import tensorflow as tf # tensorflow (librería): matrices, tensores\n",
        "from tensorflow import keras # Usamos keras metido dentro de tensorflow\n",
        "from keras.models import Sequential"
      ],
      "metadata": {
        "colab": {
          "base_uri": "https://localhost:8080/"
        },
        "id": "OE72ZKwfMknb",
        "outputId": "3af54105-197f-4a0f-99f6-dca19238a731"
      },
      "execution_count": 13,
      "outputs": [
        {
          "output_type": "stream",
          "name": "stdout",
          "text": [
            "Colab only includes TensorFlow 2.x; %tensorflow_version has no effect.\n"
          ]
        }
      ]
    },
    {
      "cell_type": "code",
      "source": [
        "# 2._ VERSIÓN TENSORFLOW >= 2.0.0\n",
        "print(\"GPU Available:\", tf.config.list_physical_devices('GPU'))\n",
        "print(tf.__version__) # Vemos qué versión estamos utilizando"
      ],
      "metadata": {
        "colab": {
          "base_uri": "https://localhost:8080/"
        },
        "id": "q1zbJrZ7MxtA",
        "outputId": "66b7d183-902e-4f71-b6d6-410b7213176d"
      },
      "execution_count": 14,
      "outputs": [
        {
          "output_type": "stream",
          "name": "stdout",
          "text": [
            "GPU Available: []\n",
            "2.13.0\n"
          ]
        }
      ]
    },
    {
      "cell_type": "code",
      "source": [
        "# 3._ CARGAMOS EL CONJUNTO DE DATOS FASHION-MINIST EN KERAS\n",
        "from keras.datasets import fashion_mnist # De todos los conjuntos de datos impórtame mnist\n",
        "(train_images, train_labels), (test_images, test_labels) = fashion_mnist.load_data() # Llama a una función, cargar datos"
      ],
      "metadata": {
        "id": "l5uhc5GnM0YP"
      },
      "execution_count": 15,
      "outputs": []
    },
    {
      "cell_type": "markdown",
      "source": [
        "Para comprobar la forma de los datos, imprimiremos una de las imágenes, elegida de forma aleatoria, y dependiendo del número que nos devuelva, sabremos qué prenda es gracias a la siguiente tabla:"
      ],
      "metadata": {
        "id": "uFeNCHLeNCjd"
      }
    },
    {
      "cell_type": "markdown",
      "source": [
        "![Captura de pantalla 2023-10-10 172232.png](data:image/png;base64,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)"
      ],
      "metadata": {
        "id": "Xqw4CXloLnL_"
      }
    },
    {
      "cell_type": "code",
      "execution_count": 16,
      "metadata": {
        "id": "f6P1iqEemblr",
        "colab": {
          "base_uri": "https://localhost:8080/"
        },
        "outputId": "8a949696-a43f-4d29-c6d8-81181a58eeab"
      },
      "outputs": [
        {
          "output_type": "stream",
          "name": "stdout",
          "text": [
            "(60000, 28, 28)\n",
            "[[  0   0   0   0   0   0   0   0   0   0   0  13   4   0   0   0  30   0   0   0   0   0   0   0   0   0   0   0]\n",
            " [  0   0   0   0   0   0   0   0   0  67 189 228 255 172 124 255 235 201  94   0   0   0   0   0   0   0   0   0]\n",
            " [  0   0   0   0   0   0   0   0  52 246 244 227 217 233 235 229 233 239 255  99   0   0   0   0   0   0   0   0]\n",
            " [  0   0   0   0   0   0   0   0 180 246 226 232 229 223 228 235 234 230 244 216   0   0   0   0   0   0   0   0]\n",
            " [  0   0   0   0   0   0   0   0 217 242 229 233 235 235 236 236 233 231 241 240   0   0   0   0   0   0   0   0]\n",
            " [  0   0   0   0   0   0   0   0 244 242 239 233 233 233 232 234 234 239 239 255   0   0   0   0   0   0   0   0]\n",
            " [  0   0   0   0   0   0   0   0 227 230 215 250 233 233 233 236 246 220 227 239   7   0   0   0   0   0   0   0]\n",
            " [  0   0   0   0   0   0   0  14 249 178 120 255 227 240 241 227 255 108 148 255  49   0   0   0   0   0   0   0]\n",
            " [  0   0   0   0   0   0   0  62 255 136  65 255 231 219 215 233 255  69 100 255  99   0   0   0   0   0   0   0]\n",
            " [  0   0   0   0   0   0   0 104 255  58  13 255 233 211 203 231 255  52  28 255 147   0   0   0   0   0   0   0]\n",
            " [  0   0   0   0   0   0   0 136 255   0  31 255 223 242 244 223 255  51   0 255 184   0   0   0   0   0   0   0]\n",
            " [  0   0   0   0   0   0   0 186 255   0 119 255 226 230 233 227 255 140   0 255 195   0   0   0   0   0   0   0]\n",
            " [  0   0   0   0   0   0   0 198 255   0 216 254 229 234 235 233 246 239  35 255 191   0   0   0   0   0   0   0]\n",
            " [  0   0   0   0   0   0   0 200 255  39 250 239 232 235 235 234 234 255  77 255 197   0   0   0   0   0   0   0]\n",
            " [  0   0   0   0   0   0   0 193 255  65 255 231 235 236 236 236 230 255  67 246 206   0   0   0   0   0   0   0]\n",
            " [  0   0   0   0   0   0   0 185 247  73 255 229 236 236 236 237 232 255  75 243 198   0   0   0   0   0   0   0]\n",
            " [  0   0   0   0   0   0   0 175 242  71 255 229 237 236 236 237 230 255  74 249 183   0   0   0   0   0   0   0]\n",
            " [  0   0   0   0   0   0   0 163 234  56 255 227 236 236 236 236 229 255  63 250 177   0   0   0   0   0   0   0]\n",
            " [  0   0   0   0   0   0   0 187 255  45 255 227 236 236 236 237 231 255  56 255 183   0   0   0   0   0   0   0]\n",
            " [  0   0   0   0   0   0   0 155 188  37 255 233 235 235 237 236 235 255  41 255 182   0   0   0   0   0   0   0]\n",
            " [  0   0   0   0   0   0   0   0   0  16 255 233 236 236 236 235 237 255   0   0   0   0   0   0   0   0   0   0]\n",
            " [  0   0   0   0   0   0   0   0   0   1 255 235 236 236 236 234 240 255   0   0   0   0   0   0   0   0   0   0]\n",
            " [  0   0   0   0   0   0   0   2   0   0 228 236 235 236 236 232 242 252   0   0   2   0   0   0   0   0   0   0]\n",
            " [  0   0   0   0   0   0   0   2   0   0 220 239 233 236 236 234 245 230   0   0   1   0   0   0   0   0   0   0]\n",
            " [  0   0   0   0   0   0   0   2   0   0 214 241 235 238 237 234 247 207   0   0   0   0   0   0   0   0   0   0]\n",
            " [  0   0   0   0   0   0   0   1   0   0 204 240 232 229 230 230 246 177   0   0   0   0   0   0   0   0   0   0]\n",
            " [  0   0   0   0   0   0   0   1   0   0 248 255 246 255 255 245 255 167   0   4   0   0   0   0   0   0   0   0]\n",
            " [  0   0   0   0   0   0   0   0   0   0 109 169 146 156 153 139 173  71   0   1   0   0   0   0   0   0   0   0]]\n"
          ]
        }
      ],
      "source": [
        "# 4._ COMPROBAR FORMA DE LOS DATOS\n",
        "print(train_images.shape) # train_images: variable donde se me han guardado las imágenes (60000 imágenes/matrices de 28x28)\n",
        "# Vemos la matriz de la imagen número 2500 (28x28)\n",
        "import numpy as np\n",
        "np.set_printoptions(precision=2, suppress=True, linewidth=145)\n",
        "print(np.matrix(train_images[2500]))"
      ]
    },
    {
      "cell_type": "code",
      "source": [
        "train_labels[2500] # Cogemos la etiqueta asociada a la imagen 2500\n",
        "# La imagen corresponde con un vestido."
      ],
      "metadata": {
        "colab": {
          "base_uri": "https://localhost:8080/"
        },
        "id": "HUZhB-UyG_yu",
        "outputId": "f31504c1-88f4-4a1d-aed7-265d56e1eeed"
      },
      "execution_count": 17,
      "outputs": [
        {
          "output_type": "execute_result",
          "data": {
            "text/plain": [
              "3"
            ]
          },
          "metadata": {},
          "execution_count": 17
        }
      ]
    },
    {
      "cell_type": "code",
      "source": [
        "# Veamos el elemento 2500 y pintémoslo con matplotlib\n",
        "import matplotlib.pyplot as plt\n",
        "digit = train_images[2500]\n",
        "plt.imshow(digit, cmap=plt.cm.binary) # imshow: muéstrame imagen, le paso una matriz y\n",
        "                                      # el mapeo de colores es cm.binary (número más bajo = blanco, número más alto = negro)\n",
        "plt.show()"
      ],
      "metadata": {
        "colab": {
          "base_uri": "https://localhost:8080/",
          "height": 430
        },
        "id": "Llo3aom9OvSx",
        "outputId": "9874517d-42b2-4171-cf98-4d85dfa2730b"
      },
      "execution_count": 18,
      "outputs": [
        {
          "output_type": "display_data",
          "data": {
            "text/plain": [
              "<Figure size 640x480 with 1 Axes>"
            ],
            "image/png": "[encoded data removed]"
          },
          "metadata": {}
        }
      ]
    },
    {
      "cell_type": "markdown",
      "source": [
        "La función `keras.layers.Flatten()` se utiliza para aplanar una capa de datos en una sola dimensión. En el contexto de un modelo de red neuronal, se utiliza para transformar datos bidimensionales (como imágenes) en una forma unidimensional antes de pasarlos a capas densamente conectadas. En nuestro código, podríamos aplicarlo de la siguiente manera:"
      ],
      "metadata": {
        "id": "N6Z88UG3ODka"
      }
    },
    {
      "cell_type": "code",
      "source": [
        "# 5._ ANALIZAR FUNCIÓN keras.layers.Flatten()\n",
        "from keras.layers import Flatten, Dense\n",
        "# Añadimos una capa Flatten después de cargar los datos\n",
        "model = keras.Sequential([Flatten(input_shape = (28, 28))])"
      ],
      "metadata": {
        "id": "JwyMVINtN8Sq"
      },
      "execution_count": 19,
      "outputs": []
    },
    {
      "cell_type": "markdown",
      "source": [
        "Si agregamos una capa `Flatten` después de cargar los datos nos transformará las imágenes de 28x28 píxeles en un vector unidimensional de 784 elementos antes de pasarlos a las capas densas de la red neuronal. Esto es necesario porque las capas densas requieren entradas unidimensionales. No nos va a cambiar la forma en que cargamos o mostramos las imágenes, pero va a ser una parte esencial de la definición de nuestro modelo de red neuronal si planeamos usar capas densamente conectadas después de aplanar los datos."
      ],
      "metadata": {
        "id": "I875S_TeRWcn"
      }
    },
    {
      "cell_type": "markdown",
      "source": [
        "##**Cuestiones para implementar y responder**"
      ],
      "metadata": {
        "id": "hF5TnqooFUgo"
      }
    },
    {
      "cell_type": "markdown",
      "source": [
        "####**1._** Configurar y entrenar los siguientes modelos de red de neuronas, todos con función de pérdida `categorical_crossentropy`, métrica de precisión y 5 épocas, analizando y reflexionando sobre los resultados:\n",
        "![image.png](data:image/png;base64,iVBORw0KGgoAAAANSUhEUgAAAlgAAAEZCAYAAABLiluIAAAAAXNSR0IArs4c6QAAAARnQU1BAACxjwv8YQUAAAAJcEhZcwAAGdYAABnWARjRyu0AAABhaVRYdFNuaXBNZXRhZGF0YQAAAAAAeyJjbGlwUG9pbnRzIjpbeyJ4IjowLCJ5IjowfSx7IngiOjYwMSwieSI6MH0seyJ4Ijo2MDEsInkiOjI4Mn0seyJ4IjowLCJ5IjoyODJ9XX2cHe1fAAC0MElEQVR4XuzdB3wURRvA4f+V9N4TEkhCCCEkQOi996pIR0QQpCsooih8iI1uF0FQQJTeFKRIE6QX6TUhtIQkkN7r3X17JXAJoQdNYB5/J3e7e7ubu3dn3pmd3ZNpJAiCIAiCIAjFRm74VxAEQRAEQSgmslZv7xU9WIIgCIIgCMVI9GAJgiAIgiAUM5FgCYIgCIIgFDORYAmCIAiCIBQzkWAJgiAIgiAUM5FgCYIglGQm5lSv6UbbAHNMDJP+LXKFHBOZ4YUg/EtMpKB7FpITRfn6r002PC8+ShPK+9oR7G2Nl50CTWYuKbmGeU9Ibm5GpQr2VC1ribuVnOz0XDJUhplFMTHB18eOqr42VHAzx16pJjVVRTHtjiAIwmOx93Kkga8JWQnZpKkNE+8iI7BdMNM6O2F27RY7IvL41y77tnLlkw+rMqZiHkuPphkmCgX8V/WLzAT/IEeq2KiJSczjflXgI3ua634IdnUCWT7aj+oZsWy7/m9vvXgV720alOY0bOXDwEYOlLOQS0WDniYvh9ATN5i7IYozRRyn/q2rMrO1NWbZycz/9ixrbxlmGJO+9JBWFRjdzAFPc5lh3RrU2Vkc2nSByXszKFBGmVrQvI0v/evZ42mRv7xEoyErKYUdO67y08E0UkvATSpkNm58/F55PA+dYciGVPKkae4Ng5jb2YTfvjvBokj9co41A5jTywm7vCz+XneOaUeyCv7N0l8Z0K4anzeTsWHeCX64LO7AITw+e98yjOxelkZOWSz77iSLDXFYYslMaftqCG8Fm6C4q9dFQ/yh8/RemWh4/R9TWDPo7ar0dlPx969H+ORE0RmW3N2Tz98sh8uZUEYviyf+XzykZTbuTJvoR9WIq7T/7oZhqqDzr9Qvctx97fAhgxNXsskyTNVSlvNm7igvyuXGMeWji+zKMcwoBk9z3Q/DUar7fn3JlosbjvPWLuO/uvQpvl44pSUvvBrMxFaOuKYl89uGUCb/eI4Pl1xmxekcXKv78G5rO8PCRhS2tKxpjYW2XWZhS5vqVkXulHs9fya1cZDWncjyVReYOP88U9dFsj1STmU/y4Jd52Y29H29CuOb2eOUmsia9dK+zD/LxEVhzN+XRKKVLR1fCmJae1usDG/5LymcLPAyhZS0XEPCJMNdag2Zy3JJMkpIbRzNsZVqDoWZBU07+tDC1jDDiKm5HKVCgaW0PkF4LFJDqUGHIOYM86GZuxKlXIGF8q6MpeSRKXC2V6DQ5HDu+E02HzJ6HLzJtrASVFirszlzNpGTofEcjb5H95WUMLbp4IlffDQz1/67yZVwH/9W/SLVjb1fCWTyK14EKwzTDFQJKRy4kMyxk0lc1rbIi9HTXPfzppgSLBn+Lfx5PdCU7IhIPvjqHN/vimXf+UT2H4vmp19P8vr3l9l45e5U2KyCC42dNIT+fYN/smT4VHMhoFAwITOncU07rDWZrF9+gQUH4zl0IYGde68z8/t/6Ce17LINi2r/pCptKvCKr5K08Ou8+/V5ftgt7cuFJA6dvsXKdecYOf8GF3MU+Dfzo7f3f19xKB3McJSpiU3IMSRYclzsTJBl53CrcI+fRsWl6xnkWTvSr5WdlJgKQjEytWXAqGpMam5N6qkINl67R+Vfkmmy2L/5El+sNHqsCuen45mGBUoATS6HNp3nnXmX2HzTMK0wKVHctfIEL399lZOluyH/DCkZ9YsmLZGfFpxh/MqbXC/mQ/Rprvt5UzxjsMydGNrHgwrKDFb/HMrWBMN0I9lJaZyNKZwOK6jTujzt3TP4bdVVzjm508jXnJxLMRwx7slXWNComRtBFpns3n6L84UKmzyj07Qya2eG9XbDW53C4oWX+DvZMMNITmIq122cae1rQRnS2Hg2S3da7l8nV+LmYo5/oButvTVcOJ1ENErsbayoU9eFSqo09oRlkJKpIktqvdr7udOpgpLzO65x1cuJqt6WZJ+7yenbSZgMt0oetCknI/x4NAfjDJMNzF0d6d7em4Fty9KzkSuNylugTE7ncrL6zrgOhSVNW3rQyD6PsOjcAp+LibszvRs54ZqVxpUU/TvkLo70auyIdWIa6V5evNWnPP0bOuKYkMDJ201uGe4BHvSTtv1KKy+6NZC27W+JbXYml+NUBc7xe1XxpGtlJTevZWNdyZMhXX0Z0MKdZhXMIT6Ny4bt5rNyc6BT87L0belF7+Zl6FjLkSrOMuKi0okrMBBC2gdpfYO7+PBqK0+6SMsFS8vdikwn/nG/fJkJgbW9eK2jN/2lz6xDiD0VbDXcjM4kKX+d5hbUq+9Jn1bSPraQ/rb6rjSQYtxE+tzDpc/9NrkU4y08qGWWzcVkE+o182FYp7L0buhKLU8FiTfSuHmnFSFRUK6yOz1b6v/2nk3caBlsi6cih8tROUYNjkcjs3Lgxdpy/l51nul/peBQ1ZN6TirOHYnhnyTDQiWV9H1UretOiE0Ox/bd4uw98yltQ86LF6uakR6ZQYJxABriv7EU/6ek+M/3qHGpZV/OlT4dtMebFy/Vc6amlymqhHSup+mX9QyS1hliQbY2VgvE4J3jpU8TDzrVK77j5V6UDva81NGH19tJ+1rXkQCrPC7fUlK/kSNuKUksOZxqWFJPW5ZMH1Lp3uXIM+qJ6pdHOMbdK3vSs44DVXwscVTKUJibE+BvTxV7FRel4ztPZk795h40c1ETLr3Oj9Tb8XA9G7ugsox4yZdXpbqzbhk5sRFp3MqRvmt7O7p18WNEO086VLHBPjOdC7GqO8NNili3zNqOF6S4ahRgT42KRo8KVpjGp3LDUCc/fHmsJcM1oAyDpDJ5QKsytAuyxi4jnWuWjrwYaEZ8aAx/XjU+MB6jHolQ4d+iAu++VJYuwabEnEsm+nHL+8dQLAmWeSUvRta2xiQyiq+3p5BimP5AFk682tUVT+l930mRelljRfuqUiWhuTvp8ZAqk7ouZjjJUtkTmn3PCsQi0IsRNSzhyg2+3JNG0WWshoQcM5rXtMXFNIdDB5OI+w9KBvOQivwyvDztfE2Ry03wr+ZBl4bahwuVbWTIraxp1sCdCqk32R6hNiRYJkQeC+eXGFvaBNoQYJfNrpPppOvWeO8Ey87fmxlDyyMdI0RdS+FKqgyvii60r++EW2w8B27qw1NmJSXLA31o45DFDqlQNf4u7av5MrmTC05xsbcD37SSN1NedMUyW0HHF7yoJMslxcQca2mZnVJwI1MS0j6Ymd3cqOaqJDctl0y5KX7l7alfw5Wq0hb+viwVGLq1yandIYjhtRRkKt14s5sLXpo80hRmBPg60LCaNalnY7mg/2Ol5K4MU8f408FbqrhSsolOVmHiaEOtys608IdjR1Jun1ZxrRHAV694UFGRxdnL0sGuMSM4xA3P2Ch2Rz/Gly8zo0XfYCa3cqS8tYbEFJVUSVlTK9iFZvbprD+dKRWCFnQfUo136tngqM4hOj6HdOlvCQxwpGkNOwi9xan8D1jpwGuDfWlmrsG5UQWG1rBAkZGHWkq2g/0daV7ZlMsnE4k0dAJ7NQ1idm93Am00xMdnEZclx93bgfrVXAghiW3h+b2hjyg7jV374zipK3DlVKz5DCZY0nKNugTyem0zYv65yZkMw3SJzNqJ4VL8t7bLMkoqHi0utdxrVOTzgV7U9zBBlar/3itJ33uLEDOu7k/gukpOnY5BjKhnTtyJm5zKbyQ9xePlXuROrkwcFUBXKSmzzJOOX6mCrRriTitvJWZ2ZlgnF0yw8suSzGsJ9yxHnlVPVL889DEuo1LTioxqaIOTUhsSpnh72xLkY0tF03S2HpMas9K6Br/uS3unHHYdTiFJV4Tlx4NSigdX3uzqjGtOHjlWllT2c6SJr4aT0Va8Ocyfti6QkqOkrLTe2tUcsL4ey5H8wtLk7nUrPTx4p5cXDf1sCfY1ftiguB7N3zGaRyqPtTxqV+Krfh6EuCjJSclD5mRHs7quVLaS42KvJM44wXrc48LMneGtbJBJ6zd1VhJ1JJaLj9v6fAzFkmB5Vy/Hi1LFH3/2BkvOZz90wW4fUo4R1c24sPsyv19XkSN9k751nAlyhUsHpULI8Nki5aZRaaY0qm6Dt48LTX2VpMdJma7UYiq8Le+Qsrwg7cut05GsunjvSkadbUqtpo6UNc/l9O44Lv8H5YIqKZ3T4cmkS63BSvJEfvr1Mqv/iWXHuTzKBlsjP3eNKb/fYFdYBklS9p+fYN04c4P1/2RiW0WqTH2sMb9+S0qmtJF7jwTLzJ7hr/tRR5bId9+d4Xvpsz14Oo5Np3LwlYKzib+C0IOJ3NDmQ6bWtJQ+F/fUJDYUSrAspBb5S4VaFkoPZ3pVsZIOVBtUp8MY/cMVVu6JYoc2uZJYBfjy2UuO2CbEMuv7s3yxI4ZN+6PYHKYhoIoDVSvaSInGTU7oWoIyyod40aiMJUFeanauOMuENZGslyrLUBsHmvla461JZt0FwxGiUGKTm8SipWEs2hfLrhOxbDmQQIavK3W9pULwqvQZxGtXa0HnHr40MEvkqy/O8/OJRPafuMXvB6XKJ1aqkG7H2cOzr1GBj1vbQkQkE765wIK9N9mwJ4Z9sTLspGL30OVsVDIZNpZqDm8O4/MtMew4EcfOwzHsz7aldaAtvlJjYc05Q9NPYUWzFk4EeNjil5vA7B/OMmNbDBv2xZPs5Uw96fMtr0pi46UcXS+B0lJJ1oXrTF95XYqFOHYdu8UfZ1QE1XQg0APO7U0kyqgwezzPaoKlkP6uMtRzzOX4/kIJlpk1rZoU7rV5tLiUWbvw1mtlqUway+efYvLmaF3Mb5CSbpk1XDuXQozasE6XXE4dvJNgPdXjpShSxdXkpUr09ZZxefd53lxwjbX7otlxQ06Nes74mclQJxl9FkZlyYBvQ+9Zjjyrnqh+eYRj/Ma5KJbsTMW5rgt+2TeZ+OEpZvwZwfJ/pORKuwHDurzSU9h4KD/Byo8HC4I8VWxdcoaJUv3x+4Ek5FISXLOsLU2r26M4H86788NZtjea/Vm2tKxkjZ9lFsuPGzLxItatTk5mx4Fo1u2+wepd0uNQOk7Bjrr4Wrs5lkvaYuxhy2OJzNKJNwZKx4g8nTU/neJ/G6NYvzeWMFM72ksNAwuZhltG9cxjHRceFgSWg33LT/Hubzekff93kyutYhiDJcPRVin9X0Nyam6Bbrr7kpnSsLodlrlS5nlaX2mQncSu89JzKweaB0qpu5G0i1f437IYzksx4FrRk7GjavDj6z608dJuO58MBxv9vtwZMH4PuXmkSh+2TK7Aysww7V+mycrkTFgWWQopgJNSOXg+iSMXkjger8ZM+htuXk/g8MVkrhbVAs1JYcWf8cRLS7ZuVwapbLsn68puNLXXcPXgdTbdulPrqqVg/f2U9CHYOVDf58nGCsiSbvLN2jhuFvjQldSv74ybLJfdGy+z/dadmclXI5m9Jx2VwpLmNWwKXqSgyWX/2nN8cyJT31Mpvf5HOvguS5WSs8edYaOa1ERWb48l1HicmiqTvWel9cpN8JBaLDrSd2xtLv19ajU5RgGqzsgm5p6nke5Dit3GtRykRCqb7ZsiOZX//WhUXDl+jZnbkm/v96HdkeyMNI5FDZGnE7gk/S12juaGaXeo05L4YUEYG6MMO5qXyR9/3uK6Wk7Zyo74Go7YhPNRLJVasklGn3debDwHpaxKYWWOVOc+v+TW9B5Zi6X/u/NYMrE6b1R+wuLuIePSsaordaSXN49eY+nlO7dVSI+J46flkZy461RJvqd7vBTJXErEKklrS43nFylu9RW1VLlJjbsPl90iPwzzGZcl+YqzHCnZiqd+edhj/LFp42Hdeb4/k60/dZiTxsajqeTK5GiuS9/rqliu63rCNVw/cosT0nNztwcNx9eQLv3NCVIdn5CqxruBF01sVZzaepWthobXQ5fHEqtKLtSWGhsJpyL4NSxXf4yosjm08QIzj2QWyiMe87iQGrixR8L59vjDd/oUt2IZ5C6X6y9T1WjuVN4PIndwormfgsxLcey/3fus5vjxBOKkD7RmdUccChyrUsV0/DKjp51i2vZ4rkpZSZlKnrzzRjX+V9fizgf7GMe36uF3u/jJzXC1k5GblE1+7qNw1J4K1RCXeP/ASDp1nZXhKkw8yzCgttk9vkwpm/fWtwjStGPZqjnR5PZDamGZSluQgt/N8T4Z2gNJBe6xmxwrPBBXaglV9lIgy0nlSFihkloSGZasa8k7l7Eq+F1rcrgSZUi6DdTSZxGn1iAzL5h460nJios11So50qiqEyEu0jalqUqF4RNRZXAsPFtK3J0ZObg8nSuYcXdq8wikv6uih1RYZady6iFHgZpISU9FP6kCquJE4woWWGp3MH//jGgT7dOFzlero1MJy5QSJycLyhX+86VWo2dZO+oEOdK4qh2eusJchrKoj+l5oVGTGJfJ9Zt3HhG3MriV8YQH+kPFpYwKXpaYSsn2hcup+oTnYf1rx8sdSqli9TGV8oHIZE4XOn6TI9KIKfCRFSxLir8cKQWKoX555GP8URURDynJObpxvKk30ylwFjc3h4QM6c8ye/jvzbx8WUbUtyBHm9zsyyyijnpAeSy9KudpiYX0zkvhKYbhLQZSchh6o1C997jHhTqDnQeSCq7/X1YsCVZ6lkr6MmVYWSofeoWeIS4EKqWWUpqcmjVcaFVT/2hqryJaKpUstVcXFnFXB01mOjs3X2DolJN8cTCNdLk5jV6oQFdX/fz0TO0X8BD7YmqCnVQZqXNySSqcGPwr5LiXs6d2sB3eUm2fJTOVAlJ6XcmBRn6WUgIg/R02dlRzN7n336HJ4o9NMVxRK6jZsiy1i7ykUIa9tfRZyBRUaxHA//pXKvB4s44lCqlCyr5nq/rhqItKrhWmOEgNI3VGDolFrF8ttYa0jR9tJWDzoIJLWr1UXxQiw6OKN5++V4fl71Vj1uuBfPhqJcY1tJZSdGNqjm28yNyTmZiWc+fNYTX45a0A+gdb8Fidl3IlttJnrcmQ9v/u470AEydHBg2uzsoPazB7RGU+HiB97r097tvjeBep0EnSFoLa22/ktyQUUtx3CGTBR7VZOCaYz14LZFJ/f7p4FcshXbppMvhzxVnGzzN+XGTF1SJi9EndFZcybKy0vRx5JD/qTZCe+vFyN5m0r1bSujLS8wrcZ6lo9y5LiqscKemeWv1S1DFenLTxYHhamD5OHhRQBqY2vNzVg3KqNFb8FsXVAit92PIY7CylhElqhCSnP6AA1Xrs40LzUMfA01QMpbGGG7eyyJP+EFcpg7R7mO9JbknzalaYyOT41vXjvb4V7zx6exGivXGbqS3Nqpnfcwe1idaW1ef5MTQPzKypG2gmfb0aouOydfvi4qrNkO/NxFNquSlkqGPTufoQ33GxU9jSZ0BlprxShorSfjgE+/DJ60FMeb0y4xtaoZSb0qhLZab1dKXMfT7T3Igb/HwsBxxc6N/YSirkDDNu05AnNaE06jz2rDzGK58dvfvx6T9M+Ud/rrtY41FKutTSAShTyjEt6m8wkaZr/81V61pXj8qigg+f9fOkpmkaa1ed482Zx+gv/T3DNibffSflrDR+++U4A74OZeHhVHLcnOj3ajDj79nzdx/S36XSFixyGffNk8zseH1wAL0qKrj4dzgTvz7OwCnS5/3FVU4+0rgvOWZSCaW5XYEpCOkcyAct7DG/HsWXP55kyLR/pO/yBD9dulcxKtxWrEF+N5WuVJdi41E7c57y8VIkaXvaVZkoH+anSR5QlhiVI8+mp1m/FD7GSyIZAc3L09Vdw6Xdl1l1o2AQPkp5rD9E5JjcfUfgu/0Xx0UxKYYEC5IvJaPtuTPxdqa5s2HifSi9XGjiISMz9CpvzTrO0EKPEb/eJEoto1KIM2Xv9/lLWf/laP1AQ3NT/Z3jU66kcEXaF3NfR+pa65YqgkJ3CtJJpubqxeIYDPwYVEn8+N0JxmyRgk+dy761Jw1//ykWhqtRp8XzzVfHGbY4hkJxXJAmj4PbIjmWJaNCQy/q3zX2RkNsovQZScFsY6riZkI2MYUfSXl3DoA8tf78t4kCs0KfvakUyA9xONyhzuZminRgWFpQtoibolq4W+Ih05Aam/kYV3HKqFbTGU95Hvv+uMD8Q4mcj8kkWvp74jLufbl4UmQcS1eeYdhPMVzXmFCvnrO0D4aZD0udQ1yqdPBYW+B1n7FOJn4uNHOWkXrmKp/+cZND1zOIjNd/3rohEEWRkrbCB6XMxpJy0uenTpY+T+2Xo7SlVYgFiswE5v9yjc3n07gSm6X7LlOf5fqt2KjJ1QW5XCo3dBNuk2kL60eNhwI0xCVrjzcTyrgYjw99CE/1eCmaStrXRI0Mc0dzpFAtSHt7AMNTvYJlyX3LkWdUsdQvD3OMF/JEIVlMTMp4MqKpFbKYaL7/K63Qd/0o5bH2GMnVxZGbs+ldn4VS+nwK+A+Oi+JSLAmWOu4WG87mojG1peeLHvgWcQ7ZysOFPnW0ESmjcg0nvOQqTh2/xdnoDClJKvgIO3WT/fHSF+opJWye0jusbGhYyeLucTMKC2r4mSOXWlRXovTnbdW3YvnzkhShlg706+iESxGR6VLFl6E1TZGlJ7L2QKGf2PkXpSZkkCnXdpXmcPVqmv7vl44upfSHqpPSOXsjg2tJ2tOv96dOuMmiPenkWTnSvor0dxmm57t6KYVYqRCtVM0F7we1qnOl5CFdOxbAhiCjYDZz9+CNZjZ3dfXelyqdE5elAllhTav6NgW/P+m7a1vfHivpMD16xjAo/JHIMNMl1WrSpAP4NpkSvzJmhSoGmTZfLCD1eirXtSXEvVpF9yP9XaeuSfGutKFFLYsCB5HufjF1bXV/q1zaqHbdOZl5Bf4+G6l1636PbSrd3Xm9sVWBz8q7pguB0v4nX9E3ZLQtP11rVzuQ1ihTk1laUd7xUf+Y55GaeKmAV8nNCfQxOl5MLOn8kieVH3SM3JeGy+GppEjHW+XqrpQtEBwmVGvkRnChpO62p3q8FE0dm0pomnS8ezrRzDgolRa0f8HzrjuIG5clz6PiqF8e6hjXkRoCUoNJbmaC3dM4bfgo5JZ07epJJUUmG9ZFcvauFuKjlMcQeU17gY6MClWcC9RJJq5ujGhuW7Ce+Q+Oi+JSLAmWtidp14Yr7JTSR/sAXz5/M4CBDZ2pG2BHnWpuvNIrmHmj/eleQSpZTOxoESwlRdkp7DtnuHqgMFUau89k6q4MaFrdBjNXZwa/Vo0Fo/x1661X0Y66IR4MH1yZl8vKSL98g9XnDV+qJpst669xNE1GmdoV+WaEn5TYOVKrgh21qrjSp0cw37ziiqcmi21rL7PD+D4E/zoZbg5mUoIoZej5N2eVCn13O5nUspSmPXTmpyF09zW2SeswN1Pc9aXmhkexOiwPU59yfPKaN+0DbfDzsCTAT0rIWpXnoyHeVM8PclUqBy5IwWxmxysv+9IhyIHGjcozbagP5dMzSXnofdJSc/TvKM5kySjftBJTXypDi0B7aldzZ8hrlRnkpyAtLIKl526XKI9AzcUrabqxaw2be1Hb1QRHFzs6dQ9iQk0zbW/xbXJHD6Z8UJV3W7lQq5wl5cs58IJUWNQy0xB9KYnIR/qbtFQc2nuTy3lygtoGMqmtK/UD7GnayJdpoyszJMQSC6ngzY1IIVQqiByDPektNRAcbSyoVt+Paa+44HyPKys0GgXVOgYxo0cZmlV2oGWrACa1ssY0N40/9ibqx8nkpXFG2mm5jRM9W9pT1sYELz93xgwJoJXd3bcueSTSMde2sx9v9azA2z19ae4m/SFSYhDSzE96XYG3unogHb6lnIaz55JIlD7rkDYBDKvnSJ2qHowaGsSQMnlEPuFg+PTz0WyK1mDuW5aP+pelbZA25qXyakhVpnRyxveeA/+e5vFyD7lJbDqSQa5UefV+xZ/e1R2ksrUMo4cF84Y/JBQ652Jclty3HHlWFUP98lDHuJY6i+tx0tFsKpVrrV2oE+jMCzVt/pOfdzMP9KS7jwJNeh4OtXx1ZYHu0cOP/lW1Af3w5bFWdlgMW2M0mJT1YkIfTynOHWjaxI+ZI8oToskhvcDy/8FxUUyK507uEk1WBgfOpqNxtKayry01g5xpUdOVltUcqeomJ+pMJF9vuEWsNntvZI36XCRz/sm458DKhAwT6ta0o5x5Dnt3xHLD2pqQAOngD5bWW8uVFtUcqGSv4drJ60xbEaWryPKp09Ok5C0TUxdrgvzsqVPFhVa1XWkV4kR1T1Oyb8Txy7JQFpx/wKW2T5v2vj31PKmjSGbt30nclMoymfZ3rJo5IL8YzbrQgldTWJV1oaO/ksvHb7Cv8A9i52VxIV5J9UpW2Ksz2bfnptEPa+cReiGVXBfpewl0pGlNdzo18KBDbRfq+VliGp/In8dSpQpHu6yGqIhMrKVCs5q3HQ1quNAkwIL0U5f5ZHseNWpaSxVIFNsN97mSOzvStZoF8RekA+bq3b/0r0lP5fB1DWXL21M9wJEmhpio7CB9d8evMWV5DJeN+po9g8rQ2DWHI9IfeM7o/kTaxLN+Y2fKpiax1HBPnrSodNLc7KkrFTxtG3nSQ3uDVhKZ81sSLlVtyDoXzY5IlfYsKi6V3Ohcx4229TzoXM+F2h4KYs9eZ8b6eG4+xmk1dXIKJ+JNCapoT0igky7Wm1SyxjopnoW/R3IiWaMbJ3gp05JaUiHaqE4ZejRzp6U3HPr9CkftnAjMSWTZMcOXZLj3TJmYaL7ep6ZOY+n7keK8kb8F1tnpbFwVyk+h+Z+viss38vCWjoc6Vd14sZknL9SwQXP+CrMvmNHIW82hPbFI4fPopMT65b7etPKxxt/LCndtpiiT4+imfW1NBQ85Vw7f4vzj3N7iqVNSsYY71a2zObgvlov3GVycF5fGDQtb6vjZEBLsIsWkPV6Z8cxeHElSRRcqZiaw7J8715s/SlxqTyGfvZSFvY8U8xUcaVRDG/P2VLTIYc/mKyy/pL87dlHrfJrHy73EXU0hydmeWn7aBrELLapKSbuUeC385RrXy7lQKdv4s7hTloxs73WfcuTZ9dj1yyMd41oqolKU1K5iR0AFZ1rWcCLEIoON0neRIbPQfb9eyUmsP3LnfoX3igeFgz2da1iRGX6TjWFSA9owHbkpVeu6EihLZckew8+nyO9et/Z+h92qSQ1HC3N8pXJAWxboH1IZoe2pO5/90OWxjpREnb2ai5e/A9WkY6SxVM80rmhBTuh1Pvsjg0pSeZZpVM8U23HxL5O1entvsR8OJjaWBJa1wNlcRk5GNpevpRJVDAWy3NwMf29rPK3lqLJyiIxIJfwBXSrm9lYEeOr3RZOTS3RMGmGxeYY7vj5/LBysCfQ0x0FqdGSnZxNxI51rqUV8hjIlZaVEWSpzSYpK4ZSUhdz/k34AmQL3sjZUcDJBkSt9d9cf/N09HBmOZWyp7GaCJjmdE1cySS8yomXYu9kQ6G6GhSyP2KhUzt56wr9JIjM1xd/XBk9LSI1N5Uxkzl2NBhMbK6r4WGAnFSphl1KILKriN3Fh8if+1L0ZwYivI4iytaa6jzlmOdlcDE8lpqhkSWGCn58t5aw0xGsvs4998OlkoSAbV1uCy5iiSEvnZHgmj3rh331Jiamrly0Bzko0GVmESi187U+VPJSndrzcm727HUHuJlIgp3NGOo6Mf8mpKDWkxu4Dy5Fn3CPVL49zjEtMbK0I8bXERnv7hcspXDH81FLJ9LDlsYHcBN/yNkjVOonRKZx+UD3zHxwXT+KpJFiCIDyiQoXvleevrhKEZ5s4xp87xTMGSxBKNTlunja639V60CPI2wL70nLUmJrh51P031H4ESi1OAVBEITiI3qwhOeezMadaRP9qPEwl0iq0ln27QkWRBheFxepdfuh1LqtFyO1br8pntatQ4MglnSzL/jzEfeQFx1J+1nXDK8EQSh2T+EYF0o2kWAJAgrcvSxxfohMRHuTxRsRmRj/BmDxkOPkbolTbiZh8cU0lsrMjIoepg91GwpVRhbnbxqNEhUEoZg9hWNcKNFEgiUIgiAIglDMxBgsQRAEQRCEYiYSLEEQBEEQhGImEixBEARBEIRiJhIsQRAEQRCEYiYSLEEQBEEQhGImEixBEITnmJmTHa3quVLL5SHu5yEIwkMTCZYgCEJxkJngH+RM0/LmmBkm/ZfsvRxpUc0Wj/vd301pzcsDKvNOe2c8xJ2ZBKFYiQRLEAThYZmaEVzZgWDHu4tOZdkyvPdqABMGeVPf1DDxv6KwplufSrz/SiCDg+5dzPs08eVFtxz+WnuJP2INEwVBKBYiwRIEQXhIJr5eTBgYyISWtnf9BJEqIYUDF5I5djKJy3mGif8VdTZnziZyMjSeo9FF/+yAzN6V15pZEb3nEt+dzBH9V4JQzMSd3AVBEB6SSYAfiwe7weFz9F+VRKn+cSGZHHsbOekpeaX77xCEEkokWIIgPLvMLahX25XG/jZ4O5hgplERF5PM7r03+PN63l29NvblXOna0JmQMmZYqHOJikhix95o9txUUq+pO1U87ekYYgVRcWwMzUatURNx+gZbI9RSaWpO/WYu+KUlsu5IGplODnSrZYMm4iZrz0nLGrahJ8evRhkaO2WzZ1cs4VKGY+XmQJvazlQva4GbtQJ1djbXwuP4bdctLqQb3mbknvsao9LN9wzypGWZXA7vkd6fpZukpzSjVj0P2gbZ4mWrQJadQ+T1RP78O4YjCQX30quKtA6nDP7cnQQBZejb2IkAOxmpt5IYt/ia6PUShPtQlK//2mTDc0EQhGeHzILuQ6rxTj0bHNU5RMfnkK4wIzDAkaY17CD0FqdSDMtK3GtU5POBXtT3MEGVql+2krRsixAzrh7MoU7v8nTx0f94tomNJYE+tgT5WGMRc4vtEVJSY+LA4Nd9ae+Uw67DKSRbOzHk5XK08ZZx/EASt4yzEQsnRg4pTwePPA7sTSTGqQxTx/jTwdsUVUo20ckqTBxtqFXZmRb+cOxICvFG77/vvu5P4LpKTp2OQYyoZ07ciZucStO/T2Zpx8ChwYyua4eXhZqkVBUKOyuqVHSkZU1bNFfiOZ2UvyE5tTsEMbyWgkylG292c8FLk0eatK0AXwfSTkQUmfgJgqAnEixBEJ5NMhk2lmoObw7j8y0x7DgRx87DMezPtqV1oC2+slTWnNN37cisXXjrtbJUJo3l808xeXM0m/ZHseF0pjQPrp29xW+7Illx3ZR2NazJPHyOnl+FsXjbDX1ypaWwolkLJ7zSU9h4KIXE9Fys/N2pLSVBmZdiOJKoX0zLpkpZRlS3JPGfa8w7m41aocQmN4lFS8NYtC+WXSdi2XIggQxfV+p6W8LVaA7G69/7wH09l0KMWkb5EC8aueRy6mB+gqWg1guVeTNISfSxS4ydE86yAzfZsOcmxzXWNKxkRw1v+OdQMnG6HMuwjjKWBHmp2bniLBPWRLJ+3y1CbRwY4JXBugvZ2gUFQSiCGOQuCMKzSZPLod2R7IzMNTo9pyHydAKXpATEztHcMA0cq7pSxwpuHr3G0st3Th2mx8Tx0/JITjzOICVNFntOppAtN6deNeNB8UrqVLXHSpq/73iKbvyTJjWR1dtjCTX0NOmoMtl7Nh2V3AQPZ6Vh4hPsq6UjHUPMkKVKy62LJSJ/OU0eZ3dcYd0NDUo3F1r6FLoflvQ57l97jm9OZKJLp6TX/+yNxdlD2glBEO5JJFiCIDzzTKzMqejnQP0qTjSuYIGlNodQ5Bd/Mip4WWKqUXHhcqo+iSgmsafjOCWt0LWyE8H5OZKVA438Fahj4/nrutF5Px0p8XOxplolRxpVdSLERSFNkVKyYthXE08bKppB1rUkjmcaJuZTZ3I8PBu13BTfMoXuMaHJ4UpUwasM1YnZyMzvJH2CINxNJFiCIDyzTJwcGTS4Ois/rMHsEZX5eEAl/tfbAym/MSLDxkop/T+P5NTCCc+T0aQmsPuSCrm9A43L63uG7AOlxMlcw9VTsVy63bUmw6OKN5++V4fl71Vj1uuBfPhqJcY1tKZgGvP4+6qwMcVW2oXUlBxyDNPu0JCQmqtLoqwsHyJxKt6PSRCeSSLBEgTh2WRmx+uDA+hVUcHFv8OZ+PVxBk45yitfXOVkoftUqdTajEGGokDiVQw0uRw4kUQqZtStaoeZzIS6VeywVKXz9/GM26cuLSr48Fk/T2qaprF21TnenHmM/p8dZdjG5LtuofC4+6qR3qfdnlJZdLFvZqKfnpNjGFMmCMITEQmWIAjPJBM/F5o5y0g9c5VP/7jJoesZRMZnE5OUV6gHR0Nccg5qKfkp46LtHSpeqefjOJIOTpWdCbF3oFEFBXnX49h1+87pMqrVdMZTnse+Py4w/1Ai52MyiU7IJi5DXaiz6PH3VZWUjfYuDLYuFjjd9UYFPh7myNV5RN66u39LEIRHJxIsQRCeSXIThe6WCjmZeQXGKtl4WuFeIMHQcDk8lRSNjMrVXSlrXCpKiUy1Rm4EG4YlaXLVuh4lSysTHvrXcLIS2XVeSlps7GnfwYWqpmrOnIgn5nbmJMPMVC79X02alFDdJlPiV8ZMSn2MPfy+FpYXlcypVFCWc6Wjd8GiX+nqRseK0pbSktgfbrQPgiA8NpFgCYLwTMqNSCFUymscgz3pXckCRxsLqtX3Y9orLjirCvYLpZ+PZlO0BnPfsnzUvyxtg+ypXc2D4UOqMqWTM76GX29WxWVyIw/MK7jTr4YDdau708rnQefq1Bw/kUi8lJI1qG6HRU4Ku09nG/VMqbl4JY0smSkNm3tR29UERxc7OnUPYkJNM6ScroCH3de75CSy9u8U0uWWdH81iDebOlM3wJ4mDXz4+HVvqpnlcWx7JAeMb0oqCMJjE/fBEgThmaTJTOdSpiW1KjvQqE4ZejRzp6U3HPr9CkftnAiUEo5lxwz3RVDncPZSFvY+9lSv4EijGq60rGZPRYsc9my+wvJLOfqxUNmZJFhK8yvYUK2qCy2q2GMdFcO26yqpuWpB/cbOeCUnsf5IKkb3MEWVlIdDsAuVrSHhVARz/sko0KuWFpVOmps9dQOdadvIkx4NpWVJZM5vSbhUtSHrXDQ7Ig1jox5yXz2DytDYNYcj+25xLkP/1uTriVxUW1LF346aQc60rOlK08o2uGsy+WvjRWbtzyhw+rSodejIzelTQ8nSw6mGCYIgFCZ+KkcQhGeaiY0VVXwssNPkEHYphcj79dDI5Lh62RLgrESTkUXolTTuHpIkw8nLjmBXE9Sp6Zy+nEFSsYwLl+FYxpbKbiZoktM5cSWT9PuVzg+1r0WTm5sR4GONu6WM7NRMLl5NJ77waHpBEJ6ISLAEQRAEQRCKmRiDJQiCIAiCUMxEgiUIgiAIglDMRIIlCIIgCIJQzESCJQiCIAiCUMxkGonhuSAIgiAIglAMxFWExWzb5w3ZeCDG8EoQnm8d67uL40F4KkRsCSWdOEUoCIIgCIJQzESCJQiCIAiCUMxEgiUIgiAIglDMRIIlCIIgCIJQzESCJQiCIAiCUMxEgiUIglACqXMyyMzOM7wShJJHlZ1OVo7a8EooTCRYwnNARVrkUY7sXMtfWzdw5PRV0lSGWYJQAuUeHs+gln70aB7A+yuvGaYKQkmh5tbqXvRuXoHuLesw+2C2YbpgrGQnWDITgptWZP6n9fnjrbL4i3RQyJdzncPz+zG4pRedGpRjyFf7yTXMMqZO3M+q8U0Y2KszH00cyeeTh/DR0AYM7DuItacSpWJCEEoeVVoyGbpGQA6ZaVm6aYJQcmjIzkiVolOiSiVdH6xCISU2ZTFxcmTQ0GrM6OyCj4UcpakCU5lhpvAcU5N6bjFfD2nDpwt3EJOpPbBVZGdm6mcbU4WyYdJrLP77MpkFbqerITNiEws/eIddN0WKJQiCIBS/EplgmZcvx5dvVaKnVx57tsZwXiTHgkHWkQ8ZO+I9toUmIzMxvW8Ap+39jjXHk6V0CszK92bUdzv4bs43dAiw1M3XJGxl7e+npfRMEARBEIpXiUywrNwtMb0cwYdfnGTavjTSxI/5CAa5UZe5pXIlsNuXTHuvI5b37NVM59RfO0nUdlDJPWgy/FPa1aiMT7UeDB7eDRdd5OcRcXQPMSLDEp6YirijC1n6wwzW7A4jJ2Efqyd35Y1+7Zm2+uydJF6dwKUts/h63IuM6deE4QO68NGUL9gTnvzg09Wq6/yzchaLf5jJuj2XCpwSzwr/gzXzp7J4wc+cihUB/bxLD1/Psin9eW9AU4a93IZ333mTnzedIO12kKlJObeCnz/qzdhXmjJyYDemTP+IRd9/qn/8tJrw2ycF1CSfXcqC/3WTYrYZo0cN4ectZwqdFRCKUiITrPj9FxiyIIKDCRpd74Mg5LNs8A4fLfiL6WN742d1n3PGuaGEhiXp48e0KkFVrXSTtUyDauNnqn+ujr5MlLhQS3hi2VzYMI2lP3/J4iVz+endASzaepArl09w7GS4PhnKDWPrpPa88/HnbNt3iEuXw4gIPcKRP2YyfUhX5u+Pu3+SlX2ATbM/Z+XPX/Dzit0k315YRey+71m88BtW/jiFLafFgOPnWeap6UwYOowlf2zjbGgokVdOc27/KlbN/IpDuqRJSpj2T+C9EWNY9eduwiKiuHX5IPt/n8vqX2frH4tms++atmBUkyQt+/7IsazdsV+K2YuEH9vAqk+6MfX3a6J+foASmWAJwr0oXKpTzd/xwYGriuSWoSUvt3XD2Uz3VM+kDE72+jVoUmNJKmp0vCA8JtXZZWw6l46FVwPqN2pAoI8HCikJilj9HvN3XicPU9wajuHNzxbwzht9qGAtNRQyz7Pxyy84I8azC08kgf1Lf+JShpT6WATT+q0fmDj1O4a+2oPgsvaYadukeefYMO9XInLAPOhtpq+/yIoNv9Onir4RKncMoX7HXtTwVELOEVZ/8yvXdaPZ5Vh5N6Z+k3p4WGQQG5Nw/waBIBIs4RmVl0ZGfkPezKLgBRIyc8x0JY1EnUV2ligmhGKk0WBacTiTflrDhBlr+GhQbUxyT7J9/WG0HQhyz768+fF7tGnenmZ9ZjCmV7CUgGl7U7ez/6zofRKegCqW2Fj9uT25Yy2aduxCvabd6Dz0G6Yt/opG2uGnGScJu6LtnTIhoG1/AmzlUiO0Bm1bVUNKqaQi0YMGo4YRbAO5p35jf6S+i19ZYQSTF6xkwrR1fDt/Fo3ctUsL9yMSLOHZpFbf6b7WqAu1tKQC5XbCJT0XR4FQnOTlaDlyLFWkCiqfOv4fQm/oe1SVjuYkHtjA3p3ax2auZVnpKjbUN4mJKuJqWEF4WApPypWzQ1u8qW8sZuqgV/hhxZ9cSzEqAeUmKLUZvVRCZmWkGcpJNalJKYbnCuS6+SriQ88Tr3urkgqt+1LRQvsczH178fIL+oaBcG+iahGeTaYWmOZHd3Ym2QUGC2SRnX9aUGGFhYU4DIRiJLPHwckwyM9AkxBLiiEGc07PZdbEIUwzPGYuOUh+v5VaJQYECk/CmrqDPqRZOW0mpCb92nY2fD2AN3q24Yu1J8nQLmLZgDo1tUlYHmGr3+eXDRvZ//snzF2rvRhDhlVIUyrrhlRoSElO1D6RmOHs4VYwoZIZnxYQiiJqFuHZJHfBwTDOSp16i0TjMy+50cQnGsZnOXvhInq6hadNobxd2Jr6v0SfweN4ucDjXfqNnEnfpo6GpYpQoEIz6qEVBCMKrx6M/WkLE4b1oaqXjS7u1Cln2fnlUBYdTpcKPXu8fDz1p6Xj9rB66mCmTJ/H2WSw8OnBsDE9DVdZSyF3u3tfRY742aZHlv/pCcKzRVmBsl4m+uc557h4/s7o4axT+wkzvDQrH0Q5w2KC8LTIXNxxMDT/1VZVaTXgbfq8Zvx4i94v96SSw32KZJmJNk/T0STFkZR/1kcdx9XwGJFwCXdYVaR+/y+Ysmw/0wY3QHsdhfbCn2P7TqK69jOLVp0jT+5Fs7d/YMSwsfQeNJERn/3B3EVf09wrv/dVjrOLi+50o/YXBa6eO6m/c7uWOp7rV2+JmHsAkWAJpYs6g+SbN7gVE0lcSn7SpEGVnUScNC02NgHdmHW5KyG1g9HlTuob7J43lb3nwok8t5YFc9cSq11GZke1ps2x1i4jCE+R3K4ewf76iivv9GKW/XXd6D5WajJu7OevPw+QYDRU5i4KN5wc9Vma6upKlq3cx7XL+9kyvR/fbo8uNM5QeC6pwtkyYwyr9l1BVzoqnPGpUhFrQ02vMDFBrb2XoO4ODPGEHT5KIpZY2VgiS7vCxdMXjK6qlmMbXJuyupBTE/vnZyzcfpyI8D1snNaXr/+8IWLuAWSt3t5b4pJQpYcrgxrZYKXtEleYU7OGHc7ZaRw4lY52GF5OVCzf7U0xLF2ybPu8IRsPxBheCcUta+cwXp34O+mG13eROdNq+hHGNDJHnbCBLwYOY5cum7qbRdC7TJ39FhUKDpcRilHH+u7PyfGQwd4PqzNtm1QuKary8s8b6VPe+NyzmqTdbzN24gpuas9Oy8yw9fLH3UZOduJ1bsQkoXbqw/9Wf0FtKR6zdg6X4vw3Kc6VVBi8na9eC5DelMGJmc2YtC7irorNzL0clreuk6i2pcmnx3m3hf7XCp5lz09sPYLco/zU/0XWXZNh5e5PGQcVceGhJGq7nhQV6PrdNgb5HWXByAGsDSu6FDV1b0nfj2bTvYqdlLBdZ9M7bZhzSP+LGMbkNg5YpCWSrnl+Yu5RlcgeLDN3B9rXdZcebrSvZYertJdyC2saal9rH4b7dQjPH7mpGSb3G1spM0VpuCeD3LEzw6d+TGMf/TiE22QWuNcfywdT3xTJlVBMFFjZ2qOUQk9ubo+1eeEglWPfdAoffjCAIBcz0GSTEnGG0HOnuBadRJ7cgbK16xt6C6S1Wdtjow10hQXWNoZLt7Ck6qCZdKviZBTPpjjVGs34mW9TyUqaqrDF2tKwEuH5Y1KJuq3r4mSaR3rMecLO65MrhU0QLcf9wMvVzKXYU2BqptSd+lO6hFCrYUtq1GlABXd9OZkTs4NfZ80jXNvLpShHuw++5cVg45hTYB3QhzdnTaK6tRRrIubuqUT2YJVmogerBFKlEHP+CJduJJCrtMe1Qi0qeTsUvCJGeCpEL0MR8pKIvnCcK9HxZKlNsXL2xadiIG42D3m1hTqF6DMHuRSTjblXDapV9pTSrOePiK17y00O5eKZi8Sl5mHq6It/lRBcdHl6Hpfmt2PswrOoFEH0nLeR/oG6SwalzOoEiwd1ZqU2szJtw5iNP9Mqvy9DncyNUwe4dFOKOY8QqgR7Y1mg1SoURSRYxUwkWIJwh6gEhadFxNbjSGHbuCp8vS8HzJoxctUS2jsbMqXUnXw3sD9bolTIPQby6bIpVBU9/E9E5KCCIAiC8FywxD84CF2fVfYufhz6ElM+e5fZU4YwfuDr/CklV8idCOn7GkEiuXpiIsESBEEQhOeCEp++cxk3sD1+jubkRB9i/8Zf2PzHBs5Eq7Dzb0u3Sat5v1sFMYSiGIhThMVMnCIUhDvEaRzhaRGx9YTUWSRHX+FWYjpqpTV2Hr642xnGYwnFQqaRGJ4LgiAIgiAIxUD0YBUzbQ9WaESa4ZUgPN8qlrUWx4PwVIjYEko6MQZLEARBEAShmIkESxAEQRAEoZiJBEsQBEEQBKGYiQRLEARBEAShmIkESxAEQRAEoZiJBEsQBKEEUmenk56l/cVdQRBKoxKcYMmwc7WhdhVnWlRzINhVyUP+FKogFKIi5eohdm9cye+/rWP3P5dJURlmCUIJlPP3W7QMdKdGRS/6L7himCoIQmlSIhMsR39PPhhTi6XvVmXKgADe71+ZL8bVYsHgsoRYGxYSnm/ZV/nr8260qmRPQDlH2n60hxzDLGPq+D38MLgWzZq2YsjwQbz7Zn+GdA2hWYuX+elIAmrDcoJQkqhSk0jVdV5lk5aapZsmCELpUvISLLklHTuWo55lBtu2XOLjH8/x6dooTqXJcQ8sywfdXHCUGZYVnkNqkk7+xAddGzPi661EZGi7olRkpGfqZxtTXeCXkX35cusl0gvcTldD+pX1zBz2BuujRIolCIIgFL+Sl2Cpszm49QIjZ53lq+032XM+kd37rvDhqlvEqmXYBzhT28KwrPDcydw7nl7dx7DmTBJyU9P7BnDyti/48WCSlE6BecArfLLiAOtXz6NvFSvdfE3sJhYsOYkY5SIIgiAUtxJ4ilBF2LlEIgqd70kPTyFcrUGmNMFBXz8Kz6Hs65e4oXKjRv/v+XXqC9jcszczjUObtklJufRUXoZO42fQs34wAXX6MP69XnjoIj+P8H1/ESHGYwlPTMXNffP4duan/LjlItmxfzPvzXZ0ad2MMYtO30ni1fGcWTuFDwa25aVWtejQvjVDx01j04WkB5+uVl3l7wVT+HLmZyzYGlrglHjGxd/48fOP+PLrHzkYIwK6JFPF7GbJlx/z9dz1hGfd4uD3g3i5bV26j/iBC1KgFJifncON3V8x8dXmdGnVgL6vv8vKk4m6WFHd3MMvE3rRu20durzYnf/N28XNwq3FlLNs+mokw7o3omOL2nTt1p13py/hdLI+2rTbWqrb1h9czsmWtvUNHw5qzYut6tH95cF888d5MnRLGqiiOLBYisFZX7HtUhZx+7/gne716dy5P7+eu7Px9MubWTCpPwM616N9s1p06dKJ0f+T3hOWalhC75G3X8qUmt8ilNl7MPP98lRVJ/D5x+f5s4gzQiWB+C3Cp0sVc5TDCb7UrexE7pZBNB66kmSNHNfeq9gxow2mhuXIOcrnHVoxL1SqbCw6Mu3wcrraGealLWNkzSFsl2JI5tqfuXtn08zcME8oVs/P78VlsGVURUavT0ZZ41V6qdey5IS+MrHu/DN7Z7+ERc5FVo/uzuSNV8nVzTFiGcQr32/ggxYuulZv5saBNB6+mlSUBI3dz9rRgVKttYTh1YaxU8qsTOrPZMeyYbjpGgoqwr9rRZcZR6VEzo6Oc0L5oqOldsYzrbTG1u3vVlmHHn3VbFp8lHTtDJuX+PLozzTfmT+/Nj1ft+Wv+TuINUqcZHbNGDerE8cmjWd7tHFGZU7A0HUsm9AIXR9E+gG+6tWNuadSdb34d1jQ8otwvu9uY7QvtXipnwl/LT5AonGmL3eiwYebmT8wUH+RWeY63q7dn40pSkJ6D0T9x3xO6b4CWzrMDuPLzmZErB/FkHG/crmoOtqyMi9/t4GJrVwLxvnDbr+UKYE9WEVzDLCngkJDbmQyp8WYz+eWwr0W9aXk6oGBq4og0tCSl9u742acQJl44uakX4Mm+RbxRY2OF4THlHd8MUtPpGHl05hWrRtTo0IZFNokaNEYpuiSK1O8Wr7Lp3OXMmtif4JsZVJ+dpalH07jcAltOApPQd4RVv9ylAwrP+q27UDdmgG4KwzztKT5K+fsIM6igjS/HcFuJrrJmuRdzBjyDttjzChbpxMtqpcxNCyzCF0+j7+SdS9I3PwNv+iSKysCe83kyx+XMvPjcbxQ1w8780Jd/3lHWbvoAEnm3tRo04WGFR2kmJWo4znwzXS2JumWMpLHyRU/cirdGu/6nWlRvy7lPZSown9gwgdLdMmVzCaITu/M4dt5P/Je31rYazeZcY5lEz9mT+G8+JG3XzqUjgTLzJaezeyx1OSwd28s0aWiz034T+Wmkm5IxGXmFpgZlycyc8zzJ6gzycx84MkZQXh4Gg1mQaOZu2ETs3/axPy36mGac4y1yw/oeioU3q/y6ez/0aNDZzoP+Zqpg6rqWueqiD/ZejxbtwrheaBBY1aVQQt3sXj+ChYv/oAat7vg9ZQenZm8dp80fxXLfhxNQH43jsyNJpP+5PfVy5izZh3DqxmSr7TzXLiibTGqiI+KklIuicKN6i/0o0ObznQZMIkZqw4wtdPdl+Mr3NoxYc1BaTtLWLBhDYMCDetM+IudB3R9bAVoNOYEDl3J6hVLmbNiLW/UgpPLfuRoiraCtqbeO8uY8WY/2rTrxWtTljKulT3aUlcdvYH1u+/ueXzU7ZcGJT/Bkimp1cGPzi4y4k9d5cdTuYW6OwWhCGr1nTjRGD3XkSO/HflyFMatRkF4UnIfXpownjr5p6Ql6tgjnLqm71FVupgTt3Mdm//QPjYQlmmNripRRxNxvTSPOBEejRyvHp8xsp694XVhSgL6TKR7gP50r2lAXYId9A1DhV9fRr1STX8qUOlHjZAy+spck056mra0U+Du74+2cxTVZZYPa8rQD2ez46J+/NbdpG31nUyfIEPiZVGdTu0q60/LaVK4Ghahm2xMXq4f745pjK3hNapIjh27IqV2EpMQmrXx1vdCacndaN68xu31hZ0L102+49G3XxqU8ARLhk8Df8Y1sEAVHcWM1XHEiuxKeBhmlpgaoluTlUlmgbjJIiv/tKDCGkvLkt/OEEoRuT3OLmaGF3rquFskGmIw++i3vDOiP2MMj7Fz95F/ZlCdV3iUsvDskmPn6nZn3GhRZEZd7zKl1Bg0vJam35kjQ2liYnitud2YtG79Pu919Ud70b06JZRdC8czol0IXd+az5kihq7J7rQ6JUo8yrjfXmd6WsHB6VpyO1dcjHdeFUNsvGHrZi64OBqvT461iyvWuhWqSUs2nMc08qjbLw1KdM3iXsOfj19wwDYxjq8XXeW4GJ8gPCy5dPAbDnB18k3ijMft5UZxM17fm6BwK4tnfre7IDwtCuXtwtasck9GjZ3AmwUeExn9wbe80d7JsFQRjCtbqZISJ7aF+1L68eJXu1kzfzLdG/hhrQ1AVQIX1rzLmKk79cvck5rM9PzeVBnm5g9zbyQFivwgz8shV1/E3qbOziZXl3/JpPbvg64qepztlzwlNsFyDCrPJz2dcU1L4PsFYWyPN8wQhIdhUpEKPvpz+GSf5sTJOxlWxpE9nDYcu+YBVfG7bxNSEJ6c3M0DF8P5ErV1dbq+MZ6Ro40f7zFiWF9CDBdfFElmgtLQGNDExxKXn2GpY7l4MUokXEIRbPBrO5bPlv/D1lUTqGunTdLziPp7s372bWrir1wk6XYQJXH0yFnD7UXM8CjnpXt2X8pylMkfpZ97ibAw46uH8gi/eFE/JgxzvCtU0D27oxi2XwKVyATLxs+bj/u4UzYziXk/hbIhpsD5HeF5pk4nISqSqBsRxCRnGbrDNaizEomRpkXHxKMbsy53o37javrud3Ukf8yazOaTYVw+sZIZ01cSrV1GZk/9tq0wGiojCE+F3LEhdSrrM/ncYz8xe+NVo/tYqUm7tof16/Zy635ZksIdN0OWlndpCbMX/E3YxT2sHN+N/60XCZZgTMWVpWN4f/YWrukakwqcAuviZ2+o8hWFW5VqYtaN5PXxCzh08TxHFo/l660J+vLVrDp16tjolrovuSv1GlTVjydUhbF+zgquG4I8+9Ji5qy8oE+YbBrSvEnhcWfFsP0SqOQlWOaODHvZkwBzDfFxefg0LM/bPSsYPfwYUV/8IOHzKnPzSNrUC6R5/cq0Gbce3QUr0mEY99tgWkvTmtWtzcc7te0kBb69RtHOXRviGtJOzGZM5xq07zKIZWf13VdWIaMY3sWtZJ8nF54Niop0H9ETL20PVN4l1o6qRZOmDenepTGdGvpQr0kH3puyjPN33SDLiGlNWjTx0serOpq/Pu1Ip9Yd+N/yU+R5+uAiAlm4TUXS5T38Pr0HHepUpkunpnRo1pOlugstlHi37KhfzJgmhXPLR9O/dR36TVzNNV0sKnDvPJwXvB7mSiAF5fu8wwvltEGu5taWkXRpWJuXOkpx234M229KTQCZLdWHTuBFXblcyBNvv+QpcYekTKnEWkquNTI5ruVdaF/X7a5Hu2BxK/fnldzUHFPjoSiFyUwxMSwgd+7KpHnT6eBvWzDQZZZ4NX+fb+e9Q3DBsciC8JgU2Ng7YCKFnsLCAVuLwkEqx6ntLH6Y+To13aWg02STeOUUp0+cICwikVyFI36NG1HecApQYeOAnTaOFZbY2eaPP7Gk3lvfMLiWs7S1fKa4NRzHNwvHE2IjRbnSFlvr0lkZPS8Kf7eFI+We82U22NubSa/lmNvZYXG7UJNjJb02k17LTKX3WmnfYYp/6+7UcjMjLyWCi6eOEX5LangqHajU/Uu+HNtA/9bblAT0HE+3ynZGZaU5Xq0/5qvJXXDInyi3k/bBVNoHBeb29hS+nZbcuSOTFs7l5ToemEgN28ybFzh7OpS4bA1K+2A6TFjJ7FE1uLvYfcjtlzKl5k7upYW4k3sJpEom4uQhzl6LJ1tpj2fluoT4OUqHtPC0PT93cn8EeYlcP/UPFyPjSFeZYuvmR8WgILzsHjIi1clc/2cfZ6KysfKpTb1qXkVUWM8+EVsPISee8ONHCItOIs/cFe+qdalS5k4HReFfDFg50pnLB/cSmqDAqWI9alZyvf9VjveUR9Llo5y8EEFSlpQAulekavUquBYaq/70tl8yiASrmIkESxDuEJWg8LSI2HpydyU4o//dn6T5r7f/tJXSjjdBEARBEISSSyRYgiAIgvAckiuVKA3jqBRy+V3jwZ62/3r7T5s4RVjMxClCQbhDnMYRnhYRW8VAnUzk+YvE5tniFVAJlwfd/7O4/dfbf8pED5YgCIIgPI/kdngF1aF6tf8oufmvt/+UyTQSw3NBEARBEAShGIhThMVMe4pw44EYwytBeL51rO8ujgfhqRCxJZR04hShIAiCIAhCMRMJliAIgiAIQjETCZYgCIIgCEIxEwmWIAiCIAhCMRMJliAIgnBHXhaZmdmoDS8F4V5U2elk5YhIuZcSnGDJsHO1pW41F1qEOFLFTflM/UaR8G9SkRZ5lCM71/LX1g0cOX2VNJVhliA8kIronVOYNf5VpkyZw+nk0lOhqCI38PNHr/HJB2+z9njCA5MmdfRCJrbzpUfLCgya8Re5humCUJCaW6t70bt5Bbq3rMPsg9mG6YKxEplgOfh58v5btVj2bhU+7V+R918J5ItxtVj0elmqWRsWEp5vOdc5PL8fg1t60alBOYZ8tb/IykCduJ9V45swsFdnPpo4ks8nD+GjoQ0Y2HcQa08lila68GCqS+z6dQ67/t7K/j8+54/DWYYZJZ2KyK2zWfvnZg7tWsay1X+TY5hzL5rsVDJ0dWUeGelp0hoEoSgasjNS9fGkSiU9Q0RKUUpegiWzoH3nctS3yGD7n5f4+MdzfLw6kiOJMlwrlWV8J0esDIsKzyM1qecW8/WQNny6cAcxmdoDW0V2ZqZ+tjFVKBsmvcbivy+TWeBubxoyIzax8IN32HVTpFjCA8icKOPpoC8szXzwKlNa+tJl2JX1xka34xa4e5dDoZsuCMK/oQT2YOXwz7bzjJh1li+23WTP+UT2HLjGxytuEq2S4VDRkSBRSjy3so58yNgR77EtNBmZiel9Azht73esOZ4spVNSvVi+N6O+28F3c76hQ4Clbr4mYStrfz8tWunC/cmdafrRYZb8foRf/tjCK0GmhhklnRz71nNYsOkYC/44xVdDamBimCMIwtNXeu7kbuHGZ5MrUDsvTvr3IrtL6OAAcSf3pyv195d5ZdYZ/F98n9cC/+ajz9aRppHj1HkxP77f0qgCSWf/5LpM3RqPRu5B6+l7GN1Q3/eZc/hdhr79C7FqUARP4Ps5o/AUSftTUTrutp3C1R3z+X3LHi5HJZBr4oBr+bo06jGSFoF2UpqiJv74r2w9fAOVVTCNunXGx0L/TnXycXYu/Yndx84Rl2mCfbmqVPCy0/cUyczxbjGC5gFmxB1dzNZ/YjGr1JUuDcw5tfIrNvx1nFu5NnhW70mP1/pQ0VZDwvFFLF/2G+ejMjBzr0HDXm/TpbbHXT1Pmde3sXn1Kv45e4n49DyU1m54BTanabf+1Pe5M45CHbufPzf8TazKhvItBtLIT9+40FInHmP7kh/461goKWpHytbtQ/emN/h+6DRCpVaHVet5/PxRZ0rqT8SJO7nfW3r4etavWM2J0Gsk55ph61GJoBav0a1dCNa6VqmalHOrWLdqHacuRZOldMazUlXK2BgizawSjft2x08X52qSzy5nzfI1nLoilaf2FanRaST1b77PuB+OSw1UW5p8epx3W9yJLUGv1CRYZn6+/DDUA7foCEZ+HcHlEnpmRyRYT5cq9jhnkryp4u9I3u6R9P9gbdEJVu5xFg3ozOorUk1h3pYxvy+ilY1hXvoqPu38JgeztGd/+jBp9RfUNjPME4pVya8E0zk3rxsf/nyy0Glkqcxp/DW/TO+JJRns/bA607alSBl5VV7+eSN9yiulBGU7P4x8nY1XpUCSm2Fhrh2XkmM0rk+J96t/MHuo/+33K4L60dV6K+sO3TLqOZVhXWsio5sc4YevtxBn3KVqGshLX27gter5AyNUxGwby+SpK4gsaiiYRSU6fbSSIY1cdL27WTuH8+rE36S/UkmFwdv5/LUAXbKmTpD2/Q1p368Yr0QmtWM9MYmNlBIukWCVVpmnpvP+219zKaNwQLflrT8W0dJKSpj2T2D8B4uIyJFC19QaM00GmblGlaqiEj3nb6N/JTlJ0rIfSMteNx7AJ7PCxc2M+BjthRMiwbqXEniK8G5Wbi6M7OpGGXLYt/smV0pociU8fQqX6lSTkqsHBq4qklux+ppKbuuGs3ECZVIGJ3v9GjSpsSSJS6WeX8kbWbtKn1yZV+zD0E8WMeHDz+jZrj5lbC2klONe8ri6ejpbtMmVRQ16f3+CFVtPMv21Wuga/XIX/Jv2olUdH93S+VRnf2X1oVjMyjagfsNqOOqGc2lIO/oJU77YQrypN0FN2hDgYgjYnAtsXbOVNP0rVNcW8PXMlbrkSmYVSNMhX/HB1O8Y9EJ1bLQ7m3mBTZ9P4590/fJFy+b8r5PZYkiu5Nb+hDRpR5CnJVk39cmVUFolsH/pT/rkyiKY1m/9wEQpPoa+2oPgsvaYaWMk7xwb5v2qS67Mg95m+vqLrNjwO32q6JN4uWMI9Tv2ooanFJw5R1j9za+G5EqOlXdj6jeph4dFBrG65Eq4n5KZYMmUNHwxmNljqvHDe7VYNtaf5maprFpylpnHcnRjagThvvLSDFdDScwsMDWuKWXmmOlKGok6i+wsUUw8r1QJN4jX5RkKHIK70qplW+q3fY3+k9by7YTO+mSpSKmEnQ/V9UIpg7rTIdgeudyegBdepII2aVJn4Nx0El2r2+mWvkOJc5NpzPx5DRNm/s7EvoG3T//JnFoy+PsdTJ/2MzO+GE1FQ/KVcfksN3SNgBxCN/zM2TRtCWhF1SELeXtALxo07UbXcQsY2NBOlxCqb21m16H7ZFhSpbl71xV9D5qyMi99voVPpy1k+i8beaOF112nI4VSRBVLbKz+gh+5Yy2aduxCPSk+Og/9hmmLv6KRtpMp4yRhV/KkJyYEtO1PgK1caoTWoG2rarpbIamzPGgwahjBNpB76jf2R2qXlUKlwggmL1jJhGnr+Hb+LBq56wJUuI+SmWBpNGRn5pGSkUdyag6x6WpMHezo0rk8A6uZi4GawoOp1XcScY26UEtLKlBuJ1zS81LRjys8DQrXinjaaoNBRfRvg3lr3ER+23ORtAfm3AqUJvpURJOZdvv0oiY5gXTDc7miiApIUZm2r/fFW3fezQyfKtX0PU/S+jzbv02HAH0vgqJsHSq6GAIzK12/flUU505f08eysiq1G5e9kwzJXanTIET/WpPK9UuXdZOLooo7zTXtAESJolJX2lQ2nNoxD6Dl4H74iQyr9FJ4Uq6cIdG+sZipg17hhxV/cs24W1JuglIfKGRlpBnKSTWpSSmG5wopdrX/qogPPU+8PuCo0LovFQ0tDnPfXrz8QvCd+BOKVEKrFhVH/7zA+/PO8u73pxj08VFGrJIyc2s7XupbiQG+okYUHsDUAtP8MMnOJNtQ6ellkZ1/WlBhhYWFiKfnllVb+o7qhqc24VGnELnvJ358ryWvD3yTjRfyT8wVxZoqDRtiLdVkqvM/MWfeMvbv+pUFny9CO+xPZl2P6lXvMXrpdnIvPZWSMIXhtUxmPEOarjS8lhqcOuqbJCQZnps642g4za0nx9LBBUvdW9Skp6bophYpKZFUw1NT17I4FqgljfZBKIWsqTvoQ5qV02ZCUhxc286GrwfwRs82fLH2JBnaRSwbUKemNgnLI2z1+/yyYSP7f/+EuWvPSjWvDKuQplTWnaHWkJKcqH0iMcPZw61gQmUcr0KRSkfNoskj/NBl5h/PQa20pFnN/NHKgnAPchccDBWQOvUWicY3Gs6NJj7RMD7L2QsX0dP9HFNSpv23fLlgAa92akgZK23MqEgNW8W8/33GcV2NVBQ51t4V9bEjJT4nfnmbKR+M4/eTCVIFVpEWb39CS7fiLl4VKPJXqcohTx/Ct6lzs8nT5V8yTM3vMzRdJr+dRqmys6S/VniWKLx6MPanLUwY1oeqXja6Sl6dcpadXw5l0eF0KXTt8fLx1CVL6rg9rJ46mCnT53E2GSx8ejBsTE/yO09lt7v3VeRk608VCg+vuEuAp0jFzaRcXRempZmoEYUHUFagrJfhZHLOOS6ev3O1VNap/YQZXpqVD6KcOOf83LP0aU+PD1YzZ8U6Xq6hP8WiivmLwxeNL50yorrEpu9/4kquHJe2U3hv3Af0GTiWAePmM2vZVt5q51v8QxkUXri6GPoQ8i5z7arxvuURGR6Gvh1hRhmf8rpnRZG5uuNgKPnzwo8TdrvxoSblShiJBXp7hVLJqiL1+3/BlGX7mTa4ga6nVXvhz7F9J1Fd+5lFq86RJ/ei2ds/MGLYWHoPmsiIz/5g7qKvae6Vf583Oc4uLoZkPIer507q79yupY7n+tVbhlOKwr2UuARLZmFN7fKmdxdOCgtq+1ug0Gi4Hn3PZqXwrFNnkHzzBrdiIolLyU+aNFJLPIk4aVpsbAK6MetyV0JqB+vjSH2D3fOmsvdcOJHn1rJg7lrdPbCQ2VGtaXPEry89v1TXf2X2Z99yJFJfpigcKxPoY2+oVJSGsSpFUF0jKlp7nllKSs7v4kK8BnNre8xlqUSdO8rVhHskZk9C7kLVmkG6gciowtn161p0uyDJubqM5Rv1g+6xqk+dOoUH198ht6tFJR99I1V9cw2Lvv+d0KsXOLH2HSZNWaM/NoTSSYqLLTPGsGrfFfTXbjjjU6Wi4d5X0ksTE9RRl7ml7YySkqSww0dJxBIrG0tkaVe4ePqC0VXVcmyDa1NWdwyoif3zMxZuP05E+B42TuvL13/ekKYK91PiEiyFm7OUUVdn3hA/Xq7nRB1/O+rVKMPI14Po7yNHlRjLisNF/CyK8FzI2vU2Q7rW4rWXajNk6iZ0F1RJCVbS1lG8Lk0b+GJT5u7XFi0KPDsNpaGur1tDxrl5UkuuEcMGj2RTqD5+LCoPpXcr15J3EAj/GnXyZU5vmcJHfaoz8JX2vNW3IR+v1Q8kV3i1pl7APe7ablqbpm0CdVcZZl/fyu8LprLw2/8xd8bbfP5+d0a91JDJvx69fXuF4qHAq/Nomut+qkdN/O63GdWtKWMGNua1Ae9xME7aa5kNlV5+hxb553iKogyk1YuN9b0amjQurRrG232bM3HWMq5k2mKjmyGUSupEbhxfzc/jmvDqSy14a1BTho5bRIw281b4UqdxFUyqdKWpn/Ziikxu7J3Psrmf8NNXHzB76iimvNGc13r1Y/XpZN3qFH69aF9L36OryTjJhkkdGP5KT+b8cZYsawesRKjcV4mrW/KiYllzPBOL8m4M6FGJz4YF88nLvrzgpyQpPJqZ8y+zv3hLLaEUkZuaYXK/g1pmitJwTwa5Y2eGT/2Yxj76cQi3ySxwrz+WD6a+SYXS8qsnwlNhUr4NTau5Y6JKITb8BGFXb5GDEmv/noz4ZBxBusG+Cqxs7dGOOZeb22NtrqtuUJiZ6weoKz2oWL81teo2pUolLyy1wZYTydF54/ntoraroKj3G1g5YKMNaLk51taWd+JUZiW9NpNeyzCR3mtheIvcsS3DZ31FJ2mfldI+ZMeFcuniJZJypP2xrUyTkYuZ2D+E/LBWWNvr16+wwNom/6YTCtxf+Jy3e9fE1qiHTm5Tldbv/8prdbR3r1diaW0tLSmUKiaVqNu6Lk6meaTHnNfdSiQxR/rGbYJoOe4HXq5mLoWuAlMzpS5pUrqEUKthS2rUaUAFd305mROzg19nzSNcF7rlaPfBt7wY7GRUhiqwDujDm7MmUd1aihCFLdaWIlKKUmLv5C43N8O/rBVu0hcoz80lOiqVsARVie+SFHdyL4GkyjPm/BEu3UggV2mPa4VaVPJ2EJXHv6B03G07h5Srx7h4OYq0PHPsy1YjMNDzvncwV12YwZjXv+SKSonvqxv4YmiIYVhDNmFz2/PO4vOoMKPuxDP8r8PTOAmdR+r141wIjyQtW46FSwUqBgXheL+dvouatOuHOXPhBjmW5ahYvSbuukH+pYO4k/u95SaHcvHMReJS8zB19MW/Sgguuvw6j0vz2zF24VlUiiB6zttI/0BdK0I6DE6weFBnVmozK9M2jNn4M63yf0BAncyNUwe4dDMbc48QqgR76xsSwn2V2I9InZXNxbAE/j4ey64zSVwsBcmVUEJJLSz34JY0atuD5i1bEySSK6EAU2x96lG7xUs0b9OB6g9IrrSyLp0mQjfgyQQHN+PfCswiJTkdXatV7oqLe7EPdTdQYlOuNrWbd6V5uxeoV/NRkystOdbl6lGvTTeaNKpdqpIr4f5M7CoS3LAzzdp1pUGd/ORKK4MroWH6sXpKF1xcjOIzO4EUww3d5E6euBqHrtwOz5B2NG37AnWriuTqYYmPSRAE4RGZB9aivK7hn8mxbzrz/gdj+G7G20wb0Yap669LjUE5trWH06mqoXdAEEoES/yDg9BFZfYufhz6ElM+e5fZU4YwfuDr/BklpV5yJ0L6vkaQGD7xxBTl67822fBcKAb925YjLFIMEhMErYplrZ/J40HuWINqfnJir1/i1q1oYq6e5dKFM1yPSUHmGETtlybz9tg+lBP51VPzrMbW0yXHPqgx3rIb3LgeSVzsNSLCTnEpNJRbadI8/1Z0fOMbhneueHscn/D4SuwYrNJKjMEShDue/XEyanISI4iKiSNTrcTCviyeno7Ffw8s4S5iDNYTUmeRHH2FW4npqJXW2Hn44m4nWgTFSZwiFARBeGxyTB288QmsSWBQNXxEciWUFnJz7DwD8Q+uRUClSiK5egpkGonhuSAIgiAIglAMxCnCYqY9RRgaIcYFCIKWdpyMOB6Ep0HEllDSiVOEgiAIgiAIxUwkWIIgCIIgCMVMJFiCIAiCIAjFTCRYgiAIgiAIxUwkWIIgCMIdeVmkZ2SLnyYThCckEizhOaAi5eohdm9cye+/rWP3P5dJ0f0YlyA8DBXXN05m3Ou9eGPcNxxOLD2ph+rqOj4f3ZfhQ0ey4GD8A5MmdeQ8BlZxoUYld1p8sJ0cw3RBEB5dKUiw5FRtX5U10xuwZVot3qkickJBkn2Vvz7vRqtK9gSUc6TtR3uKrAzU8Xv4YXAtmjVtxZDhg3j3zf4M6RpCsxYv89ORBNFKFx5MFcqGOV+z/s9NbF0xlV/3ZBlmlHQqLv/+JQvWbWDn5sV8t+gvsg1z7kWTlUKabqE80lJS9T8KLAjCYynx2YqJlydDm1pjplYjNzHB3kJmmCM8n9QknfyJD7o2ZsTXW4nI0FYBKjLSM/Wzjaku8MvIvny59RLpBe72piH9ynpmDnuD9VEixRIeQOaMj7ejvrA096V8WaVucsknw9HXF3vdjltQ1s8bhW66IAj/hpKdYMkt6NK5DH5ZCaw5miVaUwKZe8fTq/sY1pxJQm5qet8ATt72BT8eTJLSKaleDHiFT1YcYP3qefStYqWbr4ndxIIlJ6W2uiDch9yFjt+e5cDhc+w79jdjqpeWn8GV49RlITtPXOSvf8JZM662+AFfQfgXlegEy7WWN33Kw8nt1/g7TdxwXoDs65e4oXKjRv/v+XXqC9jcs0MzjUObthGr7aCSl6HT+Bn0rB9MQJ0+jH+vFx66yM8jfN9fRIjM/TmXzMUNU5nwWlu6tqpFxw5tGPLWZNadTDKcQlZz8/ASlvyygKW/bOBihm6ijjrxKGunD+a1F+rRoVVj+g99k2lTJzFL+5g2hd/PpEtLqbi5bx7fzvyUH7dcJCfnOnvmjuL1LvXo2K4NIycv4lSSdksqbh2cy0eDWtGlVX16DXiTBXujimwApF/ezIJJ/RnQuR7tm9WiS5dOjP7fV2wLSzUsoaeO2ce6n39k+eIf2XZBuy93qOOPsOqzV+nfqS6dOnRgzPTlnC/Y1Ss8BaqY3Sz58mO+nrue8KxbHPx+EC+3rUv3ET9wQfqyC8zPzuHG7q+Y+GpzKSYa0Pf1d1l5MlEXl6qbe/hlQi96t61Dlxe78795u7hZOFhSzrLpq5EM696Iji1q07Vbd96dvoTTyfrI1m5rqW5bf3A5J1va1jd8OKg1L7aqR/eXB/PNH+cxCnfpDVEcWDyFL2dJsXYpi7j9X/BO9/p07tyfX8/d2fjDxucjb7+UKbE/lSOzdmLcWwE0Tr7OmNmRaFpVY3YbS/5ZcZiJh0tujSh+KufpUsUc5XCCL3UrO5G7ZRCNh64kWSPHtfcqdsxoc6eFnnOUzzu0Yl6oFCsWHZl2eDld7Qzz0pYxsuYQtmdKceban7l7Z9PM3DBPKFYl/+dM0vhnZgde/+54odPIYN7mB/b92BdrqYjfMqoio9cngzKENzf/xcgApZSg/MmnPfuxJCxLSuLNsLLQkJmeYzSuT0nFN3ayYVzA7fcrqw9koM0mFv590yhxkmHX6BM+a3OQTz/+gxjjStIsiEG/bufdutaGCSoi1o9iyLhfuVzEWXEsK/PydxuY2MpV13rO3DiQxsNXkyrtS9DY/awcHSg9k5KrOGnfe0v7Hmo8nkyGVRkvTGMi0I7jt+mymD3fdcXCMLekKa0/lXP7O1HWoUdfNZsWH0WX+tq8xJdHf6b5zvz5ten5ui1/zd9BrFFMyOyaMW5WJ45NGs/2aONgMSdg6DqWTWiEro8+/QBf9erG3FOpul78Oyxo+UU433e3MdqXWrzUz4S/Fh/Qffe3yZ1o8OFm5g/Uxw2Z63i7dn82pigJ6T0Q9R/zOaX7CmzpMDuMLzubPV58Puz2S5kS2oOlIKS1N82tM1m/IYpw0cMgGCjca1FfSq4eGLiqCCJj9IEjt3fHzTiBMvHEzUm/Bk3yLeLFpVLPr8T1LFikT64sg/ozcfZyvvt6FsO6NcLbzkJKOe4lj4uLPmaFNrmyrM3I1WEcPXuJpWPq6is3uStV2vWjaxNf3dL58o4vZP7ftzD3bUyrltVxNdFO1ZC8dyJvTPqDm6a+1GrTgWruZrrlyT7HqkWbSdG/QhX+AxM+WKKrvGQ2QXR6Zw7fzvuR9/rWwl67sxnnWDbxY/bcN+/I5tic91lhSK7ktgHUb9uJWt5WZETpkyvhX5B3hNW/HCXDyo+6bTtQt2YA7saD5KT5K+fsIM6igjS/HcFuumCRyqxdzBjyDttjzChbpxMtqpcxNCyzCF0+j7+kdoBW4uZv+EWXXFkR2GsmX/64lJkfj+OFun7YmReK7LyjrF10gCRzb2q06ULDig768XrqeA58M52tSbqljORxcsWPnEq3xrt+Z1rUr0t5D+Xjx+cjb790KJEJlklZT4bUNSf26FWWXRFHu/AYclNJNzTOZeYWmBmXJzJzzPMnqDPJzBQx9rxSxUZwU9fSVuBcowcvde5I665DeevLzaz/vKs+WSpSCqdPXtD1QplU703vGg7I5Q5U69udYG09qM7Ard2nvFbXXrf0HUrc237J8i2bmL1wG7OHBt1umctc2/D+6v0s+XEFS38ZRxVD8pUeepqrukZADieX/cjRFG1/hDX13lnGjDf70aZdL16bspRxrex1CaE6egPrd98nw8o+yMbN4foeNJNgBv+8m0Xzl7Fk604+6ViuVPYUlE4aNGZVGbRwF4vnr2Dx4g+oUWiQnNKjM5PX7pPmr2LZj6MJuB0sbjSZ9Ce/r17GnDXrGF7NkHylnefCFW2wqIiPipJSLonCjeov9KNDm850GTCJGasOMLVTfo/oHQq3dkxYc1DazhIWbFjDoEDDOhP+YueBgqeXtTQacwKHrmT1iqXMWbGWN2rxRPH5qNsvDUpegiW34MUuHvhmxrNwSyL3bYgJwr2o1Xe6xTVGz3XkUmVoeCo9V4hLq55bijKV8LXTFvsqri/pR/eB41i09TyGISr3ocDUVF/baTKkZN4QYOrEeHT1i0ShLCJVUQbT451X8deddzMjoGYNfcteWp9vt/H0CdZXfEqf+lR1N/SyZqShG4KqiuTYsSvSnkpMQmjWxuiqQLkbzZvX0CdHmhTCzoXrJhdFdfMkF2P0f6CySg+6hxjSSItAXho7gECRYf1L5Hj1+IyR9Qon4fmUBPSZSPcAS90r04C6BDvoG4YKv76MeqWavgGg9KNGSBl9Za5JJ10XLArc/f2x1YX2ZZYPa8rQD2ez46J+/NbdpG31nUyfIEPiZVGdTu0q346nq2ERusnG5OX68e6YxtgaXj9ZfD769kuDEpdgudX2obcPHNt2ld0Fx8MJwsMzs8TUEN2arEwyC2RYWWTlnxZUWGNpWeIOA+HfYt2RURN74atNeNTJXN4xl6mD69OmwxCWnrpfAWRDnZZNdBVY3sm5fDRzMVs3L2Tm/+brBirLbBvSqFbRo5f0VaSeTErCFIYJMpnRHJkSE6XhtcYQvKoYYuMNz81ccHE0jls51i6uWOveoiYt2XCeqAiaxATy55p5eONaoIEhu89pUaF4ybFzdbv/lZ2FYkJxJ1iMvicZShMTw2vN7cakdev3ea+rv24MnTollF0LxzOiXQhd35rPmSJ6LmR3Wp0SJR5l3G+vMz3t7mNBbueKi/HOP2F8Pur2S4OSVbPIzGlS2x4bjRrnahWYPjyImYbHmBrm0s7KCGgayMyhAfT0vhNegnAXuXTwGw5wdfJN4ozH8uZGcTNePz5L4VYWT9Fif44p8e42n9V/LOXtXk3wttHGjIqkc8v4bOSH7LvnmQk5tn6V8NCexVDHcOD7kbwx9E0WHY4Hq0q8+PF0XixT3MWrAkX+KvNyyC00NlWdnU2urn6TSe2L+121Ib9d8OdlZxoNtheeKUo/XvxqN2vmT6Z7Az+sdaGdwIU17zJm6k79MvekJjM9//o9GebmD3OpQ3HFp9bjbL/kKe4S4AmpSU7I5EaCClN7M1yMHk4W2vRK2zFhqnvtWHiQniAYM6lIBR/9OXyyT3Pi5J0MK+PIHk4bjl3zgKr43bcJKTwPrP07M3TmRjbv3sKb9fVjRfIit/PX6XtcAaEKZdm0OVzMkVOm6+d8+dlkRr35Pu989gsr/trLtJf8iv+eU8pylMkfBZ17ibAw433LI/ziRf2YG8zxrlBB96wocg8PDNd4kHvhH07fPjTUJIRe1N/aRHhG2ODXdiyfLf+HrasmUFd3OjyPqL8362ffpib+ykV0dwvRSeLokbOG5NsMj3Jeumf39UTxWQzbL4FKVoKlyWHr0hMMnHaMAVMLPv63L0NqV2o4tfkkA6afYu5FUQo8l9TpJERFEnUjgpjkLEN3uAZ1ViIx0rTomHh0Y9blbtRvXE1fyakj+WPWZDafDOPyiZXMmL6SaO0yMnvqt21F/t0bhOeP6vJCPhz7Obuu6ruqFM7BVK/gYCgYtafpdE/ulneVaxG50hMpKTm5gxOxGixsHbCQpXDtxCFC4+6RmD0JuSv1GlRF12xQhbF+zgquGzaTfWkxc1bqB91j05DmTe41rkdajWNdalTQ/2HqGyv4fOoaTl06x/7FbzB43Ar9sSGUciquLB3D+7O3cE3XmFTgFFgXP/1t/aWXhdN/NTHrRvL6+AUcunieI4vH8vXWBH35aladOnVsdEvd1xPFZzFsvwQqYT1YgnB/mZtH0qZeIM3rV6bNuPWGAcUa4n4bTGtpWrO6tfl4p7adpMC31yja6QYKa0g7MZsxnWvQvssglp3Vd19ZhYxieBc3cRA8x1SJlzi8djJDWwTQvE1TureszrBf9AN1lT7taBl8j34os7p0fDFIN8g46/Imfv7qI2Z++i6ffDCScUM60rl+dYbMOXT79grFQ0H5Pu/wQjltcqTm1paRdGlYm5c61qRF+zFsvyllRjJbqg+dwIuGAfJFUgbR9eVm+gHQmlTOLBxAjxZ1GThxMRfS7bDXzRBKNxVJl/fw+/QedKhTmS6dmtKhWU+WXtNFNt4tO+oXM6ZJ4dzy0fRvXYd+E1dzTdt+kGLOvfNwXvAqMFDvHp4wPp94+yVPqalb8nLUqNRqsnUfuvC8kpuaY3q/8l9miolhAblzVybNm04Hf9uCgS6zxKv5+3w77x2CDbcbEp5PpgEd6FjHA9O8ZKIuHON02E2ypQrIrnJfPvx+ArV0Q0UU2Ng7YCKFlcLCAVvd76FqUJpb6Aeom5ShSvP2NG3agrpVy+nHumRfZ/est1h0RttmL+r9BtaO2GvjVW6Bna3VnTiVW2Nrqx93aiq918rwFrlzRyYtnMvL0j6bSPuQefMCZ0+HEpct7Y99MB0mrGT2qBrkh7XCxgE77foVltL68+/rpaDsy7OZMbgODkb1lsIuhO4zVvNuY3tpCSU2djbSv0JxK/o7ueOe82U22NubSa/lmNvZYXEnWLCSXptJr2Wm0nt1wWKKf+vu1HIzIy8lgounjhF+S2p4Kh2o1P1LvhzbQP/W25QE9BxPt8p2RmWlOV6tP+aryV1wyJ8olxJwe1NpHxSY29tTeKTOo8bnHQ+5/VKmxN7JvbQSd3IvgVTJRJw8xNlr8WQr7fGsXJcQP0fpkBaettJxt+0cEsOOcDL0Bsl55jj71KB6NS/0F8cXLe/Up3R7cToX8pRUemMHq8bVMIy5yub0jKb0/k47fsSMFp9fYU6Pp3F6I4+ky0c5eSGCpCypgnWvSNXqVXB9pLHAalIuH+Dw6UiyLb2pWr8OZXXZYelQWu/k/q/KiSf8+BHCopPIM3fFu2pdqpS5c3e3u+70P9KZywf3EpqgwKliPWpWcn3MsYQPF59Pb/slg0iwiplIsAThjme1Ekxd2YP672whFwsaTTnF/H7uhpZ3En+Pb8ywpVdRyb15edk/TKovukmfBpFgPbm7EhzDTyn9W/7r7T9tpbTjTRAE4b9jUbUOgbrTh5ns/aQV/YYOZ9IHIxndozGjl0nJlVS0OjR+k361RXIlCM8rkWAJgiA8ImWl0Xzx3XhaBbtilnWNfzb/yopfF7Pl0DXynKvQctiPLJ47hPLiPLRQgsmVSvLvZ6uQ62+F9G/6r7f/tIlThMVMnCIUhDue/dM4arLjr3E1MpYMtQlWjuXw8XYq1eNGSgtxirAYqJOJPH+R2DxbvAIq4fKg+38Wt/96+0+ZSLCKmUiwBOEOUQkKT4uILaGkk2kkhueCIAiCIAhCMRA9WMVM24O18UCM4ZUgPN861ncXx4PwVIjYEko6MchdEARBEAShmIkESxAEQRAEoZiJBEsQBEEQBKGYiQRLEARBEAShmIkESxAEoQRS52SQma39sWhBKJlU2elk5agNr4TCRIIlPLdyk8O5eGQre7auY++Bo0SliMpMKBlyD49nUEs/ejQP4P2V1wxTBaGkUHNrdS96N69A95Z1mH0w2zBdMFYiEyyvpsGsn9VAd8uDgo8GbBzlieezdj994W5pG5jV0YtODTyKfPR46xfii2g45UZt49ex9ejeWFquSUPmH7/7wM8IW8n8t5vwSqdGjB39KtMnj2Da2M4MfbEBk+bvLHK9gvBvUqUlk6HSPsshMy1LN00QSg4N2RmpUnRKVKmk64NVKKQEJlgyrK1NMNXkcfHkTTYfKvjYdDKVZHHnrmeeOjOWhNR7H7Q5KQlkGMeBOpHQ397inYEDWH7gGlnat6ozyCxcN6kj2fb1OH4/GEZaodVrsiI4tmg4X6y5giguBEEQhCdRck8RarI5tO0SX6w0foQze08K4scRnicmeLd6m5cHjzN6vMuA/h1wVxgWIYMT33TivRnLCU+VozS5X1jLpP/Mca89iCFTf+PbpX8xbWJ/KlgaukU1KZzZtpEYkWEJgiAIT0CMwRJKOCVlGo2kz2tvGz3eomtTfyn1ypdNzPVI1E616fjBOkY1s733r7LLPWkz5SDfff0pXZrWxdenEsEdJtGjkcPt92iSY0kSpwmFR6Ii7uhClv4wgzW7w8hJ2MfqyV15o197pq0+e6dHVJ3ApS2z+Hrci4zp14ThA7rw0ZQv2BOezANDTnWdf1bOYvEPM1m35xK5hslaWeF/sGb+VBYv+JlTsaJ18LxLD1/Psin9eW9AU4a93IZ333mTnzedIO12kKlJObeCnz/qzdhXmjJyYDemTP+IRd9/qn/8tJrwTMOi0rLJZ5ey4H/dpJhtxuhRQ/h5yxkyxZmkBxIJlvAMsKX24CV8+etvDO8UTH5n1L2Y2zpQ8EfbFSiUd94ks3PBQRwZwiPJ5sKGaSz9+UsWL5nLT+8OYNHWg1y5fIJjJ8P1yVBuGFsnteedjz9n275DXLocRkToEY78MZPpQ7oyf3/c/ZOs7ANsmv05K3/+gp9X7Cb59sIqYvd9z+KF37DyxylsOS0GHD/PMk9NZ8LQYSz5YxtnQ0OJvHKac/tXsWrmVxzSJU1SwrR/Au+NGMOqP3cTFhHFrcsH2f/7XFb/Olv/WDSbfde0F/2oSZKWfX/kWNbu2C/F7EXCj21g1SfdmPr7NUSOdX8ltxqRmRBYuyz925alXwsP2lWxwd3UME94jqiIP7WSzWsWsXnDOg6dvETqXRf7KXCq3Ijydo8ZzplHOHYiyVBYmOBbpzlut08/CsKjUZ1dxqZz6Vh4NaB+owYE+nhIEaoiYvV7zN95nTxMcWs4hjc/W8A7b/ShgrWU3GeeZ+OXX3BGjGcXnkgC+5f+xCXtAFWLYFq/9QMTp37H0Fd7EFzWHjNtOzLvHBvm/UpEjtTYDHqb6esvsmLD7/SpYqVbg9wxhPode1HDUwk5R1j9za9c141ml2Pl3Zj6TerhYZFBbEzC/RsEQklMsDTk5mnQyM2o3bQcr7Qpx6sdyzN2QBUWTqjK6OoWRqeGhGdfDqFr32f259Jj6gg+Gd6EAT16sGhP5J3TLk8ki7ClU9gRpV+b3P0lenULlCpEQXhMGg2mFYcz6ac1TJixho8G1cYk9yTb1x9G24Eg9+zLmx+/R5vm7WnWZwZjegXr4k0dvZ39Z0Xvk/AEVLHExurP7ckda9G0YxfqNe1G56HfMG3xVzSylGZknCTsiraVakJA2/4E2MqR29agbatqSCkV6iwPGowaRrAN5J76jf2R+hatssIIJi9YyYRp6/h2/iwauWuXFu6nRPZghf91loGfHaHr+H20ffcgvWecYdbOZBItrOnYqyJ9yz7gHJBQ6skty+FbqTJ+letSpVZDggL9sdc1vzRk39zL6snDWRP+pPetUpPw90Q+X3wCXbVmWpGO4z+krjg/KDwJeTlajhxLFamCyqeO/4fQG/okXuloTuKBDezdqX1s5lqWla5iQ32TmKjbA18E4dEpPClXzk43nlR9YzFTB73CDyv+5FqKUV+T3ASlrgWpISsjzdBzryY1KcXwXIFcN19FfOh5w21rlFRo3ZeKFtrnYO7bi5df0DcMhHsrmTVJTi4xCTmk5Upfu0r6km8m8+fG88w8mIXaxIqWtWwNCwrPLKtWvD5vB1//+BtTv1nN9J/+5udVS+jibxg9lXmcXVtP658/FjUp/0zlk0+WEqkdIKNwp+6Y+bxWx6EEnzcXSgWZPQ5OBcczaBJiSTEMWMk5PZdZE4cwzfCYueSgPsGXqFVP2mgQnm/W1B30Ic3KaTMhNenXtrPh6wG80bMNX6w9SYZ2EcsG1KmpTcLyCFv9Pr9s2Mj+3z9h7lrtxRgyrEKaUtlMu6CGlORE7ROJGc4ebgUTKpno6HiQUlSXqDl3JZ0cqZByctB9+8JzRuHchA4tKxsOcinxjonUPXscGWe/ZeqE2YSlSwGlcKPmqMWMe7GiOP0sPB0K5e3C1tT/JfoUuO2I/tYj/UbOpG9TR8NSRShQoakNvQ2CUJDCqwdjf9rChGF9qOplo4s7dcpZdn45lEWH06Va3x4vH0/9aem4PayeOpgp0+dxNhksfHowbExPXAzBKpPnR62KHPGzTY+sFCVY0pdvrtQFRVaW+KKfT7kkxMYbKhY5FpaP15OZE76AGeNnclrbpSB3JmT4Isb3qlLoykJBKD4yF3ccDM1/tVVVWg0wvu2I/tYjvV/uSaX7nZ6WmWjzNB1NUhy3byWijuNqeIxIuIQ7rCpSv/8XTFm2n2mDG6C9jgJVJMf2nUR17WcWrTpHntyLZm//wIhhY+k9aCIjPvuDuYu+prlXfu+rHGcXF8Pta3K4eu6k/s7tWup4rl+9JWLuAUpegiW10kwK9EMaKC3pUNMGE42K02GphonCsymPS8tGMeO7H9n7z2kioyKIDj/I3sVvMPuPa1LbXSIlRlXrheiW1lJnxhF7M5JbMdGkZRsOeylWclKipWk3iEvWdY7rrqBZO+UTjsbrx8OY+9SnQtZOflvwBcsMj+WLfuSIYbyMIBQHuV09gv31FVfe6cUs++u60X2s1GTc2M9ffx4g4X6XZSnccHI09N9eXcmylfu4dnk/W6b349vt0frjQni+qcLZMmMMq/ZdQXdBqsIZnyoVsTbU9AoTE9RRl7ml7aOQkqSww0dJxBIrG0tkaVe4ePoCSbcDU45tcG3K6kJOTeyfn7Fw+3EiwvewcVpfvv7zhoi5B5C1entviUpCleV9mdPXhqsn4jh8NYO4bCkZd7Smbl0PWpUzIfPyNcb9cIPwElr/aX8zceOBGMMr4fFkceDjmkzZknCPFpICpyYzmfZZHzx0B38GeydVZ9r2FN3cosgcerFh41eQtpyPOr7FkTu1WxGUVBqxh+n9fAqOORAeWcf67s/J8SDF4IdSDG6TYlBRlZd/3kif8sZXWalJ2v02Yyeu4Ka27JKZYevlj7uNnOzE69yISULt1If/rf6C2lIelrVzOK9O/I107eDiwdv56rUA6U0ZnJjZjEnrIu6q2Mzcy2F56zqJaluafHqcd1toLxd7tj0/sfUIco/yU/8XWXdNhpW7P2UcVMSFh5Ko7XpSVKDrd9sY5HeUBSMHsDYsXf+eQkzdW9L3o9l0r2InJWzX2fROG+YcSr6rLJbbOGCRlki65vmJuUdV4nqwVAkpnE03p2EzX94dGMSMYUF82NObtp5w6chlJiwsucmVUFxM8K3dinI2d18GLLf2o1a/OXw6OT+50pJjYmp6+07sRZGZGLq9TT1wcX7QSCszrG2lFp3hlSA8mAIrW3u096uVm9tjbV44euTYN53Chx8MIMjFDO1PgaVEnCH03CmuRSeRJ3egbO36ht4CaW3W9tiYSOtQWGBtY7h0C0uqDppJtypORgW3KU61RjN+5ttUspKmKmyxthTNgueWSSXqtq6Lk2ke6THnCTuvT64UNkG0HPcDL1czl2JPgamZUle+KV1CqNWwJTXqNKCCu368Vk7MDn6dNQ/dRdqKcrT74FteDDaOOQXWAX14c9YkqltLsSZi7p5KXA9WPmsna/zdzXAwk5GTkc3V62lEFvh135JJ9GAVo5w4Ii6cIuJWItlqU6xcKlAhMBBHMViq1BC9DEXISyL6wnGuRMeTpY1rZ198KgbiVkSDokjqFKLPHORSTDbmXjWoVtlTSrOePyK27i03OZSLZy4Sl5qHqaMv/lVCcNHl6Xlcmt+OsQvPolIE0XPeRvoHGi4ayznB4kGdWanNrEzbMGbjz7TS33tUirlkbpw6wKWbUsx5hFAl2BvLEtc9U/KU2ASrtBIJliDcISpB4WkRsfU4Utg2rgpf78sBs2aMXLWE9s6GTCl1J98N7M+WKBVyj4F8umwKVZ/HzL0YiRxUEARBEJ4LlvgHB6Hrs8rexY9DX2LKZ+8ye8oQxg98nT+1v2ghdyKk72sEieTqiYkESxAEQRCeC0p8+s5l3MD2+DmakxN9iP0bf2HzHxs4E63Czr8t3Sat5v1uFcQFPsVAnCIsZuIUoSDcIU7jCE+LiK0npM4iOfoKtxLTUSutsfPwxd1O3MS7OIkeLEEQBEF43sjNsfMMxD+4FgGVKonk6imQaSSG54IgCIIgCEIxEKcIi5n2FGFoRJrhlSA83yqWtRbHg/BUiNgSSjpxilAQBEEQBKGYiQRLEARBEAShmIkESxAEQRAEoZiJBEsQBEEQBKGYiQRLEARBEAShmIkESxAEoQRSZ6eTnpVneCUIQmlT8hMspQm+fg40qe5Cs2A7/B0UyAyzBOFJ5CSGcXLvJjb9tootfx3iWpKozISSIefvt2gZ6E6Nil70X3DFMFUQhNKk5CZYMhOqNqvI3Em1+GFEZf7XryITBgYz+4Oa/K+miUiynnUp63inhj0B5WyKfNR4ZQE31YZljeRc38w3r1aluq+0nF91phzMNsy5I+3cUqb0r0WjmjXo2bcXb735GqNfbUXbuiEMnrWtyPUKwr9JlZpEqi7fzyYtNUs3TRCE0qWEJlgKqnaozKednHFNjGPRkrO8+cVxRn5/nq+23uJ8qhpxd9RnmzrjFrHJKsOru2UnxZNmHATqBE79OoJeHXsz+68rZGjfqkonI1M/+zZ1BGs+eoOfd10kuVCHlSbzGnu+Hch7P4dz7y0LgiAIwoOVyATLpJwXo5pYwfUIJswOY+mxJM7fyCA0PIFN266yKlRUf88PEyp2Hs+bYycYPSYydlQXyt7+ufcM9n/ckpc/+IVzyXJMTO8X1jLpPwu8Gg9jwrw/+X3nIZZ8PoggK0OfqCaZI7//znURYoIgCMITKIE/lSOnbs8afFRbw6b5x/kmtHSdrxE/lVM81DE/MLDhOxzMtaT1N1f47kVLw5yiJLCyvz8fnatBr3c/pcqeHrz/eyIauQc9Fp7m0+YFf8Q0IykBmb2jlGblS+PPN4MZ/Vu8rmdU4TuSxdumUctUP1d4fM/Pz5mouLnvJ1buv4VFlR68UvMmP38yhT/OZ1H+5W+ZNaAKSu1i6njO/PYDSzfs5kJEPFkmDpQNbskLg4bRrpL97RZv5saBNB6+mlTpXUFj97N2dKC0iav8/fNS/onXYFetB/3aVCQ/RDMu/sbSP06SqvSkfq+B1HO/3fp4ZpXW2FLF7Gb5st3EWYTQaUA9Yhe8z7e/nyHb7zU+/WYo/nFG8we2w/zg98xZ8DunbmRj7duIF0e9T/dqDmhu7mHpN9+x8egVMizKUa3DKEa91gw3XaAZpJxl04LvWb/3JBEJ2Zg6eONfpyuvDOtDFTu5bl9WSNuKtahB59daY3bgB+Yt3sDJa1LkuQXTpM9YBncK5Hbpq4riwJJFHLxlSfCLw6h+63umfbGKi9n+9Jq+gH6V9RtPv7yZFYuW8ffxUG6m5mFi645vtVZ06j+I1v42umW0Hnn7pUzJS7AUtox4N5gXTG8x6bNLHCpl445FglU8Hi3Bkiq3E3tJ9G5MJYcctr1ZkTd+u3eCdbcsdowNZOSqOF2CpazxEZvWvI33s19HPXXPT4KVwZZRFRm9PlmKn1fppV7LkhOpujnWnX9m7+yXsMi5yOrR3Zm88Sq5ujlGLIN45fsNfNDCRZdkFZlgpS9heLVh7MwBk/oz2bFsGG66jExF+Het6DLjKHnY0XFOKF90LK1V0sMrrbF1+7tV1qFHXzWbFh8lXTvD5iW+PPozzXfmz69Nz9dt+Wv+DmKN6kGZXTPGzerEsUnj2R5tXEGaEzB0HcsmNMJK+zL9AF/16sbcU6mFhtRY0PKLcL7vbmO0L7V4qZ8Jfy0+QKJxn4bciQYfbmb+wEB9AyFzHW/X7s/GFCUhvQei/mM+p3RfgS0dZofxZWczItaPYsi4X7lceHiGlmVlXv5uAxNbuRaM84fdfilzv3Mp/wmZhQVl7bUNvSzSy7nQ5wV/Pnw9iFnDA5nwkidNpJaZGOD+PMkj5sgSli+ez/IVq9h5OJS7L/ZT4BbSVEquHjOcMw6y95CUkOlemBDQpDWeIrkSHlPe8cUsPZGGlU9jWrVuTI0KZaQIlZKgRWOYokuuTPFq+S6fzl3KrIn9CbKVSrSMsyz9cBqHi6qUhGdT3hFW/3KUDCs/6rbtQN2aARToeJTmr5yzgziLCtL8dgS7megma5J3MWPIO2yPMaNsnU60qF7G0JOZRejyefyVrHtB4uZv+EWXXFkR2GsmX/64lJkfj+OFun7YmReqRfOOsnbRAZLMvanRpgsNKzpIMStRx3Pgm+lsTdItZSSPkyt+5FS6Nd71O9Oifl3KeyhRhf/AhA+W6JIrmU0Qnd6Zw7fzfuS9vrWw124y4xzLJn7MnsJ58SNvv3QoeQmWlQm2MhmKsmWZMcKfftVtcLdQYGlnQ8MGPkx8syojKilFkvXcyOH0L2/z4UTpMe41hnevRdNGnZi1NaKYBqJncfqHyawzDLpSePZi+KtBpbK1JJQQGg1mQaOZu2ETs3/axPy36mGac4y1yw/oeioU3q/y6ez/0aNDZzoP+Zqpg6rq4k0V8Sdbj9991avwrNKgMavKoIW7WDx/BYsXf0CNQsMSlB6dmbx2nzR/Fct+HE1AfsEkc6PJpD/5ffUy5qxZx/BqhuQr7TwXruRIz1TER0VJpZtE4Ub1F/rRoU1nugyYxIxVB5jayVo7pwCFWzsmrDkobWcJCzasYVCgYZ0Jf7HzgK6PrQCNxpzAoStZvWIpc1as5Y1acHLZjxxN0TZVran3zjJmvNmPNu168dqUpYxrZa+rt9XRG1i/++6ex0fdfmlQ4hIsTOS6wkadnsLyhcfp+dExhn9zihHTjjLy90SSTCzo1N4D35K350Ixklt7U6lKMJVDGlC3YRNqVQvAWdfq0pAVtZv5bw7kxwtPev5Yza0/x/Hu7H/QdRyYVaLv9M9o6SSCS3gCch9emjCeOnaG1xJ17BFOXdMn8UoXc+J2rmPzH9rHBsIyrdFVJepoIq5n6JYRngdyvHp8xsh69obXhSkJ6DOR7gH6072mAXUJdtB3LSj8+jLqlWr6U4FKP2qElNFX5pp00nWXVytw9/dH2zmK6jLLhzVl6Iez2XExUSr1iiJtq+9k+gQZEi+L6nRqV1nf0NSkcDUsQjfZmLxcP94d0xhbw2tUkRw7dkXf8DUJoVkbb30vlJbcjebNa9xeX9i5cN3kOx59+6VByatJctW68QmapCR2nssk/fbJYzVX9t9gb7IUOu62BOsiS3hmWbfj/d8OsG79nyxetpElG46ye89a+lc218/POMr6307onz8WNYn7P2LE2z9zWdvgU3jQcvIvvNvEsQQeFEKpIrfH2aXguD913C0SDWVZ9tFveWdEf8YYHmPn7tMn+BJ1XikbdCo8ATl2rm63L1QokszoXI1MiUJheC1NvzNHhtIk/96QGsNQB6kIbf0+73X1113Mo04JZdfC8YxoF0LXt+ZzpoihazK5ccmnxKOM++11pqfpxxMak9u54mK886oYYuMNWzdzwcXReH1yrF1csdatUE1asuE8ppFH3X5pUOLqEk2mikzpO5KZK7EpvHfqHOJSNVJsKbC+cwmY8JxQujWnT2fD1VhSO+lm5OO3atKOf86bw77ktBRPUsZOk4mrmPVypfsXdoLwuBTK24WtWeWejCpw2xH9rUdGf/Atb7R3MixVBOPKVqqkxP1whftS+vHiV7tZM38y3Rv4Ya0NQFUCF9a8y5ipO/XL3JOazPT83lQZ5uYPU+EqUOQHeV4OuYXGcKizs8nV5V8yzCwNDeV7epztlzwlL8HKyCImQyM1Ai0pV/g7kJviYCVDo8olsXSekhWeSC63YvRX+mlD18rG6BzMI8i+8ANvvf4Zh5OkNcldaPD+Cr4aVK3UXgoslHxyNw9cDOdL1NbV6frGeEaONn68x4hhfQm53+lpmQlKfesCTXwscfkZljqWixejRMIlFMEGv7Zj+Wz5P2xdNYG6dtokPY+ovzfrZ9+mJv7KRZJuB1ESR4+clZbUMsOjnJfu2X0py1Emf5R+7iXCwrSnBvLlEX7xon5MGOZ4V6ige3ZHMWy/BCpxCRZ5qZzUjlUwtaV5NbMCO2gX6EoDB8iJSOakGKrwDMvjzLzBvP3ZHDbvP8nl69e4fnEfm797nckrDOf4pcSobtMauqW11BmxREdFEHXjBslZ+hRMysTJSrohTYvkZqIhYPLO8NO4ifx9S9+8svRvRHDmVhZ9PY3Zhsf338xhl2G8jCAUB7ljQ+pU1veP5h77idkbr3Kn+lGTdm0P69ft5db9siSFO26GLC3v0hJmL/ibsIt7WDm+G/9bLxIswZiKK0vH8P7sLVzTFX0KnALr4mdvqFEVhfvq1cSsG8nr4xdw6OJ5jiwey9dbE/SNWbPq1Klz595V9yR3pV6DqvrxhKow1s9ZwXVDkGdfWsyclRf0CZNNQ5o3KTzurBi2XwKVvARL+gr27Y8lSq2geodKvNNcqkgDHGjRvAJTerngos5k8/abRBnqUOFZlEf0ue1s+uFdxvRuRPtGwbRu3Y4xM37jiv6yGFxbT2JU6/yDNIOt46rTrF5lmtcPYcKWJP2BqbnFhtHVpGmBNG05VrckGcc5ef7Ob7tlXFzHvM8/4xujx9ezPmDupmv6RE4QioOiIt1H9MRL2wOVd4m1o2rRpGlDundpTKeGPtRr0oH3pizj/F03yDJiWpMWTbz0hbY6mr8+7Uin1h343/JT5Hn64FICS3Phv6Ii6fIefp/egw51KtOlU1M6NOvJUl3DUYl3y476xYxpUji3fDT9W9eh38TVXNPFogL3zsN5wev2cPX7UFC+zzu8UE4b5GpubRlJl4a1eamjFLftx7Bd+yOvMluqD53Ai+5FBOsTb7/kKZGHZGboNaasjydKZkWrThX5dEhl3u/kik92Mqt/PccP4qdynnEmVGrUlgp2hvMhRhS2/jQdvpBF3/Sn3O1jTo6pualhQGTRZCaGFpuZJ2UM95O5N3Ns7a3uuz5BKEiBjb0DJlLQKCwcsLUoHD1ynNrO4oeZr1PT3UyqTLJJvHKK0ydOEBaRSK7CEb/GjShvCHmFjQN2ptqVWWJnmz/+xJJ6b33D4FrO0tbymeLWcBzfLBxPiHbQqtIWW+vSWRk9Lwp/t4Uj5Z7zZTbY25tJr+WY29lhcbv2lmMlvTaTXstMpffqfvbLFP/W3anlZkZeSgQXTx0j/JbUsFQ6UKn7l3w5toH+rbcpCeg5nm6V7YySAnO8Wn/MV5O7cPsWg3I7aR+0Za0Cc3t7Ct9OS+7ckUkL5/JyHQ+pFNeQefMCZ0+HEpetQWkfTIcJK5k9qgZ33/r5/+2dB3yN1//H33dkbyRiRowMiZAYEbO2Gi1FlarWpmaR/qy/0dYsVUoVLRFq772Kltp7JxGEiBCJJLLl3vt/7oikJFpEe8N553Vfnuc5z7ru95zzOd/zPef8w+cXMIxwqZxs5BYWVHS1wslMQ3J8CpcjUnlk5H5wMZN7PpIeQ/iFs1yPiiNFbYptMTe8fLxwEgMcCgxvz0zuL0DmQ26dP0VI5AOSVZJdFy2Hm5cXJXNpUOSKOoFbp/7kYlQ6VmWqU7NyyVwqrDcfYVv/gIxYws+cIOxuPJnmTrj4+FOpePYQ/KdXDFjdvwjXjx4iNE5BYbeaVPVwesmBP5nEXz/Juau3iU+TBKCzGz6+lZ4pu1/f840DoxZYBREhsASCbEQlKHhdCNt6dZ4ROIP/3SVp/uvnv24KqONNIBAIBAKBwHgRAksgEAgEgrcQuVKJ0hBHpZDL//W40//6+a8b0UWYz4guQoEgG9GNI3hdCNvKB9QJRF4JISbTlpLuHjj+3fyf+c1//fzXjEwjYdgWCAQCgUAgEOQDwoOVz2g9WNuORBv2BIK3m5YBziI/CF4LwrYExo6IwRIIBAKBQCDIZ4TAEggEAoFAIMhnhMASCAQCgUAgyGeEwBIIBAKBQCDIZ4TAEggEAoFAIMhnhMASCAQCQTaZaaSmpmPky74KjABVejJpGcJS8kIILMFby+OEcEJO7Obg7g0cOnKSqMRMQ4pAkBMVd/dNYvqIT5k0aR4XEgpOhaKK3MKSCd35etRQ1p+J+1vRpL67mDHNXenQqDw9pu3nseG4QPBX1Nxf25GPGpSnfaMazD2abjguyInRCSxlmTIsnlZLN59U7p9a7BxbznC24I0laQvTW5akVa1iuX46fLGU2Fxqi8dRe1g2rCbt60rn1avNwjPPZvyUsNUsHFqPT1rVYdjgT5k6/nOmDGtNnza1GLtwX673FbzFqK5xYNk8Dvyxm8NbZ7D1eJohwdhREbl7Lut37eDYgRWsWPsHGYaUvNCkPyJFl2UySUlOku4gEOSGhvSUR3p7Uj0iOUVYSm4YncBSxyey7/g9dhzL5XM+iQS1TMr7ogZ801GnxhD3KO9Mm5EYR0rOKXLVDwnd+AXDu33GyiMRpGkvVaeQ+nRdqI5kz6xANh0NI+mp22vSbnM6qB/frbshKhZBNrLCFC/hoC8szcpQsnhBWe9fhl0pF2x0L26Bs0tpFLrjAoHg38AIBVYcS9eG893qa898Nt4FS5maW2djDGcL3nxMcGk8lI97Bub4fMlnXVvg/KS2SOHs7Fb8b9pKwh/JUZo8z6xl0p85ztV70HvyRn5Yvp8pY7pS3tKwzKgmkYt7thEtFJYgC3kR6k84zq+bTrB0604+8TI1JBg7cuybzGPR9tMs2nqe73v7SblJIBD8WxScpXLMHBga6ElzywTmTr/EpjjDcSND240plm94ddQxixjTbjTnMy0IGH+R0U0tDSm58ZCdQ6swL6wyzfuMpcKJT5i1Jx6N3Jmm3x5lUICZ4Tw9aYkPwdZBkllZJPPn+BpM2R2HNjPIS/Vm8rIJeIna6JUpGMuZJHLzt4Vs2nmQ61FxPDZxwKmsP3U69Kehp50kU9TEnlnG7uN3UFl5U6dda8pY6K9UJ5xh3/Jf+P30ZR6kmmBf2ofyJe30niKZOS4NP6eBuxkPTgaz+1QMZh5tea+WOedXf8+W/We4/9iGEr4f0qF7J9xsNcSdCWLlio1ciUrBzNmP2h2H8l71Ys94nlJv7WHH2jWcunSN2ORMlNZFKenZgPrtuhJQxtpwljYfHWbXlj+IUdlQtmE36pTLzkfqh6fZ++t89p8OJVFdiFL+nWhf/w4/9plCqNTAsGqygCUTWufIJ8aFWConb5LDN7N51VrOhkaQ8NgM22IeeDXsTrvmVbDWtT/VJF5ew4Y1Gzh/7S5pyiKU8PChuI3B0sw8qNu5PeV0dq4m4dJK1q1cx/kbsWjs3fBr1Z+AeyMJnH8GFbbU++YMXzZ8Xhn9dlJgBJZTQEUWtLMn/XQIPZbHYqxrqAuBlT+8mMBSEXv5CAklalHWLoPD432ZvDtvgfUsaRz9phoTt0uFh7Sn8B7NvHkDKC76U14Z468Ek7m8oB3jlpwj9amS0KzuLJZO/RBLUjg0zpcpexIl4/Dh4yXb6FRWKQmUvczv34ttN9MkVW6Ghbk2LiUjRyC5EpdPtzK3T4Un1yu8utDWejcbjt3P0Q0tw7raGAbXO8H8WTt5kNN7aurJBzO30N3XynBARfSeYYyfvIrI3ELBLDxoNWE1ves46ron0vb149MxG6VvqaR8z73M6O6uE2vqOOndB0rvfiPnTWRYFC2BSUykJLiEwCqopJ6fysihs7j2lxgKCbNmfLE1iEZWkmA6PJoRo4K4nSGZrqk1ZpoUUh/nCL1RePDhwj109ZATL507Sjr3Vs4APpkVjkXNiI3WDpwQAisvjK6LMFcU1rSoZYelOpW9f8YZrbgSvA4k8XR+NTvWBbFjywaOnbvGo2cG+ykoXLGOJK5e0pxTT3D6rCTIdDsmuNZoQFEhrt4OEraxfo1eXJm7daLP10GMHjeRD5sHUNzWQpIceZHJzbVT2akVVxZ+fPTjWVbtPsfU7tXQNfrljlSo35HGNcrozs5CdWkZa4/FYFaqFgG1K1NIF86lIenk10z6biexpi541WuKu6OhUZBxld3rdj8p81QRi5j17WqduJJZeVK/9/eMmjyHHu/7YqN92dSrbJ8xhVPJ+vNzJ50ry8az0yCu5NYVqFKvOV4lLEm7pxdXgoJKHIeX/6IXVxbeNPliPmMk++jzaQe8S9ljprWRzMtsWbBMJ67MvYYydXMIq7ZsolMlvYiXF6pCQMuO+JWQjDPjBGtnLzOIKzlWLnUJqFeTYhYpxOjEleB5FAiBZeVZjGbOMtJu3GPrradUueANJ4PQ9SOZO0P6TP6cr/vV47MOHQg6GJnDA/AqpBG2fBK/RenvJnf+gI7tPEUw8FuCKu4OsTqdocDBuy2NGzUjoFl3uo5dzw+jW+vFUq48IuxKqM4GlV7taeFtj1xuj/v7bSivFU3qFIrUH0tbXzvd2dkoKVJvCt8uWcfobzcxpnO2rckKN6Lnj78xdcoSpn03GDeD+Eq5fok7uvkSpLywZQmXkrRloBU+vRcz9LOO1KrfjraBi+hW204nCNX3d3Dg2HMUllRp/n7AMJBDWZEPZuzkmymLmbp0GwMblhS2X5BRxRATk6rblBeqRv2W71FTso/WfWYzJfh76midTCnnCLuhbaWa4N6sK+62cuS2fjRrXFmyTsl+0opRa0BfvG3g8fmNHI7Ut2iV5T9n/KLVjJ6ygR8WTqeOs85ABc/B+AWWzIzGdQpTmMccPXKfu0JfvRXILUvj6lGRchX9qVStNl6eFbDXNb80pN87xNrx/VgX/qrzVqmJ+2MMM4LPSm16CVM3Wo4Yh79DwXDsCl4dhZMbJWy1dqXi7saefBE4ho0HQ0j626a5AqWJXopoUpOedC9qEuJINmzLFblUQIqKNOvVGRddv5sZZSpV1nuepPuVeHcoLdz1XgRFqRq4ORrsMC1Zf39VFJcvROi9BkofqtctlS2G5E7UqFVFv695xK1r13WHc0P14AIRMfovqPBoS9OKhq4dc3ca9exCOaGwCi6KEpQubRDad4KZ3OMT5q/aRUROt6TcBKXeUEhLSTJ47tU8ik80bCsk29X+qyI29Iph2hol5Zt0xs3Q4jB37cjH73tn258gV4y+JjEp5UzrsnLUDx6w+aKYCPKtwaoxvRb8xqyfNzJ59lqm/vIHS9b8ynsVDBEhqWc4sPuCfvulUJN4ajJff72cSK13QOGM/5CFdK9hGI4veDuwakbnAe0ooTUrdSKRf/7Cz/9rRK9ug9h29XnBCNZUql0ba6kmU135hXkLVnD4wDIWzQjihkpqF1rXxNcnj+glnaDSI5NEmMKwL5PlTJCOKw37GoNiU98jLt6wbVqEQvY5LVWOpYMj+sGwapIfJeqO5kr8Qx4ZNk2dSlHoL7VkjncQFECs8e8xjndKa5WQZAcRe9ky6zMGftiU79afI0V7imUtalTVirBMwtaOZOmWbRze9DU/rb8kSSoZVlXqU1HXQ60hMeGhdkPCjCLFiv5VUOW0V0GuGHldoiSgrhOl5GquHIvmstBXbzWKIvVo0aiiIZNLravoSN3Wy5By6Qcmj55LmNbdoChK1QHBBLZxE8PY3zqUFH/3B2YuWsSnrWpT3EpbJKp4FLaGBf83kTO6Gik35Fi7uOGo61O5x9mlQ5k0KpBN5+KkCsyNhkO/plHR/C5eFSiybqnKIPOpPnL143QydfpLhqn5c0LTZfInMkqVniZ9W8GbhKJkB4b9spPRfTvhU9JGV8mrEy+xb2Yfgo4nS6ZrT8kyJXTlqPrBQdZO7smkqQu4lAAWZTrQd8iHZDlPZfInBkdGuqiAX5T8LgHyFXlhJ97zlqq8lIdsOZmqd40L3mIeExejH+mnNV0LS1vd1ouSEb6IaSO+5UKidCd5Ear0C2JEx0pGO1pK8PqxLPMuHUatZd6qDXzsp+9iUUXv53hIzqFTOVBdY/uPv3DjsRzHZpP4X+AoOnUbxmeBC5m+YjdfNHfNf7GuKImTo8GHkHmdiJs53y2TyPAwfVc3ZhQvU1a3lRsyJ2eyesEzw88Q9mSxAzWJN8J4aHCSCQowVm4EdP2OSSsOM6VnLZ2nFVUkp/88hypiCUFrLpMpL8k7Q+fzed9hfNRjDJ9P3MpPQbNoUDJrnjc5RRwdDWI8g5uXz2WvBKCO5dbN+4ayWJAXRiywZFSs7Yy39FtHn4nmTzF08C0ik2srBjBtzs8cOnWByKjb3A0/yqHggczdaohBkYSRT80qurO1qFMfEHMvkvvRd0lKN2R7jdTqSrwrHbvDgwSDKyLzMusnfc3JWH273bxMAOXT9rFx0XesMHxWBv3MiTuiXf82oLq1jLkTf+BEpN4+FIUq4lnG3lCpKA2xKrmgiiDqrrZvWRIlVw5wNVaDubU95rJHRF0+yc24PITZqyB3xKeqly4QGVU4B5atR/cKEhk3V7Bymz7oHqsAatR4Org+G7ldNTzK6OPD1PfWEfTjJkJvXuXs+uGMnbQOQ3iWoCAi2cXOaUNY8+cN9GM3ilCmkpth7itp18QEddR17mudUZJICjt+kodYYmVjiSzpBiEXrhL/ZAFKObbe1SmlywNqYnZNZPHeM9wOP8i2KZ2ZteuOcHr8DUY7D5bMughjAt2oa5bE4pnnWXHPkGDkiHmw8oM0jnxVlUk79RN/PouCwvW+ZcrEThTTZf4UDo31ZcrevONOZA4d2bLte0hayYSWX3DiSSGSG0o8Pj/I1C5l/hpzIHhhjH2uoscXvmLg5/OIxBbHMmWxV0URIbXMtfJI4dKXSUHj8DLLbR6sFM7N+YBvll9CP2brKUxLUq3nPIZ3qYZ1HvNoaXl8NJCew5cRq1ZQ+pMtzOrnq/d8PT7Gwi7t2HRbhbzop3y1agpVpMamOm4XP/TuyZ4obQ0pw6xIBUoVVvPgRjjxGVJukdng0Ws1kz6rgtYPkfs8WCqiN3zCkOn70Q1IzIncDhvLRB5JCWIerALI45P80rUNGyJkWDlXoLiDigfhoTzUGXR52s7ZQ49yJ1nU/zPWh+U+0tTUuRGdJ8ylfSVJpKtusX14U+YdS3imLJbbOGCR9JBkjZgHKy+M1oPl4OVIVUsNDy5EseO+4aDgLcEE1+qNKW3z7CgsuXU5qnWZxzfjs8SVFjkmpqYGr0PuyEwMbm/TYjgW+bvOGzOsbaUWnWFP8OZiUrYp9Ss7Y6JKJCb8LGE6caXEusKHfP51oCSutGcpsLK1RxtzLje3x9pcaxkaFGbm+gB1ZTHcAppQzb8+lTxKYqktVTMiOblgBBtDtEIot+sNWDlgY6JLwNraMrtAlllJ+2bSvgwT6VoLwyXyQs3oN/17WknvrJTeIf1BKNdCrunElcK2IvX6BzOmq15caVFY2+vvr7DA2iZr0gkFzu/PYOhHVbHN0YKQ2/jQZOQyutfQzl6vxNLaWjQwChomHvg38aewaSbJ0Vd0U4loxZXCxotGgfP5uLIklzUKTM2UuvJN6ViFarUb4VejFuWd9fFaGdG/sWz6AnSDtBWlaT7qB9p4F862TckqrN07MWj6WHytJQtR2GJtKSwlNwrOUjkFBOHBykcyHnD76nlu339IutoUK8fylPf0pJAIliowFAwvQwaJN08Tcj2KpExz7EtVxtOzxHM9N6qr0xjSayY3VEpcP93Cd32qGGKu0gn76V2GB19BJQl1/zEX+b8W2UvX5B+ZPLp1hqvhkSSly7GQ8oabl9cL5g01SbeOc/HqHTIsS+PmWxVnXZB/wUB4sPLmcUIoIRdDePAoE9NCrlSoVAVHnb7O5NrC5gxbfAmVwosPF2yjq6euFSFlg7ME92jNaq2yMm3KkG1LaJy1gIA6gTvnj3DtXjrmxapQydtF35AQPBfxXyQwXkyLUMqnIbUat6NB09bU8BXiSvA6MMW2TE2qN/xAsrMW+P6NuNKSdu0Ct3UBTyY4FM25VmAaiQnJ+u4UuROOzvke6m5AiU3p6lRv0JYGzd+nZtUXFVda5FiXrknNpu2oV6d6gRJXgudjYueGd+3WvNO8LbVqZIkrLSncCA3Tx+opHXF0zGGf6XEkGiZ0kxcugVNO05XbUaJKc+o3ex9/HyGu/iniv0kgEAheEHPPapTVNfxTOT27NSNHDWHOtKFM+bwpkzffQi0VrbbV+9HKx+AdEAiMAksqeHuhs8r0A/zc5wMmTfySuZN6M6JbL3ZpV7SQF6ZK5+54ZfUzC14aRdmA7uMN24J8oGuz0oRFiiGPAoEWt1LWb2R+kBfyo3I5OTG3rnH//l2ib17i2tWL3IpORFbIi+ofjGfosE6UFvrqtfGm2tbrRY69V11cZHe4cyuSBzER3A47z7XQUO4nSWkVGtNy4Gz6tXZ7EscneHlEDFY+I2KwBIJs3vw4GTUZD28TFf2AVLUSC/tSlChRKP/nwBI8g4jBekXUaSTcvcH9h8moldbYFXPF2U60CPIT0UUoEAgEL40cUwcXynhWxdOrMmWEuBIUFOTm2JXwpIJ3Ndw9PIS4eg3INBKGbYFAIBAIBAJBPiC6CPMZbRdh6G0RFyAQaNHGyYj8IHgdCNsSGDuii1AgEAgEAoEgnxECSyAQCAQCgSCfEQJLIBAIBAKBIJ8RAksgEAgEAoEgnxECSyAQCATZZKaRnJKO2rArEAheDqMWWCZWFnh7FqahXxHquFvjLNahE+QjGQ/DOHdoO9s3rmHn/mNExGuXjxcInkbFrW3jCezVkYGBszn+sOBID9XNDcwY3Jl+ffqz6Gjs34omdeQCulVyxM/DmYaj9pJhOC4QCF4c4xRYCnPqt/Em+P98mdnTg5EfuzOutw9B0v7YetZkLfAteINJ3MBwP3vcS9vk+vH7ZBH3cqktMm7tYPanPvi6SueV82XS0XRDSjZJl5czqWs16lT148POHfliUHcGf9qYZv5V6Dl9T673FbzFqELZMm8Wm3dtZ/eqySw7mGZIMHZUXN80k0UbtrBvRzBzgvbzbG74K5q0RJJ0J2WSlPhIvyiwQCB4KYxQYMlwa+zOl3VskUdEMX3BOfrOOM/oNXe5kmlBnVbu9HQXPZtvOuqU+8Qk5F28p8fHkpRzBjd1HOeXfU7Hlh8xd/8NUrSXqpJJSdUnP0F9m3UTBrLkQAgJTzmsNKkRHPyhG/9bEi4qFkE2siKUcSmkLyzNXSlbSqk7bPzIKOTqir3uxS0oVc4Fhe64QCD4NzA+paKwpn5lK0wy4ln66012hSQRHvWI40dvMHlPAo/lZvh6WFNQijjBq2KCW+sRDBo2OsdnDMMGvEepJ7VFCoe/asTHo5ZyOUGOienzzFom/VlQsm5fRi/YxaZ9x/h1Rg+8rGT6ZE0CJzZt4pZQWIIs5I60/OESR45f5s/TfzDEt6Asgyun8HuL2Xc2hP2nwlkXWF0s4CsQ/IsY30zuCgeGjvakuekDJn4Vyu85ggAs/DxY2bkQcX9coNfmRxhjxIyYyT1/UEfPp1vt4Rx9bEmT2TeY08bSkJIbcazuWoEJl/3o+OU3VDrYgZGbHqKRF6PD4gt80+Cva2ylxMchsy8kyawsktg1yJvBG2PRZgaFa3+C90yhmqiNXpmCMdt2AiFbfiR4wwEu34olw7QQJdxr8e5nQ3i/sr0kU9TcO7qYtQcjUVn70OzTtrgbzFH98CQbF/zE1sMXiU42oUg5XyqWsdc3AGXmVGg1mPe9zbn35y+sPnwfi0od6NrQgmOLphG8/SRRGbaUqdmZPkO64mOv4f7RhcxbuJZTEclYlKxOs54j6Fqn+DMNyuTrO1gVtII/zoRy71EmJrbOuFZuTKuuPWhSwcZwljYfHWT1qv1EZdrg2bI373pkB1ioY0+w7qc5bDlylTh1YcrX70rP5reZ0PYrzkuFq817wRyc0zZHPjEuCupM7qro31m54nceWFSh1Wc1iVk0kh82XSS9XHe+md2HCg9ypHdrjvnRH5m3aBPn76Rj7VqHNgNG0r6yA5p7B1k+ew7bTt4gxaI0lVsMYED3dyia01gSL7F90Y9sPnSO23HpunUzK9Royyd9O1HJTq57l1XSs2Is/GjdvQlmR+azIHgL5yIeoSzqTb1Ow+jZypMnpa8qiiO/BnH0viXebfrie/9Hpny3hpD0CnScuoguFfUP/6f2+cLPL2AYn8CSmdK8my9feMKF7RcZsz8ZXcSDwpL2vSvRyzWDDT+d5afrxrnCjxBY+cOLCSwV984e4qFLXTwcMtgzyI2BG/MWWM+Sxm/DPOm/5oFOYCn9JrB93VBcRH/KK2P8lWASp75tQa85Z0h+qkgxbzqfP3/ujDUp7BzgxuDNCZJxVGHQjv30d1dKAmUX33zYhV/DpBJKboaVhYbU5IwcgeRK3AbuY0ug+5Prlb7d6GazncV/3MvRQJRhV+drJjY9yjdfbSU6Z8vRzIsey/bypb+14YCK25sH0DtwGdef7v7WYlmRj+dsYUxjJ133ROq2btTttxapusJr2GFWD/bUiTX1A+ndP5LePTRnPJkMq+IlMY2+jTaOXwis18OT30RZgw6d1WwPPkmyNsHmA2aeXEKDfVnp1fmwly37F/5GTA6bkNm9Q+D0VpweO4K9d3MaiznufTawYnQdfZxy8hG+79iOn84/0pVr2VjQ6Ltwfmxvk+NdqvFBFxP2Bx/R/fZPkBem1rgdLOymtxtSNzC0ele2JSqp8lE31FsXcl73E9jSYm4YM1ubvZx9/tPnFzCMr4tQk8He7RGcTFLg08Kb7zoWw7dMIT7rWZEerhou7L7GUiMVV4LXQSbRJ35lZfBCVq5aw77joTw72E9B0Sr1JXH1kuaccpRDxyRBptsxwb1eE0oIcfV28HAzi4L04srSqytj5q5kzqzp9G1XBxc7C0ly5EUmIUFfsUorriyr039tGCcvXWP5EH995SZ3olLzLrSt56o7O4vMM4tZ+Md9zF3r0riRL04m2qMaEg6NYeDYrdwzdaVa0xZUdjY0CtIvsyZoB4n6PVTh8xk96ldd5SWz8aLV8Hn8sOBn/te5Gvbal025zIoxX3HwubojndPzRrLKIK7ktu4ENGtFNRcrUqL04krwL5B5grVLT5JiVQ7/Zi3wr+qOc85yR0pfPe83HliUl9Kb411UZyxoEg4wrfdw9kabUapGKxr6Fjd0/aYRunIB+6V2gJaHO2azVCeurPDs+C0zf17Ot18F8r5/OezMn7LszJOsDzpCvLkLfk3fo7abgz5eTx3LkdlT2R2vOysHmZxb9TPnk61xCWhNwwB/yhZTvrx9vvDzCwbGJ7AkMqOjGf/jVVZfV1O2elmmDfSkczkNh9ZcYOTeR3q1L3hLyODC0qGMGyN9ArvTr3016tdpxfTdt/MpED2NC/PHs8EQdKUo0ZF+n3oVyNaS4MVRxdzmnq6lraCIXwc+aN2SJm378MXMHWye0fY5I5YTuXDuqs4LZeL7ER/5OSCXO1C5c3u8tfWgOoWizb+hu7+97uxslDg3m8nKnduZu3gPc/tk25rMqSkj1x7m159XsXxpIJUM4is59AI3daESGZxb8TMnE7VNAWtqDl/BtEFdaNq8I90nLSewsb1OEKrvbmHz789RWOlH2bYjXO9BM/Gm55LfCVq4gl937+PrlqWF7f9raNCY+dBj8QGCF64iOHgUfk+FJSiLtWb8+j+l9DWs+Hkw7k+MpSj1xu5i09oVzFu3gX6VDeIr6QpXb2iNRUVsVJSh96covu93oUXT1rz32VimrTnC5FZZHtFsFEWbM3rdUek5v7Joyzp6eBruGbeffUeerXU1GnM8+6xm7arlzFu1noHVeCX7fNHnFwSMUmAhU1KuQmH8iptIBpPEuVvpuuD2uq3dGFDD0mhd1oL8Q27tgkclbypWqYV/7XpUq+xOEV2rS0Na1O8sHNSNn68+48p6QdTc3xXIl3NPoatjzTzoPHUijQobZ7YQ5D+K4h642mntSsWtX7vQvlsgQbuvkPC3XhwFpqb62k6TIjX6DE519cNYdPWLhEKZi1RRetNh+KdU0BViZrhX9dO37KX7ubYbQSdvfcWnLBOAj7PeDjUpSfoRs6pITp++oW9YmFThnaY5RgXKi9KggZ9eHGkSCbscrjucG6p75wiJ1n9BZaUOtK9ikJEWnnww7DM8hcL6l5BTssNE+td8WoRnocS90xjaGwL+TN398XbQGQuKcp0Z8EllfQNAWQ6/KsX1lbkmmWSdsShwrlABW51pX2dl3/r0GTeX30Ie5jEXmvSszuPp5GUQXha+tGpe8Yk93Qy7rTucE3npLnw5pC62hv1Xs88Xf35BwPhqEklc+bbyYlrbIlhdu8HQaecYPusM/ZZFcVltxbsdvBgdYGGkylCQb1g3Z+TGI2zYvIvgFdv4dctJfj+4nq4VDbPNppxk88az+u2XQs3DwxP4fOgSrmsbfIpiNBq/lC/rGYbjC94OrFsyYExHXLWCR53A9d9+YnLPAJq26M3y84/05+SKDTUa1dNVYJnnfmLCt8Hs3rGYb/9vIVrdL7OtTZ1quTcF9VWkHpkkwhSGAzJZjhSpHDRRGvY1BsWmiiYm1rBt5ohjoZyWKsfa0Qlr3SVqkhIM/US5oHkYR1aqWTEXnHJ2S0lvl/P9BK8TOXZORZ8/svMpm1BkG0uO30mG0sTEsK+R/vRYNxnJ/9pW0Dkk1ImhHFg8gs+bV6HtFwu5mIuDUybPaU9KihV3fnLP5KRn84LczgnHnC//ivb5os8vCBhdXaIsWYLP61qhiLzNhGV3uZKiPSq1Ls/eZNTiO4SrTajWpDhV9d5DwVuEsmgDOrWupG/VSDZxT7KRlyXpzAwG9Z3JhUdSgaBwpt6YNUz/2EMMY3/rUOLSbiFrty5naMd6uNhoi0QV8ZdXMLH/OP7Ms2dCjm05D4ppyyF1NEd+7M/APoMIOh4LVh60+WoqbYrnd/GqQJF1y8wMHj/VR65OT+exrn6TYWb5vGUv5E8K/sz0VH1XoeDNQ1mONt//zrqF42lfqxzWOtOO4+q6LxkyeZ/+nDxRk5qsq3wlZJib/5N+o/yyTy0v83zjI79LgFemkKsNJRQa7oTEc/OpHyjtdiwnH0g/o5U5JfIOjhC8sTzmfrR+pJ/WdK1s7HRbL0r61fl80Wsix+OlO8kdqTVyFd/3qFxghwILXh3rCq3p8+02dvy+k0EB+liRzMi97L+Qx2IxqlBWTJlHSIac4m1nMHPieAYMGsnwiUtZtf8QUz4ol/9iXVma4llR0I+vERaW890yCQ8J0cfcYI5L+fK6rdyQFytGVi/446unuPBkIKGauNAQYkSQ+xuEDeWaDWPiylPsXjMaf113eCZRf+zQJz9BTeyNEOKf/PbxnDxxySC+zShWuqRu67m8kn3mw/ONEKMTWOnpKlQaGYWczLHR+wefILMwp7i19FOkZRCTJW4FbyCZXFzQk6ET57Hj8Dmu34rgVsif7JjTi/GrDH38kjDyr++nO1uLOiWGu1G3ibpzh4Q0vQRDoyIt/o50LJJ7Dw0Gk3mRXwLH8Md9vXq3rFAH79TdBM2awlzD58fZ8zgQ8ZS6F7yRqK4vZtywGRy4qXdVKYp441vewVAwarvpdBvPknmTiNuPpQ1JlJz7jbMxGixsHbCQJRJx9hihD/IQZq+C3ImatXzQOe9VYWyet4pbhsekXwtm3mp90D02tWlQL6+4Huk2hfzxK6//Yuo7q5gxeR3nr13mcPBAegau4q4QWG8AKm4sH8LIuTuJ0BV9Cgp7+lNOP62/tPu0/FcTvaE/vUYs4ljIFU4ED2PW7jh9Y9bMlxo1sueuypNXss98eL4RYnQCK/HKA04mgW0lV8a3LUadsta4FrOmkrczA7q5UttKQ+Tp+5x6DeWXwFjI5O7lvWyf/yVDPqrDu3W8adKkOUOmbeSGflgMTk3GMqBJViZNYXegL+/UrEiDgCqM3hmvz5ia+2wZXFk65kn9RsN0Z5JyhnNXnjTZSQnZwIIZE5md4zNr+ih+2h6hF3KCNxrVw2scXz+ePg3dadC0Pu0b+dJ3qV7EK8s0p5F3Hn4oM39atvHSBRmnXd/Oku8n8O03X/L1qP4E9m5J6wBfes879mR6hfxBQdlOw3m/tFYcqbm/sz/v1a7OBy2r0vDdIezVLqIps8W3z2jaGALkc0XpRduP39EHQGsecXHxZ3Ro6E+3McFcTbbDXpcgKNioiL9+kE1TO9CiRkXea1WfFu98yHJdw1GJS6OW+tNyoknk8srBdG1Sgy5j1hKhbT9INufcuh/vl/xLoF4evKJ9vvLzjQ+jE1iaxBi+WxLBoftyPGuVZVz/yiwYXpnvupWlVQkNFw+FMX5rgsHVKHgzMcGjTjPK2z3rPlDYVqB+v8UEze5K6Sd5To6puamuWycvZCaGitKsBMUN88nkjTm29lbPvZ/gzcDUvQUtaxTDNDOBqKunuRB2j3SpArKr2JlxP46mmi5URIGNvQMmkkEoLBywtdApE5TmFvoAdZPiVGrwLvXrN8Tfp7Q+1iX9Fr9P/4Kgi9o2e27XG7AuhL2ptC+3wM7WKrtAlltja2su7cswla7NWslJXqQlYxf/xMfSO5tI75B67yqXLoTyIF16H3tvWoxezdwBfmRNrauwccBOe3+FpXT/rHm9FJT6eC7TetbAIUe9pbCrQvtpa/myrr10hhIbOxvpX0F+k/tvkk2e6TIb7O3NpH055nZ2WGQbC1bSvpm0LzOVrtUZiykVmrSnWlEzMhNvE3L+NOH3pVpT6YBH+5nMHFZLf+kTlLh/OIJ2Fe2ybVAqB0s2+Yrvx7/HkykG5ZIAt9eWtQrM7e15ejqtF7XPbP7h8wsYxjeTexYyOYWL2eDmaIqVQkPKozSu304i2siVlZjJPR9JjyH8wlmuR8WRojbFtpgbXj5eOBXMeMe3koIx23YGD8NOcC70DgmZ5hQp44dv5ZLPjcnLPP8N7dpM5WqmEo+Bv7Em0M8Qc5XOhWn1+WiONn7EjIYzbjCvw+vo3sgk/vpJzl29TXyaVME6u+HjW+kF84aaxOtHOH4hknRLF3wCalBKpw4LBgV1Jvd/lYxYws+cIOxuPJnmTrj4+FOpeHYA8zMz/fcvwvWjhwiNU1DYrSZVPZxeMpbwn9nn63u+cWC8AquAIgSWQJDNm1oJPlrdgYDhO3mMBXUmnWdhF2dDyzueP0bUpe/ym6jkLny84hRjA/5uqSbByyAE1qvzjMAxLKX0b/FfP/91U0AdbwKBQPDfYeFTA09d92Eqh75uTJc+/Rg7qj+DO9Rl8ApJXElFq0PdQXSpLsSVQPC2IgSWQCAQvCBKj8F8N2cEjb2dMEuL4NSOZaxaFszOYxFkFqlEo74/E/xTb8q+Sc1xwRuHXKkkaz5bhVwb8ffv8l8//3UjugjzGdFFKBBk8+Z346hJj43gZmQMKWoTrAqVpoxL4QIdN1JQEF2E+YA6gcgrIcRk2lLS3QPHv5v/M7/5r5//WoH/B7n3WPgXEXxCAAAAAElFTkSuQmCC)"
      ],
      "metadata": {
        "id": "-fBUypUBSFdQ"
      }
    },
    {
      "cell_type": "code",
      "source": [
        "from keras import models\n",
        "from keras import layers\n",
        "# El tipo de red será secuencial. Desde la entrada hasta la salida sin ciclos\n",
        "network = models.Sequential()"
      ],
      "metadata": {
        "id": "_Nx8NdfbFgb1"
      },
      "execution_count": 20,
      "outputs": []
    },
    {
      "cell_type": "markdown",
      "source": [
        "Aprovechando que hemos investigado sobre la función `Flatten`, incluiremos una línea de código implementándola. La capa `Flatten` no utiliza función de activación, ya que su único propósito es transformar la entrada tridimensional en una entrada unidimensional. Su función es puramente estructural y no realiza ningún cambio ni cálculo de activación."
      ],
      "metadata": {
        "id": "M5j_pbP-pdtE"
      }
    },
    {
      "cell_type": "code",
      "source": [
        "# network.add(layers.Flatten(input_shape=(28, 28)))"
      ],
      "metadata": {
        "id": "Ddxu2zuvpoEo"
      },
      "execution_count": 21,
      "outputs": []
    },
    {
      "cell_type": "markdown",
      "source": [
        "Preprocesamos las imágenes antes de alimentarlas a una red neuronal. Normalizar es importante para asegurarnos de que las características de entrada estén en un rango manejable, lo que nos puede ayudar a mejorar la convergencia y la velocidad de entrenamiento de la red."
      ],
      "metadata": {
        "id": "NvFoBK_rpp_f"
      }
    },
    {
      "cell_type": "code",
      "source": [
        "train_images = train_images.astype('float32')\n",
        "test_images = test_images.astype('float32')\n",
        "train_images = train_images / 255\n",
        "test_images = test_images / 255"
      ],
      "metadata": {
        "id": "qXmF9QhLpqda"
      },
      "execution_count": 22,
      "outputs": []
    },
    {
      "cell_type": "markdown",
      "source": [
        "A continuación programaremos uno a uno los distintos casos:"
      ],
      "metadata": {
        "id": "XQZeOFjPqT2H"
      }
    },
    {
      "cell_type": "markdown",
      "source": [
        "**Modelo 1**"
      ],
      "metadata": {
        "id": "zznEpIcEqcgf"
      }
    },
    {
      "cell_type": "code",
      "source": [
        "m1 = Sequential()\n",
        "m1.add(Flatten(input_shape=(28, 28)))\n",
        "m1.add(Dense(10, activation='relu'))\n",
        "m1.add(Dense(10, activation='softmax'))"
      ],
      "metadata": {
        "id": "kwHcjdtiKa_U"
      },
      "execution_count": 23,
      "outputs": []
    },
    {
      "cell_type": "markdown",
      "source": [
        "**Modelo 2**"
      ],
      "metadata": {
        "id": "kzR6-lMcqkGn"
      }
    },
    {
      "cell_type": "code",
      "source": [
        "m2 = Sequential()\n",
        "m2.add(Flatten(input_shape=(28, 28)))\n",
        "m2.add(Dense(10, activation='relu'))\n",
        "m2.add(Dense(10, activation='softmax'))"
      ],
      "metadata": {
        "id": "YBjJvy5LqpVs"
      },
      "execution_count": 24,
      "outputs": []
    },
    {
      "cell_type": "markdown",
      "source": [
        "**Modelo 3**"
      ],
      "metadata": {
        "id": "auo-MNPjqsC1"
      }
    },
    {
      "cell_type": "code",
      "source": [
        "m3 = Sequential()\n",
        "m3.add(Flatten(input_shape=(28, 28)))\n",
        "m3.add(Dense(10, activation='sigmoid'))\n",
        "m3.add(Dense(10, activation='softmax'))"
      ],
      "metadata": {
        "id": "tnUgoDLTquYE"
      },
      "execution_count": 25,
      "outputs": []
    },
    {
      "cell_type": "markdown",
      "source": [
        "**Modelo 4**"
      ],
      "metadata": {
        "id": "dIRMmcSUqxAe"
      }
    },
    {
      "cell_type": "code",
      "source": [
        "m4 = Sequential()\n",
        "m4.add(Flatten(input_shape=(28, 28)))\n",
        "m4.add(Dense(10, activation='sigmoid'))\n",
        "m4.add(Dense(10, activation='softmax'))"
      ],
      "metadata": {
        "id": "afScdep7qzSm"
      },
      "execution_count": 26,
      "outputs": []
    },
    {
      "cell_type": "markdown",
      "source": [
        "**Modelo 5**"
      ],
      "metadata": {
        "id": "JAIUyFxoq1F5"
      }
    },
    {
      "cell_type": "code",
      "source": [
        "m5 = Sequential()\n",
        "m5.add(Flatten(input_shape=(28, 28)))\n",
        "m5.add(Dense(512, activation='relu'))\n",
        "m5.add(Dense(10, activation='softmax'))"
      ],
      "metadata": {
        "id": "Ms7TQer5q33v"
      },
      "execution_count": 27,
      "outputs": []
    },
    {
      "cell_type": "markdown",
      "source": [
        "**Modelo 6**"
      ],
      "metadata": {
        "id": "YxyTsR1Nq6Vn"
      }
    },
    {
      "cell_type": "code",
      "source": [
        "m6 = Sequential()\n",
        "m6.add(Flatten(input_shape=(28, 28)))\n",
        "m6.add(Dense(512, activation='relu'))\n",
        "m6.add(Dense(10, activation='softmax'))"
      ],
      "metadata": {
        "id": "FJ_ZtJbzq9tm"
      },
      "execution_count": 28,
      "outputs": []
    },
    {
      "cell_type": "markdown",
      "source": [
        "**Modelo 7**"
      ],
      "metadata": {
        "id": "AmFltC-GrBRW"
      }
    },
    {
      "cell_type": "code",
      "source": [
        "m7 = Sequential()\n",
        "m7.add(Flatten(input_shape=(28, 28)))\n",
        "m7.add(Dense(512, activation='sigmoid'))\n",
        "m7.add(Dense(10, activation='softmax'))"
      ],
      "metadata": {
        "id": "BBq3pMwGrDeH"
      },
      "execution_count": 29,
      "outputs": []
    },
    {
      "cell_type": "markdown",
      "source": [
        "**Modelo 8**"
      ],
      "metadata": {
        "id": "g-t4OWmWrFvF"
      }
    },
    {
      "cell_type": "code",
      "source": [
        "m8 = Sequential()\n",
        "m8.add(Flatten(input_shape=(28, 28)))\n",
        "m8.add(Dense(512, activation='sigmoid'))\n",
        "m8.add(Dense(10, activation='softmax'))"
      ],
      "metadata": {
        "id": "_GSq1-WprHR7"
      },
      "execution_count": 30,
      "outputs": []
    },
    {
      "cell_type": "markdown",
      "source": [
        "Metemos cada uno de los modelos creados en una lista:"
      ],
      "metadata": {
        "id": "LWlZVHE2rJn_"
      }
    },
    {
      "cell_type": "code",
      "source": [
        "models = [m1, m2, m3, m4, m5, m6, m7, m8]"
      ],
      "metadata": {
        "id": "fDmRnnYVrqc0"
      },
      "execution_count": 31,
      "outputs": []
    },
    {
      "cell_type": "markdown",
      "source": [
        "A continuación, usamos la función `.compile`, que es un paso esencial en la configuración de una red neuronal. Se utiliza para configurar la forma en que la red neuronal se entrena. Establece los componentes clave para la fase de entrenamiento de una red neuronal, lo que incluye cómo se mide la pérdida, cómo se ajustan los pesos y qué métricas se supervisan."
      ],
      "metadata": {
        "id": "uzzq91DOqlGj"
      }
    },
    {
      "cell_type": "code",
      "source": [
        "# Modelo 1\n",
        "m1.compile(optimizer='sgd',loss='sparse_categorical_crossentropy', metrics=['accuracy'])\n",
        "# Modelo 2\n",
        "m2.compile(optimizer='rmsprop',loss='sparse_categorical_crossentropy', metrics=['accuracy'])\n",
        "# Modelo 3\n",
        "m3.compile(optimizer='sgd',loss='sparse_categorical_crossentropy', metrics=['accuracy'])\n",
        "# Modelo 4\n",
        "m4.compile(optimizer='rmsprop',loss='sparse_categorical_crossentropy', metrics=['accuracy'])\n",
        "# Modelo 5\n",
        "m5.compile(optimizer='sgd',loss='sparse_categorical_crossentropy', metrics=['accuracy'])\n",
        "# Modelo 6\n",
        "m6.compile(optimizer='rmsprop',loss='sparse_categorical_crossentropy', metrics=['accuracy'])\n",
        "# Modelo 7\n",
        "m7.compile(optimizer='sgd',loss='sparse_categorical_crossentropy', metrics=['accuracy'])\n",
        "# Modelo 8\n",
        "m8.compile(optimizer='rmsprop',loss='sparse_categorical_crossentropy', metrics=['accuracy'])"
      ],
      "metadata": {
        "id": "pdjIldNqMrBh"
      },
      "execution_count": 32,
      "outputs": []
    },
    {
      "cell_type": "markdown",
      "source": [
        "Ahora nuestra red ya está prepara ser entrenada utilizando el método `.fit`.\n",
        "Como previamente hemos creado una lista con cada uno de los modelos, se nos simplifica el código porque con un simple *for* tendríamos cada uno de nuestros modelos entrenados."
      ],
      "metadata": {
        "id": "ZoApGGH1t9aV"
      }
    },
    {
      "cell_type": "code",
      "source": [
        "for i in range(len(models)):\n",
        "  print(\"ENTRENANDO MODELO {} :\".format(i+1))\n",
        "  print(\"=\"*50)\n",
        "  models[i].fit(train_images, train_labels, epochs = 5)"
      ],
      "metadata": {
        "colab": {
          "base_uri": "https://localhost:8080/"
        },
        "id": "ku-bnVFCuSbW",
        "outputId": "1f22dce8-eaee-4214-bdca-63b308832cfa"
      },
      "execution_count": 33,
      "outputs": [
        {
          "output_type": "stream",
          "name": "stdout",
          "text": [
            "ENTRENANDO MODELO 1 :\n",
            "==================================================\n",
            "Epoch 1/5\n",
            "1875/1875 [==============================] - 4s 2ms/step - loss: 0.9537 - accuracy: 0.6830\n",
            "Epoch 2/5\n",
            "1875/1875 [==============================] - 4s 2ms/step - loss: 0.5585 - accuracy: 0.8100\n",
            "Epoch 3/5\n",
            "1875/1875 [==============================] - 4s 2ms/step - loss: 0.5008 - accuracy: 0.8267\n",
            "Epoch 4/5\n",
            "1875/1875 [==============================] - 3s 2ms/step - loss: 0.4738 - accuracy: 0.8350\n",
            "Epoch 5/5\n",
            "1875/1875 [==============================] - 3s 2ms/step - loss: 0.4568 - accuracy: 0.8409\n",
            "ENTRENANDO MODELO 2 :\n",
            "==================================================\n",
            "Epoch 1/5\n",
            "1875/1875 [==============================] - 5s 2ms/step - loss: 0.6979 - accuracy: 0.7553\n",
            "Epoch 2/5\n",
            "1875/1875 [==============================] - 3s 2ms/step - loss: 0.4903 - accuracy: 0.8292\n",
            "Epoch 3/5\n",
            "1875/1875 [==============================] - 3s 2ms/step - loss: 0.4603 - accuracy: 0.8388\n",
            "Epoch 4/5\n",
            "1875/1875 [==============================] - 6s 3ms/step - loss: 0.4407 - accuracy: 0.8460\n",
            "Epoch 5/5\n",
            "1875/1875 [==============================] - 3s 2ms/step - loss: 0.4276 - accuracy: 0.8510\n",
            "ENTRENANDO MODELO 3 :\n",
            "==================================================\n",
            "Epoch 1/5\n",
            "1875/1875 [==============================] - 4s 2ms/step - loss: 1.7879 - accuracy: 0.4843\n",
            "Epoch 2/5\n",
            "1875/1875 [==============================] - 3s 2ms/step - loss: 1.2489 - accuracy: 0.6921\n",
            "Epoch 3/5\n",
            "1875/1875 [==============================] - 4s 2ms/step - loss: 1.0002 - accuracy: 0.7384\n",
            "Epoch 4/5\n",
            "1875/1875 [==============================] - 3s 2ms/step - loss: 0.8580 - accuracy: 0.7593\n",
            "Epoch 5/5\n",
            "1875/1875 [==============================] - 6s 3ms/step - loss: 0.7654 - accuracy: 0.7781\n",
            "ENTRENANDO MODELO 4 :\n",
            "==================================================\n",
            "Epoch 1/5\n",
            "1875/1875 [==============================] - 9s 4ms/step - loss: 0.9783 - accuracy: 0.7247\n",
            "Epoch 2/5\n",
            "1875/1875 [==============================] - 11s 6ms/step - loss: 0.5370 - accuracy: 0.8231\n",
            "Epoch 3/5\n",
            "1875/1875 [==============================] - 9s 5ms/step - loss: 0.4725 - accuracy: 0.8370\n",
            "Epoch 4/5\n",
            "1875/1875 [==============================] - 11s 6ms/step - loss: 0.4435 - accuracy: 0.8443\n",
            "Epoch 5/5\n",
            "1875/1875 [==============================] - 4s 2ms/step - loss: 0.4254 - accuracy: 0.8494\n",
            "ENTRENANDO MODELO 5 :\n",
            "==================================================\n",
            "Epoch 1/5\n",
            "1875/1875 [==============================] - 10s 5ms/step - loss: 0.7107 - accuracy: 0.7719\n",
            "Epoch 2/5\n",
            "1875/1875 [==============================] - 12s 6ms/step - loss: 0.5017 - accuracy: 0.8296\n",
            "Epoch 3/5\n",
            "1875/1875 [==============================] - 10s 5ms/step - loss: 0.4584 - accuracy: 0.8429\n",
            "Epoch 4/5\n",
            "1875/1875 [==============================] - 20s 11ms/step - loss: 0.4338 - accuracy: 0.8504\n",
            "Epoch 5/5\n",
            "1875/1875 [==============================] - 17s 9ms/step - loss: 0.4151 - accuracy: 0.8561\n",
            "ENTRENANDO MODELO 6 :\n",
            "==================================================\n",
            "Epoch 1/5\n",
            "1875/1875 [==============================] - 15s 7ms/step - loss: 0.4949 - accuracy: 0.8229\n",
            "Epoch 2/5\n",
            "1875/1875 [==============================] - 18s 10ms/step - loss: 0.3711 - accuracy: 0.8667\n",
            "Epoch 3/5\n",
            "1875/1875 [==============================] - 20s 11ms/step - loss: 0.3393 - accuracy: 0.8787\n",
            "Epoch 4/5\n",
            "1875/1875 [==============================] - 17s 9ms/step - loss: 0.3219 - accuracy: 0.8852\n",
            "Epoch 5/5\n",
            "1875/1875 [==============================] - 14s 7ms/step - loss: 0.3104 - accuracy: 0.8908\n",
            "ENTRENANDO MODELO 7 :\n",
            "==================================================\n",
            "Epoch 1/5\n",
            "1875/1875 [==============================] - 10s 5ms/step - loss: 1.1355 - accuracy: 0.6840\n",
            "Epoch 2/5\n",
            "1875/1875 [==============================] - 10s 5ms/step - loss: 0.7084 - accuracy: 0.7607\n",
            "Epoch 3/5\n",
            "1875/1875 [==============================] - 9s 5ms/step - loss: 0.6231 - accuracy: 0.7841\n",
            "Epoch 4/5\n",
            "1875/1875 [==============================] - 9s 5ms/step - loss: 0.5769 - accuracy: 0.7991\n",
            "Epoch 5/5\n",
            "1875/1875 [==============================] - 10s 5ms/step - loss: 0.5471 - accuracy: 0.8090\n",
            "ENTRENANDO MODELO 8 :\n",
            "==================================================\n",
            "Epoch 1/5\n",
            "1875/1875 [==============================] - 15s 8ms/step - loss: 0.5158 - accuracy: 0.8144\n",
            "Epoch 2/5\n",
            "1875/1875 [==============================] - 15s 8ms/step - loss: 0.3951 - accuracy: 0.8581\n",
            "Epoch 3/5\n",
            "1875/1875 [==============================] - 13s 7ms/step - loss: 0.3556 - accuracy: 0.8705\n",
            "Epoch 4/5\n",
            "1875/1875 [==============================] - 14s 7ms/step - loss: 0.3296 - accuracy: 0.8798\n",
            "Epoch 5/5\n",
            "1875/1875 [==============================] - 13s 7ms/step - loss: 0.3106 - accuracy: 0.8861\n"
          ]
        }
      ]
    },
    {
      "cell_type": "markdown",
      "source": [
        "####**2._** Explicar la salida de la llamada *model.summary()* de cada uno de los 8 casos"
      ],
      "metadata": {
        "id": "SxIVJc-SXV2P"
      }
    },
    {
      "cell_type": "markdown",
      "source": [
        "Repetimos el mismo procedimiento o estructura que hemos utilizado para entrenar nuestra red. Sin embargo, ahora hacemos uso de la función `.summary`para obtener un resumen de cada modelo."
      ],
      "metadata": {
        "id": "ICLbdW2XyjvN"
      }
    },
    {
      "cell_type": "code",
      "source": [
        "for i in range(len(models)):\n",
        "  print(\"RESUMEN MODELO {} :\".format(i+1))\n",
        "  print(\"=\"*50)\n",
        "  models[i].summary()"
      ],
      "metadata": {
        "colab": {
          "base_uri": "https://localhost:8080/"
        },
        "id": "BaIcbvUPv_hj",
        "outputId": "0797b37a-ff86-421a-aca1-ceb5b099410c"
      },
      "execution_count": 34,
      "outputs": [
        {
          "output_type": "stream",
          "name": "stdout",
          "text": [
            "RESUMEN MODELO 1 :\n",
            "==================================================\n",
            "Model: \"sequential_4\"\n",
            "_________________________________________________________________\n",
            " Layer (type)                Output Shape              Param #   \n",
            "=================================================================\n",
            " flatten_2 (Flatten)         (None, 784)               0         \n",
            "                                                                 \n",
            " dense (Dense)               (None, 10)                7850      \n",
            "                                                                 \n",
            " dense_1 (Dense)             (None, 10)                110       \n",
            "                                                                 \n",
            "=================================================================\n",
            "Total params: 7960 (31.09 KB)\n",
            "Trainable params: 7960 (31.09 KB)\n",
            "Non-trainable params: 0 (0.00 Byte)\n",
            "_________________________________________________________________\n",
            "RESUMEN MODELO 2 :\n",
            "==================================================\n",
            "Model: \"sequential_5\"\n",
            "_________________________________________________________________\n",
            " Layer (type)                Output Shape              Param #   \n",
            "=================================================================\n",
            " flatten_3 (Flatten)         (None, 784)               0         \n",
            "                                                                 \n",
            " dense_2 (Dense)             (None, 10)                7850      \n",
            "                                                                 \n",
            " dense_3 (Dense)             (None, 10)                110       \n",
            "                                                                 \n",
            "=================================================================\n",
            "Total params: 7960 (31.09 KB)\n",
            "Trainable params: 7960 (31.09 KB)\n",
            "Non-trainable params: 0 (0.00 Byte)\n",
            "_________________________________________________________________\n",
            "RESUMEN MODELO 3 :\n",
            "==================================================\n",
            "Model: \"sequential_6\"\n",
            "_________________________________________________________________\n",
            " Layer (type)                Output Shape              Param #   \n",
            "=================================================================\n",
            " flatten_4 (Flatten)         (None, 784)               0         \n",
            "                                                                 \n",
            " dense_4 (Dense)             (None, 10)                7850      \n",
            "                                                                 \n",
            " dense_5 (Dense)             (None, 10)                110       \n",
            "                                                                 \n",
            "=================================================================\n",
            "Total params: 7960 (31.09 KB)\n",
            "Trainable params: 7960 (31.09 KB)\n",
            "Non-trainable params: 0 (0.00 Byte)\n",
            "_________________________________________________________________\n",
            "RESUMEN MODELO 4 :\n",
            "==================================================\n",
            "Model: \"sequential_7\"\n",
            "_________________________________________________________________\n",
            " Layer (type)                Output Shape              Param #   \n",
            "=================================================================\n",
            " flatten_5 (Flatten)         (None, 784)               0         \n",
            "                                                                 \n",
            " dense_6 (Dense)             (None, 10)                7850      \n",
            "                                                                 \n",
            " dense_7 (Dense)             (None, 10)                110       \n",
            "                                                                 \n",
            "=================================================================\n",
            "Total params: 7960 (31.09 KB)\n",
            "Trainable params: 7960 (31.09 KB)\n",
            "Non-trainable params: 0 (0.00 Byte)\n",
            "_________________________________________________________________\n",
            "RESUMEN MODELO 5 :\n",
            "==================================================\n",
            "Model: \"sequential_8\"\n",
            "_________________________________________________________________\n",
            " Layer (type)                Output Shape              Param #   \n",
            "=================================================================\n",
            " flatten_6 (Flatten)         (None, 784)               0         \n",
            "                                                                 \n",
            " dense_8 (Dense)             (None, 512)               401920    \n",
            "                                                                 \n",
            " dense_9 (Dense)             (None, 10)                5130      \n",
            "                                                                 \n",
            "=================================================================\n",
            "Total params: 407050 (1.55 MB)\n",
            "Trainable params: 407050 (1.55 MB)\n",
            "Non-trainable params: 0 (0.00 Byte)\n",
            "_________________________________________________________________\n",
            "RESUMEN MODELO 6 :\n",
            "==================================================\n",
            "Model: \"sequential_9\"\n",
            "_________________________________________________________________\n",
            " Layer (type)                Output Shape              Param #   \n",
            "=================================================================\n",
            " flatten_7 (Flatten)         (None, 784)               0         \n",
            "                                                                 \n",
            " dense_10 (Dense)            (None, 512)               401920    \n",
            "                                                                 \n",
            " dense_11 (Dense)            (None, 10)                5130      \n",
            "                                                                 \n",
            "=================================================================\n",
            "Total params: 407050 (1.55 MB)\n",
            "Trainable params: 407050 (1.55 MB)\n",
            "Non-trainable params: 0 (0.00 Byte)\n",
            "_________________________________________________________________\n",
            "RESUMEN MODELO 7 :\n",
            "==================================================\n",
            "Model: \"sequential_10\"\n",
            "_________________________________________________________________\n",
            " Layer (type)                Output Shape              Param #   \n",
            "=================================================================\n",
            " flatten_8 (Flatten)         (None, 784)               0         \n",
            "                                                                 \n",
            " dense_12 (Dense)            (None, 512)               401920    \n",
            "                                                                 \n",
            " dense_13 (Dense)            (None, 10)                5130      \n",
            "                                                                 \n",
            "=================================================================\n",
            "Total params: 407050 (1.55 MB)\n",
            "Trainable params: 407050 (1.55 MB)\n",
            "Non-trainable params: 0 (0.00 Byte)\n",
            "_________________________________________________________________\n",
            "RESUMEN MODELO 8 :\n",
            "==================================================\n",
            "Model: \"sequential_11\"\n",
            "_________________________________________________________________\n",
            " Layer (type)                Output Shape              Param #   \n",
            "=================================================================\n",
            " flatten_9 (Flatten)         (None, 784)               0         \n",
            "                                                                 \n",
            " dense_14 (Dense)            (None, 512)               401920    \n",
            "                                                                 \n",
            " dense_15 (Dense)            (None, 10)                5130      \n",
            "                                                                 \n",
            "=================================================================\n",
            "Total params: 407050 (1.55 MB)\n",
            "Trainable params: 407050 (1.55 MB)\n",
            "Non-trainable params: 0 (0.00 Byte)\n",
            "_________________________________________________________________\n"
          ]
        }
      ]
    },
    {
      "cell_type": "markdown",
      "source": [
        "Las conclusiones que hemos podido sacar del resumen de cada modelo es:\n",
        "\n",
        "*   Modelo 1, 2, 3 y 4: Redes neuronales con dos capas densas (una de entrada y una de salida) y 7960 parámetros entrenables.\n",
        "*   Modelo 5, 6, 7 y 8: Redes neuronales más profundas con tres capas (una de entrada, una intermedia con 512 neuronas y una de salida) y 407050 parámetros entrenables."
      ],
      "metadata": {
        "id": "Cs91tKCnzLsc"
      }
    },
    {
      "cell_type": "markdown",
      "source": [
        "####**3._** Analizar e interpretar los resultados del caso 2 y el 7 frente a sus originales si se multiplica por 5 las épocas de entrenamiento (25)\n"
      ],
      "metadata": {
        "id": "ETBpyvwOXf0i"
      }
    },
    {
      "cell_type": "markdown",
      "source": [
        "Para este apartado utilizaremos todo lo anterior, pero cogiendo el modelo 2 y el modelo 7 y cambiando el valor del parámetro *epochs = *5 a *epochs = 25*:"
      ],
      "metadata": {
        "id": "hp6OGeJazyeH"
      }
    },
    {
      "cell_type": "code",
      "source": [
        "print(\"MODELO 2\")\n",
        "print(\"=\"*50)\n",
        "m2.fit(train_images, train_labels, epochs=25)\n",
        "print(\"=\"*50)\n",
        "print(\"MODELO 7\")\n",
        "print(\"=\"*50)\n",
        "m7.fit(train_images, train_labels, epochs=25)\n",
        "print(\"=\"*50)"
      ],
      "metadata": {
        "colab": {
          "base_uri": "https://localhost:8080/"
        },
        "id": "R6kfsT7i0j4E",
        "outputId": "9e6ba4bb-f904-4795-fae9-259cb3d4daee"
      },
      "execution_count": 35,
      "outputs": [
        {
          "output_type": "stream",
          "name": "stdout",
          "text": [
            "MODELO 2\n",
            "==================================================\n",
            "Epoch 1/25\n",
            "1875/1875 [==============================] - 4s 2ms/step - loss: 0.4190 - accuracy: 0.8517\n",
            "Epoch 2/25\n",
            "1875/1875 [==============================] - 4s 2ms/step - loss: 0.4108 - accuracy: 0.8572\n",
            "Epoch 3/25\n",
            "1875/1875 [==============================] - 3s 2ms/step - loss: 0.4046 - accuracy: 0.8584\n",
            "Epoch 4/25\n",
            "1875/1875 [==============================] - 4s 2ms/step - loss: 0.4008 - accuracy: 0.8609\n",
            "Epoch 5/25\n",
            "1875/1875 [==============================] - 4s 2ms/step - loss: 0.3951 - accuracy: 0.8617\n",
            "Epoch 6/25\n",
            "1875/1875 [==============================] - 3s 2ms/step - loss: 0.3941 - accuracy: 0.8622\n",
            "Epoch 7/25\n",
            "1875/1875 [==============================] - 3s 2ms/step - loss: 0.3903 - accuracy: 0.8636\n",
            "Epoch 8/25\n",
            "1875/1875 [==============================] - 4s 2ms/step - loss: 0.3862 - accuracy: 0.8643\n",
            "Epoch 9/25\n",
            "1875/1875 [==============================] - 4s 2ms/step - loss: 0.3846 - accuracy: 0.8655\n",
            "Epoch 10/25\n",
            "1875/1875 [==============================] - 3s 2ms/step - loss: 0.3817 - accuracy: 0.8662\n",
            "Epoch 11/25\n",
            "1875/1875 [==============================] - 4s 2ms/step - loss: 0.3807 - accuracy: 0.8679\n",
            "Epoch 12/25\n",
            "1875/1875 [==============================] - 5s 2ms/step - loss: 0.3799 - accuracy: 0.8686\n",
            "Epoch 13/25\n",
            "1875/1875 [==============================] - 3s 2ms/step - loss: 0.3772 - accuracy: 0.8691\n",
            "Epoch 14/25\n",
            "1875/1875 [==============================] - 3s 2ms/step - loss: 0.3758 - accuracy: 0.8694\n",
            "Epoch 15/25\n",
            "1875/1875 [==============================] - 5s 2ms/step - loss: 0.3737 - accuracy: 0.8711\n",
            "Epoch 16/25\n",
            "1875/1875 [==============================] - 4s 2ms/step - loss: 0.3736 - accuracy: 0.8704\n",
            "Epoch 17/25\n",
            "1875/1875 [==============================] - 3s 2ms/step - loss: 0.3729 - accuracy: 0.8709\n",
            "Epoch 18/25\n",
            "1875/1875 [==============================] - 3s 2ms/step - loss: 0.3713 - accuracy: 0.8710\n",
            "Epoch 19/25\n",
            "1875/1875 [==============================] - 4s 2ms/step - loss: 0.3710 - accuracy: 0.8722\n",
            "Epoch 20/25\n",
            "1875/1875 [==============================] - 4s 2ms/step - loss: 0.3702 - accuracy: 0.8714\n",
            "Epoch 21/25\n",
            "1875/1875 [==============================] - 3s 2ms/step - loss: 0.3689 - accuracy: 0.8726\n",
            "Epoch 22/25\n",
            "1875/1875 [==============================] - 4s 2ms/step - loss: 0.3679 - accuracy: 0.8732\n",
            "Epoch 23/25\n",
            "1875/1875 [==============================] - 4s 2ms/step - loss: 0.3676 - accuracy: 0.8737\n",
            "Epoch 24/25\n",
            "1875/1875 [==============================] - 4s 2ms/step - loss: 0.3676 - accuracy: 0.8719\n",
            "Epoch 25/25\n",
            "1875/1875 [==============================] - 5s 3ms/step - loss: 0.3659 - accuracy: 0.8745\n",
            "==================================================\n",
            "MODELO 7\n",
            "==================================================\n",
            "Epoch 1/25\n",
            "1875/1875 [==============================] - 9s 5ms/step - loss: 0.5257 - accuracy: 0.8153\n",
            "Epoch 2/25\n",
            "1875/1875 [==============================] - 9s 5ms/step - loss: 0.5099 - accuracy: 0.8223\n",
            "Epoch 3/25\n",
            "1875/1875 [==============================] - 9s 5ms/step - loss: 0.4967 - accuracy: 0.8262\n",
            "Epoch 4/25\n",
            "1875/1875 [==============================] - 8s 4ms/step - loss: 0.4863 - accuracy: 0.8293\n",
            "Epoch 5/25\n",
            "1875/1875 [==============================] - 9s 5ms/step - loss: 0.4776 - accuracy: 0.8324\n",
            "Epoch 6/25\n",
            "1875/1875 [==============================] - 9s 5ms/step - loss: 0.4702 - accuracy: 0.8357\n",
            "Epoch 7/25\n",
            "1875/1875 [==============================] - 8s 4ms/step - loss: 0.4636 - accuracy: 0.8390\n",
            "Epoch 8/25\n",
            "1875/1875 [==============================] - 9s 5ms/step - loss: 0.4575 - accuracy: 0.8399\n",
            "Epoch 9/25\n",
            "1875/1875 [==============================] - 9s 5ms/step - loss: 0.4526 - accuracy: 0.8419\n",
            "Epoch 10/25\n",
            "1875/1875 [==============================] - 9s 5ms/step - loss: 0.4478 - accuracy: 0.8442\n",
            "Epoch 11/25\n",
            "1875/1875 [==============================] - 9s 5ms/step - loss: 0.4433 - accuracy: 0.8452\n",
            "Epoch 12/25\n",
            "1875/1875 [==============================] - 9s 5ms/step - loss: 0.4397 - accuracy: 0.8468\n",
            "Epoch 13/25\n",
            "1875/1875 [==============================] - 8s 4ms/step - loss: 0.4359 - accuracy: 0.8478\n",
            "Epoch 14/25\n",
            "1875/1875 [==============================] - 8s 4ms/step - loss: 0.4322 - accuracy: 0.8496\n",
            "Epoch 15/25\n",
            "1875/1875 [==============================] - 9s 5ms/step - loss: 0.4294 - accuracy: 0.8492\n",
            "Epoch 16/25\n",
            "1875/1875 [==============================] - 8s 4ms/step - loss: 0.4266 - accuracy: 0.8504\n",
            "Epoch 17/25\n",
            "1875/1875 [==============================] - 9s 5ms/step - loss: 0.4237 - accuracy: 0.8515\n",
            "Epoch 18/25\n",
            "1875/1875 [==============================] - 9s 5ms/step - loss: 0.4211 - accuracy: 0.8522\n",
            "Epoch 19/25\n",
            "1875/1875 [==============================] - 8s 4ms/step - loss: 0.4187 - accuracy: 0.8533\n",
            "Epoch 20/25\n",
            "1875/1875 [==============================] - 9s 5ms/step - loss: 0.4160 - accuracy: 0.8547\n",
            "Epoch 21/25\n",
            "1875/1875 [==============================] - 9s 5ms/step - loss: 0.4138 - accuracy: 0.8550\n",
            "Epoch 22/25\n",
            "1875/1875 [==============================] - 9s 5ms/step - loss: 0.4116 - accuracy: 0.8553\n",
            "Epoch 23/25\n",
            "1875/1875 [==============================] - 8s 4ms/step - loss: 0.4092 - accuracy: 0.8565\n",
            "Epoch 24/25\n",
            "1875/1875 [==============================] - 10s 5ms/step - loss: 0.4075 - accuracy: 0.8565\n",
            "Epoch 25/25\n",
            "1875/1875 [==============================] - 9s 5ms/step - loss: 0.4054 - accuracy: 0.8581\n",
            "==================================================\n"
          ]
        }
      ]
    },
    {
      "cell_type": "markdown",
      "source": [
        "**MODELO 2**\n",
        "\n",
        "\n",
        "*   Cinco épocas: final_loss = 0.3754, final_accuracy = 0.8699\n",
        "*   Veinticinco épocas: final_loss = 0.3518, final_accuracy = 0.8783\n"
      ],
      "metadata": {
        "id": "F2vEknTa1zQl"
      }
    },
    {
      "cell_type": "markdown",
      "source": [
        "**MODELO 7**\n",
        "\n",
        "\n",
        "*   Cinco épocas: final_loss = 0.4991, final_accuracy = 0.8258\n",
        "*   Veinticinco épocas: final_loss = 0.4003, final_accuracy = 0.8586"
      ],
      "metadata": {
        "id": "PwCr_I391-do"
      }
    },
    {
      "cell_type": "markdown",
      "source": [
        "Para ambos casos, el modelo entrenado con 25 épocas logra un menor valor de pérdida y una mayor precisión en comparación con el entrenado con solo 5 épocas. Esto nos sugiere que entrenar la red durante más épocas mejora su capacidad para hacer predicciones precisas. Sin embargo, el entrenamiento más prolongado también puede aumentar el tiempo necesario para completar el proceso de entrenamiento o incluso llevar al sobreentrenamiento (*overfitting*)."
      ],
      "metadata": {
        "id": "y99sd-jg3xMW"
      }
    },
    {
      "cell_type": "markdown",
      "source": [
        "####**4._** Evaluar cada uno de los 8 modelos comparando el rendimiento del modelo en el conjunto de datos de prueba\n"
      ],
      "metadata": {
        "id": "mfD1bpUEXuV-"
      }
    },
    {
      "cell_type": "markdown",
      "source": [
        "Haremos uso de un for como anteriormente, pero hemos creado una lista vacía para comparar todas las precisiones de cada modelo y así luego obtener el más preciso."
      ],
      "metadata": {
        "id": "pLNI5VvI5mAr"
      }
    },
    {
      "cell_type": "code",
      "source": [
        "model_accuracies = []\n",
        "\n",
        "for i in range(len(models)):\n",
        "  print(\"EVALUANDO MODELO {} :\".format(i+1))\n",
        "  test_loss, test_accuracy = models[i].evaluate(train_images, train_labels, verbose = 0)\n",
        "  model_accuracies.append(test_accuracy)\n",
        "  print(\"Precisión de prueba: {:.4f}\".format(test_accuracy))\n",
        "  print(\"=\"*50)\n",
        "\n",
        "# Comparamos las precisiones de los modelos\n",
        "mejor = max(model_accuracies)\n",
        "best_model_index = model_accuracies.index(mejor)\n",
        "best_model_accuracy = mejor\n",
        "\n",
        "print(\"El mejor modelo es el Modelo {} con una precisión en el conjunto de prueba de {:.2f}%\".format(best_model_index + 1, best_model_accuracy*100))"
      ],
      "metadata": {
        "colab": {
          "base_uri": "https://localhost:8080/"
        },
        "id": "m6W3RBx04Mk6",
        "outputId": "d4f08c60-e262-4adf-c098-5dbadffd3d39"
      },
      "execution_count": 36,
      "outputs": [
        {
          "output_type": "stream",
          "name": "stdout",
          "text": [
            "EVALUANDO MODELO 1 :\n",
            "Precisión de prueba: 0.8399\n",
            "==================================================\n",
            "EVALUANDO MODELO 2 :\n",
            "Precisión de prueba: 0.8785\n",
            "==================================================\n",
            "EVALUANDO MODELO 3 :\n",
            "Precisión de prueba: 0.7840\n",
            "==================================================\n",
            "EVALUANDO MODELO 4 :\n",
            "Precisión de prueba: 0.8544\n",
            "==================================================\n",
            "EVALUANDO MODELO 5 :\n",
            "Precisión de prueba: 0.8613\n",
            "==================================================\n",
            "EVALUANDO MODELO 6 :\n",
            "Precisión de prueba: 0.9034\n",
            "==================================================\n",
            "EVALUANDO MODELO 7 :\n",
            "Precisión de prueba: 0.8586\n",
            "==================================================\n",
            "EVALUANDO MODELO 8 :\n",
            "Precisión de prueba: 0.8968\n",
            "==================================================\n",
            "El mejor modelo es el Modelo 6 con una precisión en el conjunto de prueba de 90.34%\n"
          ]
        }
      ]
    },
    {
      "cell_type": "markdown",
      "source": [
        "####**5._** Usar cada uno de los 8 modelos para hacer predicciones sobre la 6ª imagen de test (*test_images[5])\n"
      ],
      "metadata": {
        "id": "BZ9VJk4MX4OO"
      }
    },
    {
      "cell_type": "code",
      "source": [
        "import matplotlib.pyplot as plt\n",
        "# Supongamos que test_images[5] es una matriz bidimensional de 28x28 píxeles.\n",
        "plt.figure()\n",
        "plt.imshow(test_images[5].reshape(28, 28), cmap='gray')  # Nos aseguramos de que la forma sea (28, 28)\n",
        "plt.colorbar()\n",
        "plt.grid(False)\n",
        "plt.show()"
      ],
      "metadata": {
        "colab": {
          "base_uri": "https://localhost:8080/",
          "height": 435
        },
        "id": "zetjfL-2sNTD",
        "outputId": "15b5606b-12a1-471a-8a10-9e62328a34cc"
      },
      "execution_count": 37,
      "outputs": [
        {
          "output_type": "display_data",
          "data": {
            "text/plain": [
              "<Figure size 640x480 with 2 Axes>"
            ],
            "image/png": "[encoded data removed]"
          },
          "metadata": {}
        }
      ]
    },
    {
      "cell_type": "code",
      "source": [
        "test_loss = []\n",
        "test_accuracy = []\n",
        "for i in range(len(models)):\n",
        "  test_loss.append(models[i].evaluate(test_images, test_labels)[0])\n",
        "  test_accuracy.append(models[i].evaluate(test_images, test_labels)[1])"
      ],
      "metadata": {
        "colab": {
          "base_uri": "https://localhost:8080/"
        },
        "id": "0NfF3OyKOqYC",
        "outputId": "23b37f2c-dfef-4c82-cec8-d0699d622474"
      },
      "execution_count": 38,
      "outputs": [
        {
          "output_type": "stream",
          "name": "stdout",
          "text": [
            "313/313 [==============================] - 1s 2ms/step - loss: 0.4891 - accuracy: 0.8278\n",
            "313/313 [==============================] - 1s 2ms/step - loss: 0.4891 - accuracy: 0.8278\n",
            "313/313 [==============================] - 1s 2ms/step - loss: 0.4515 - accuracy: 0.8510\n",
            "313/313 [==============================] - 1s 2ms/step - loss: 0.4515 - accuracy: 0.8510\n",
            "313/313 [==============================] - 1s 3ms/step - loss: 0.7456 - accuracy: 0.7742\n",
            "313/313 [==============================] - 1s 3ms/step - loss: 0.7456 - accuracy: 0.7742\n",
            "313/313 [==============================] - 1s 2ms/step - loss: 0.4602 - accuracy: 0.8408\n",
            "313/313 [==============================] - 2s 5ms/step - loss: 0.4602 - accuracy: 0.8408\n",
            "313/313 [==============================] - 3s 6ms/step - loss: 0.4359 - accuracy: 0.8452\n",
            "313/313 [==============================] - 2s 6ms/step - loss: 0.4359 - accuracy: 0.8452\n",
            "313/313 [==============================] - 2s 5ms/step - loss: 0.3782 - accuracy: 0.8772\n",
            "313/313 [==============================] - 1s 3ms/step - loss: 0.3782 - accuracy: 0.8772\n",
            "313/313 [==============================] - 1s 3ms/step - loss: 0.4424 - accuracy: 0.8415\n",
            "313/313 [==============================] - 1s 3ms/step - loss: 0.4424 - accuracy: 0.8415\n",
            "313/313 [==============================] - 2s 5ms/step - loss: 0.3577 - accuracy: 0.8730\n",
            "313/313 [==============================] - 2s 5ms/step - loss: 0.3577 - accuracy: 0.8730\n"
          ]
        }
      ]
    },
    {
      "cell_type": "code",
      "source": [
        "for i in range(len(models)):\n",
        "  print(\"MODELO \", i+1)\n",
        "  print(\"PÉRDIDA CON LOS DATOS DE TEST: \", test_loss[i])\n",
        "  print(\"PRECISIÓN CON LOS DATOS DE TEST\", test_accuracy[i])\n",
        "  print(\"=\"*50)"
      ],
      "metadata": {
        "colab": {
          "base_uri": "https://localhost:8080/"
        },
        "id": "8ba2JHvHPJDJ",
        "outputId": "386e205e-3059-4754-d777-153b1047043b"
      },
      "execution_count": 39,
      "outputs": [
        {
          "output_type": "stream",
          "name": "stdout",
          "text": [
            "MODELO  1\n",
            "PÉRDIDA CON LOS DATOS DE TEST:  0.4890618622303009\n",
            "PRECISIÓN CON LOS DATOS DE TEST 0.8277999758720398\n",
            "==================================================\n",
            "MODELO  2\n",
            "PÉRDIDA CON LOS DATOS DE TEST:  0.4515012800693512\n",
            "PRECISIÓN CON LOS DATOS DE TEST 0.8510000109672546\n",
            "==================================================\n",
            "MODELO  3\n",
            "PÉRDIDA CON LOS DATOS DE TEST:  0.7456210255622864\n",
            "PRECISIÓN CON LOS DATOS DE TEST 0.7742000222206116\n",
            "==================================================\n",
            "MODELO  4\n",
            "PÉRDIDA CON LOS DATOS DE TEST:  0.4602260887622833\n",
            "PRECISIÓN CON LOS DATOS DE TEST 0.8407999873161316\n",
            "==================================================\n",
            "MODELO  5\n",
            "PÉRDIDA CON LOS DATOS DE TEST:  0.4359223246574402\n",
            "PRECISIÓN CON LOS DATOS DE TEST 0.8452000021934509\n",
            "==================================================\n",
            "MODELO  6\n",
            "PÉRDIDA CON LOS DATOS DE TEST:  0.37821903824806213\n",
            "PRECISIÓN CON LOS DATOS DE TEST 0.8772000074386597\n",
            "==================================================\n",
            "MODELO  7\n",
            "PÉRDIDA CON LOS DATOS DE TEST:  0.4424015283584595\n",
            "PRECISIÓN CON LOS DATOS DE TEST 0.8414999842643738\n",
            "==================================================\n",
            "MODELO  8\n",
            "PÉRDIDA CON LOS DATOS DE TEST:  0.35773512721061707\n",
            "PRECISIÓN CON LOS DATOS DE TEST 0.8730000257492065\n",
            "==================================================\n"
          ]
        }
      ]
    },
    {
      "cell_type": "code",
      "source": [
        "print(\"MODELO 1\")\n",
        "p1=m1.predict(test_images)\n",
        "print(p1[5])\n",
        "np.argmax(p1[5])\n",
        "\n",
        "print(\"MODELO 2\")\n",
        "p2=m2.predict(test_images)\n",
        "print(p2[5])\n",
        "np.argmax(p2[5])\n",
        "\n",
        "print(\"MODELO 3\")\n",
        "p3=m3.predict(test_images)\n",
        "print(p3[5])\n",
        "np.argmax(p3[5])\n",
        "\n",
        "print(\"MODELO 4\")\n",
        "p4=m4.predict(test_images)\n",
        "print(p4[5])\n",
        "np.argmax(p4[5])\n",
        "\n",
        "print(\"MODELO 5\")\n",
        "p5=m5.predict(test_images)\n",
        "print(p5[5])\n",
        "np.argmax(p5[5])\n",
        "\n",
        "print(\"MODELO 6\")\n",
        "p6=m6.predict(test_images)\n",
        "print(p6[5])\n",
        "np.argmax(p6[5])\n",
        "\n",
        "print(\"MODELO 7\")\n",
        "p7=m7.predict(test_images)\n",
        "print(p7[5])\n",
        "np.argmax(p7[5])\n",
        "\n",
        "print(\"MODELO 8\")\n",
        "p8=m8.predict(test_images)\n",
        "print(p8[5])\n",
        "np.argmax(p8[5])"
      ],
      "metadata": {
        "colab": {
          "base_uri": "https://localhost:8080/"
        },
        "id": "JbfaiLpa-4lV",
        "outputId": "83d2ce53-ba58-4c91-c1c3-7e389656c2a8"
      },
      "execution_count": 40,
      "outputs": [
        {
          "output_type": "stream",
          "name": "stdout",
          "text": [
            "MODELO 1\n",
            "313/313 [==============================] - 1s 3ms/step\n",
            "[0.   0.99 0.   0.   0.   0.   0.   0.   0.   0.  ]\n",
            "MODELO 2\n",
            "313/313 [==============================] - 1s 3ms/step\n",
            "[0. 1. 0. 0. 0. 0. 0. 0. 0. 0.]\n",
            "MODELO 3\n",
            "313/313 [==============================] - 1s 3ms/step\n",
            "[0.01 0.87 0.02 0.04 0.03 0.   0.02 0.   0.   0.  ]\n",
            "MODELO 4\n",
            "313/313 [==============================] - 1s 3ms/step\n",
            "[0. 1. 0. 0. 0. 0. 0. 0. 0. 0.]\n",
            "MODELO 5\n",
            "313/313 [==============================] - 3s 9ms/step\n",
            "[0.01 0.99 0.   0.   0.01 0.   0.   0.   0.   0.  ]\n",
            "MODELO 6\n",
            "313/313 [==============================] - 2s 5ms/step\n",
            "[0. 1. 0. 0. 0. 0. 0. 0. 0. 0.]\n",
            "MODELO 7\n",
            "313/313 [==============================] - 2s 5ms/step\n",
            "[0.01 0.99 0.   0.   0.01 0.   0.   0.   0.   0.  ]\n",
            "MODELO 8\n",
            "313/313 [==============================] - 2s 6ms/step\n",
            "[0. 1. 0. 0. 0. 0. 0. 0. 0. 0.]\n"
          ]
        },
        {
          "output_type": "execute_result",
          "data": {
            "text/plain": [
              "1"
            ]
          },
          "metadata": {},
          "execution_count": 40
        }
      ]
    },
    {
      "cell_type": "markdown",
      "source": [
        "Creamos una lista para hacer un for y directamente ver los datos de las predicciones de cada modelo"
      ],
      "metadata": {
        "id": "GElE3O5C_5Do"
      }
    },
    {
      "cell_type": "code",
      "source": [
        "predictions = [p1, p2, p3, p4, p5, p6, p7, p8]"
      ],
      "metadata": {
        "id": "2jJem9Nk_YtO"
      },
      "execution_count": 41,
      "outputs": []
    },
    {
      "cell_type": "code",
      "source": [
        "for i in range(len(predictions)):\n",
        "  print(\"PREDICCIONES MODELO {}\".format(i + 1))\n",
        "  print(\"PREDICCIONES: \",predictions[i][5])\n",
        "  print(\"PREDICCIÓN DEL ELEMENTO 5 (QUE DEBERÍAN SER UNOS PANTALONES = 1)\")\n",
        "  print(np.argmax(predictions[i][5]))\n",
        "  print(\"LA SUMA DE TODAS LAS PREDICCIONES PARA EL ELEMENTO 5 DEBERÍA SER 1:\")\n",
        "  print(np.sum(predictions[i][5]))\n",
        "  print(\"PINTAMOS TODAS LAS PREDICCIONES DEL MODELO {}\".format(i + 1))\n",
        "  print(predictions[i])\n",
        "  print(\"=\"*50)"
      ],
      "metadata": {
        "colab": {
          "base_uri": "https://localhost:8080/"
        },
        "id": "6b651SpHTcr1",
        "outputId": "3a642397-4749-40df-9097-1287e5f94a8f"
      },
      "execution_count": 44,
      "outputs": [
        {
          "output_type": "stream",
          "name": "stdout",
          "text": [
            "PREDICCIONES MODELO 1\n",
            "PREDICCIONES:  [0.   0.99 0.   0.   0.   0.   0.   0.   0.   0.  ]\n",
            "PREDICCIÓN DEL ELEMENTO 5 (QUE DEBERÍAN SER UNOS PANTALONES = 1)\n",
            "1\n",
            "LA SUMA DE TODAS LAS PREDICCIONES PARA EL ELEMENTO 5 DEBERÍA SER 1:\n",
            "0.99999994\n",
            "PINTAMOS TODAS LAS PREDICCIONES DEL MODELO 1\n",
            "[[0.   0.   0.   ... 0.31 0.01 0.55]\n",
            " [0.   0.   0.91 ... 0.   0.   0.  ]\n",
            " [0.   1.   0.   ... 0.   0.   0.  ]\n",
            " ...\n",
            " [0.07 0.   0.01 ... 0.   0.79 0.  ]\n",
            " [0.   1.   0.   ... 0.   0.   0.  ]\n",
            " [0.   0.   0.   ... 0.07 0.01 0.02]]\n",
            "==================================================\n",
            "PREDICCIONES MODELO 2\n",
            "PREDICCIONES:  [0. 1. 0. 0. 0. 0. 0. 0. 0. 0.]\n",
            "PREDICCIÓN DEL ELEMENTO 5 (QUE DEBERÍAN SER UNOS PANTALONES = 1)\n",
            "1\n",
            "LA SUMA DE TODAS LAS PREDICCIONES PARA EL ELEMENTO 5 DEBERÍA SER 1:\n",
            "0.99999994\n",
            "PINTAMOS TODAS LAS PREDICCIONES DEL MODELO 2\n",
            "[[0.   0.   0.   ... 0.04 0.   0.93]\n",
            " [0.   0.   0.98 ... 0.   0.   0.  ]\n",
            " [0.   1.   0.   ... 0.   0.   0.  ]\n",
            " ...\n",
            " [0.39 0.   0.   ... 0.   0.19 0.  ]\n",
            " [0.   1.   0.   ... 0.   0.   0.  ]\n",
            " [0.   0.   0.   ... 0.   0.   0.  ]]\n",
            "==================================================\n",
            "PREDICCIONES MODELO 3\n",
            "PREDICCIONES:  [0.01 0.87 0.02 0.04 0.03 0.   0.02 0.   0.   0.  ]\n",
            "PREDICCIÓN DEL ELEMENTO 5 (QUE DEBERÍAN SER UNOS PANTALONES = 1)\n",
            "1\n",
            "LA SUMA DE TODAS LAS PREDICCIONES PARA EL ELEMENTO 5 DEBERÍA SER 1:\n",
            "0.99999994\n",
            "PINTAMOS TODAS LAS PREDICCIONES DEL MODELO 3\n",
            "[[0.   0.   0.   ... 0.27 0.04 0.47]\n",
            " [0.02 0.01 0.56 ... 0.   0.02 0.  ]\n",
            " [0.01 0.92 0.01 ... 0.   0.   0.  ]\n",
            " ...\n",
            " [0.18 0.   0.04 ... 0.02 0.19 0.2 ]\n",
            " [0.02 0.81 0.01 ... 0.01 0.   0.  ]\n",
            " [0.   0.   0.   ... 0.42 0.1  0.12]]\n",
            "==================================================\n",
            "PREDICCIONES MODELO 4\n",
            "PREDICCIONES:  [0. 1. 0. 0. 0. 0. 0. 0. 0. 0.]\n",
            "PREDICCIÓN DEL ELEMENTO 5 (QUE DEBERÍAN SER UNOS PANTALONES = 1)\n",
            "1\n",
            "LA SUMA DE TODAS LAS PREDICCIONES PARA EL ELEMENTO 5 DEBERÍA SER 1:\n",
            "0.99999994\n",
            "PINTAMOS TODAS LAS PREDICCIONES DEL MODELO 4\n",
            "[[0.   0.   0.   ... 0.14 0.   0.64]\n",
            " [0.01 0.   0.92 ... 0.   0.   0.  ]\n",
            " [0.   1.   0.   ... 0.   0.   0.  ]\n",
            " ...\n",
            " [0.01 0.   0.   ... 0.   0.9  0.  ]\n",
            " [0.   0.99 0.   ... 0.   0.   0.  ]\n",
            " [0.   0.   0.   ... 0.01 0.01 0.  ]]\n",
            "==================================================\n",
            "PREDICCIONES MODELO 5\n",
            "PREDICCIONES:  [0.01 0.99 0.   0.   0.01 0.   0.   0.   0.   0.  ]\n",
            "PREDICCIÓN DEL ELEMENTO 5 (QUE DEBERÍAN SER UNOS PANTALONES = 1)\n",
            "1\n",
            "LA SUMA DE TODAS LAS PREDICCIONES PARA EL ELEMENTO 5 DEBERÍA SER 1:\n",
            "1.0\n",
            "PINTAMOS TODAS LAS PREDICCIONES DEL MODELO 5\n",
            "[[0.   0.   0.   ... 0.18 0.   0.73]\n",
            " [0.   0.   0.95 ... 0.   0.   0.  ]\n",
            " [0.   1.   0.   ... 0.   0.   0.  ]\n",
            " ...\n",
            " [0.03 0.   0.   ... 0.   0.9  0.  ]\n",
            " [0.   1.   0.   ... 0.   0.   0.  ]\n",
            " [0.   0.   0.   ... 0.14 0.03 0.02]]\n",
            "==================================================\n",
            "PREDICCIONES MODELO 6\n",
            "PREDICCIONES:  [0. 1. 0. 0. 0. 0. 0. 0. 0. 0.]\n",
            "PREDICCIÓN DEL ELEMENTO 5 (QUE DEBERÍAN SER UNOS PANTALONES = 1)\n",
            "1\n",
            "LA SUMA DE TODAS LAS PREDICCIONES PARA EL ELEMENTO 5 DEBERÍA SER 1:\n",
            "0.9999999\n",
            "PINTAMOS TODAS LAS PREDICCIONES DEL MODELO 6\n",
            "[[0.   0.   0.   ... 0.   0.   1.  ]\n",
            " [0.   0.   1.   ... 0.   0.   0.  ]\n",
            " [0.   1.   0.   ... 0.   0.   0.  ]\n",
            " ...\n",
            " [0.   0.   0.   ... 0.   1.   0.  ]\n",
            " [0.   1.   0.   ... 0.   0.   0.  ]\n",
            " [0.   0.   0.   ... 0.01 0.   0.  ]]\n",
            "==================================================\n",
            "PREDICCIONES MODELO 7\n",
            "PREDICCIONES:  [0.01 0.99 0.   0.   0.01 0.   0.   0.   0.   0.  ]\n",
            "PREDICCIÓN DEL ELEMENTO 5 (QUE DEBERÍAN SER UNOS PANTALONES = 1)\n",
            "1\n",
            "LA SUMA DE TODAS LAS PREDICCIONES PARA EL ELEMENTO 5 DEBERÍA SER 1:\n",
            "0.9999999\n",
            "PINTAMOS TODAS LAS PREDICCIONES DEL MODELO 7\n",
            "[[0.   0.   0.   ... 0.22 0.   0.62]\n",
            " [0.   0.   0.9  ... 0.   0.   0.  ]\n",
            " [0.   1.   0.   ... 0.   0.   0.  ]\n",
            " ...\n",
            " [0.05 0.   0.   ... 0.   0.83 0.  ]\n",
            " [0.   1.   0.   ... 0.   0.   0.  ]\n",
            " [0.   0.   0.   ... 0.06 0.01 0.  ]]\n",
            "==================================================\n",
            "PREDICCIONES MODELO 8\n",
            "PREDICCIONES:  [0. 1. 0. 0. 0. 0. 0. 0. 0. 0.]\n",
            "PREDICCIÓN DEL ELEMENTO 5 (QUE DEBERÍAN SER UNOS PANTALONES = 1)\n",
            "1\n",
            "LA SUMA DE TODAS LAS PREDICCIONES PARA EL ELEMENTO 5 DEBERÍA SER 1:\n",
            "1.0000001\n",
            "PINTAMOS TODAS LAS PREDICCIONES DEL MODELO 8\n",
            "[[0.   0.   0.   ... 0.   0.   0.98]\n",
            " [0.   0.   0.99 ... 0.   0.   0.  ]\n",
            " [0.   1.   0.   ... 0.   0.   0.  ]\n",
            " ...\n",
            " [0.   0.   0.   ... 0.   1.   0.  ]\n",
            " [0.   1.   0.   ... 0.   0.   0.  ]\n",
            " [0.   0.   0.   ... 0.   0.   0.  ]]\n",
            "==================================================\n"
          ]
        }
      ]
    },
    {
      "cell_type": "markdown",
      "source": [
        "####**6._** Utilice el siguiente código para graficar cómo de bien o de mal se comporta el modelo para uno de los 8 casos\n",
        "![image.png](data:image/png;base64,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)"
      ],
      "metadata": {
        "id": "qoV-yRQfYDe7"
      }
    },
    {
      "cell_type": "markdown",
      "source": [
        "####Ejemplo de uso para ver la predicción de la 6ª figura de las imágenes de test.\n",
        "![image.png](data:image/png;base64,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)\n",
        "\n",
        "####Utilícelo para ver la predicción, igual que el gráfico anterior, de las 10 primeras imágenes del conjunto de test, para cada uno de los 8 casos. Reflexione y comente las diferencias que observa."
      ],
      "metadata": {
        "id": "d1otHaoiYSOH"
      }
    },
    {
      "cell_type": "code",
      "source": [
        "(train_images, train_labels), (test_images, test_labels) = fashion_mnist.load_data()\n",
        "train_images = train_images.astype('float32')\n",
        "test_images = test_images.astype('float32')\n",
        "train_images = train_images / 255.0\n",
        "test_images = test_images / 255.0\n",
        "\n",
        "class_names = ['T-shirt/top', 'Trouser', 'Pullover', 'Dress', 'Coat',\n",
        "               'Sandal', 'Shirt', 'Sneaker', 'Bag', 'Ankle boot']\n",
        "def plot_image(i, predictions_array, true_label, img):\n",
        "  predictions_array, true_label, img = predictions_array, true_label[i], img[i]\n",
        "  plt.grid(False)\n",
        "  plt.xticks([])\n",
        "  plt.yticks([])\n",
        "\n",
        "  plt.imshow(img, cmap=plt.cm.binary)\n",
        "  predicted_label = np.argmax(predictions_array)\n",
        "\n",
        "  if predicted_label.all() == true_label.all():\n",
        "    color = 'blue'\n",
        "  else:\n",
        "    color = 'red'\n",
        "\n",
        "  plt.xlabel(\"{} {:2.0f}% ({})\".format(class_names[predicted_label],\n",
        "                                100*np.max(predictions_array),\n",
        "                                class_names[true_label]),\n",
        "                                color=color)\n",
        "\n",
        "\n",
        "def plot_value_array(i, predictions_array, true_label):\n",
        "  predictions_array, true_label = predictions_array, true_label[i]\n",
        "  plt.grid(False)\n",
        "  plt.xticks(range(10))\n",
        "  plt.yticks([])\n",
        "  thisplot = plt.bar(range(10), predictions_array, color=\"blue\")\n",
        "  plt.ylim([0, 1])\n",
        "  predicted_label = np.argmax(predictions_array)\n",
        "\n",
        "  thisplot[predicted_label].set_color('red')\n",
        "  thisplot[true_label].set_color('black')"
      ],
      "metadata": {
        "id": "CrL8QvmXVDDE"
      },
      "execution_count": 45,
      "outputs": []
    },
    {
      "cell_type": "markdown",
      "source": [
        "Evaluamos ahora el elemento 0 (un zapato) con los distintos modelos, pero añadimos las predicciones en un gráfico de barras."
      ],
      "metadata": {
        "id": "XkEtCjdpCVTC"
      }
    },
    {
      "cell_type": "code",
      "source": [
        "for i in range(len(predictions)):\n",
        "  print(\"----------------------------------------------------------\")\n",
        "  print(\"PREDICCIONES MODELO \", i + 1 , \" FIGURA \", 5)\n",
        "  plt.figure(figsize=(6,3))\n",
        "  plt.subplot(1,2,1)\n",
        "  plot_image(0, predictions[i][0], test_labels, test_images)\n",
        "  plt.subplot(1,2,2)\n",
        "  plot_value_array(0, predictions[i][0],  test_labels)\n",
        "  plt.show()\n",
        "  plt.clf()"
      ],
      "metadata": {
        "colab": {
          "base_uri": "https://localhost:8080/",
          "height": 1000
        },
        "id": "Y21OLrOMXTlc",
        "outputId": "a6e6d47d-83a5-441f-e4b0-9eaa028fcdca"
      },
      "execution_count": 47,
      "outputs": [
        {
          "output_type": "stream",
          "name": "stdout",
          "text": [
            "----------------------------------------------------------\n",
            "PREDICCIONES MODELO  1  FIGURA  5\n"
          ]
        },
        {
          "output_type": "display_data",
          "data": {
            "text/plain": [
              "<Figure size 600x300 with 2 Axes>"
            ],
            "image/png": "[encoded data removed]"
          },
          "metadata": {}
        },
        {
          "output_type": "stream",
          "name": "stdout",
          "text": [
            "----------------------------------------------------------\n",
            "PREDICCIONES MODELO  2  FIGURA  5\n"
          ]
        },
        {
          "output_type": "display_data",
          "data": {
            "text/plain": [
              "<Figure size 640x480 with 0 Axes>"
            ]
          },
          "metadata": {}
        },
        {
          "output_type": "display_data",
          "data": {
            "text/plain": [
              "<Figure size 600x300 with 2 Axes>"
            ],
            "image/png": "[encoded data removed]"
          },
          "metadata": {}
        },
        {
          "output_type": "stream",
          "name": "stdout",
          "text": [
            "----------------------------------------------------------\n",
            "PREDICCIONES MODELO  3  FIGURA  5\n"
          ]
        },
        {
          "output_type": "display_data",
          "data": {
            "text/plain": [
              "<Figure size 640x480 with 0 Axes>"
            ]
          },
          "metadata": {}
        },
        {
          "output_type": "display_data",
          "data": {
            "text/plain": [
              "<Figure size 600x300 with 2 Axes>"
            ],
            "image/png": "[encoded data removed]"
          },
          "metadata": {}
        },
        {
          "output_type": "stream",
          "name": "stdout",
          "text": [
            "----------------------------------------------------------\n",
            "PREDICCIONES MODELO  4  FIGURA  5\n"
          ]
        },
        {
          "output_type": "display_data",
          "data": {
            "text/plain": [
              "<Figure size 640x480 with 0 Axes>"
            ]
          },
          "metadata": {}
        },
        {
          "output_type": "display_data",
          "data": {
            "text/plain": [
              "<Figure size 600x300 with 2 Axes>"
            ],
            "image/png": "[encoded data removed]"
          },
          "metadata": {}
        },
        {
          "output_type": "stream",
          "name": "stdout",
          "text": [
            "----------------------------------------------------------\n",
            "PREDICCIONES MODELO  5  FIGURA  5\n"
          ]
        },
        {
          "output_type": "display_data",
          "data": {
            "text/plain": [
              "<Figure size 640x480 with 0 Axes>"
            ]
          },
          "metadata": {}
        },
        {
          "output_type": "display_data",
          "data": {
            "text/plain": [
              "<Figure size 600x300 with 2 Axes>"
            ],
            "image/png": "[encoded data removed]"
          },
          "metadata": {}
        },
        {
          "output_type": "stream",
          "name": "stdout",
          "text": [
            "----------------------------------------------------------\n",
            "PREDICCIONES MODELO  6  FIGURA  5\n"
          ]
        },
        {
          "output_type": "display_data",
          "data": {
            "text/plain": [
              "<Figure size 640x480 with 0 Axes>"
            ]
          },
          "metadata": {}
        },
        {
          "output_type": "display_data",
          "data": {
            "text/plain": [
              "<Figure size 600x300 with 2 Axes>"
            ],
            "image/png": "[encoded data removed]"
          },
          "metadata": {}
        },
        {
          "output_type": "stream",
          "name": "stdout",
          "text": [
            "----------------------------------------------------------\n",
            "PREDICCIONES MODELO  7  FIGURA  5\n"
          ]
        },
        {
          "output_type": "display_data",
          "data": {
            "text/plain": [
              "<Figure size 640x480 with 0 Axes>"
            ]
          },
          "metadata": {}
        },
        {
          "output_type": "display_data",
          "data": {
            "text/plain": [
              "<Figure size 600x300 with 2 Axes>"
            ],
            "image/png": "[encoded data removed]"
          },
          "metadata": {}
        },
        {
          "output_type": "stream",
          "name": "stdout",
          "text": [
            "----------------------------------------------------------\n",
            "PREDICCIONES MODELO  8  FIGURA  5\n"
          ]
        },
        {
          "output_type": "display_data",
          "data": {
            "text/plain": [
              "<Figure size 640x480 with 0 Axes>"
            ]
          },
          "metadata": {}
        },
        {
          "output_type": "display_data",
          "data": {
            "text/plain": [
              "<Figure size 600x300 with 2 Axes>"
            ],
            "image/png": "[encoded data removed]"
          },
          "metadata": {}
        },
        {
          "output_type": "display_data",
          "data": {
            "text/plain": [
              "<Figure size 640x480 with 0 Axes>"
            ]
          },
          "metadata": {}
        }
      ]
    },
    {
      "cell_type": "markdown",
      "source": [
        "####**7._** Mejore el modelo usando el de la configuración del caso 3, pero cambiando el optimizador por 'adam' y la función de pérdida 'sparse_categorical_crossentropy'. Buscar en internet las bases de dicho optimizador y función de pérdida, explícalos con tus propias palabras y plantea tus reflexiones respecto al resultado"
      ],
      "metadata": {
        "id": "N2cwluo5YQwh"
      }
    },
    {
      "cell_type": "markdown",
      "source": [
        "**Optimizador Adam:**\n",
        "\n",
        "Adam, que significa Adaptive Moment Estimation, es un algoritmo de optimización popular utilizado en el entrenamiento de redes neuronales. Combina las ideas de los optimizadores RMSprop y Momentum. La esencia detrás de Adam es mantener dos momentos para cada parámetro: el primer momento (media móvil) que almacena el promedio de los gradientes pasados y el segundo momento (varianza móvil) que almacena el promedio de los cuadrados de los gradientes pasados. Estos momentos se utilizan para adaptar las tasas de aprendizaje de cada parámetro individualmente, lo que permite un entrenamiento más rápido y eficiente de la red neuronal.\n",
        "\n",
        "**Función de pérdida 'sparse_categorical_crossentropy':**\n",
        "\n",
        "La función de pérdida 'sparse_categorical_crossentropy' se utiliza comúnmente en problemas de clasificación cuando las etiquetas de destino son números enteros y no necesitan codificación one-hot (es decir, las etiquetas no se representan como vectores binarios, sino como enteros). Esta función calcula la pérdida entre las etiquetas verdaderas y las predicciones del modelo. Especifica cuán lejos están las predicciones del modelo de las etiquetas reales. La salida de esta función es un número real que representa la pérdida acumulada en todas las muestras."
      ],
      "metadata": {
        "id": "xAm7CQ2GWV5z"
      }
    },
    {
      "cell_type": "code",
      "source": [
        "from tensorflow.keras.optimizers import Adam\n",
        "from tensorflow.keras.datasets import fashion_mnist\n",
        "\n",
        "# Cargar los datos de Fashion MNIST\n",
        "(train_images, train_labels), (test_images, test_labels) = fashion_mnist.load_data()\n",
        "\n",
        "# Preprocesar los datos\n",
        "train_images = train_images.astype('float32') / 255\n",
        "test_images = test_images.astype('float32') / 255\n",
        "\n",
        "# Crear el modelo y compilarlo\n",
        "def train_model(neurons, activation, optimizer, epochs):\n",
        "    model = Sequential()\n",
        "    model.add(Flatten(input_shape=(28, 28)))\n",
        "    model.add(Dense(neurons, activation=activation))\n",
        "    model.add(Dense(10, activation='softmax'))\n",
        "    model.compile(optimizer=optimizer, loss='sparse_categorical_crossentropy', metrics=['accuracy'])\n",
        "    history = model.fit(train_images, train_labels, epochs=epochs, validation_data=(test_images, test_labels))\n",
        "    return history\n",
        "\n",
        "configs = [\n",
        "    (10, 'sigmoid', Adam(learning_rate=0.001), 5),  # Modelo 3\n",
        "]\n",
        "\n",
        "# Entrenar y evaluar los modelos\n",
        "for i, caso in enumerate(configs):\n",
        "    neurons, activation, optimizer, epochs = caso\n",
        "    print(\"Entrenando Modelo {} - Neuronas en Capa 1: {}, Función de Activación: {}, Optimizador: Adam\".format(i + 1, neurons, activation))\n",
        "    history = train_model(neurons, activation, optimizer, epochs)\n",
        "    print(\"Resultado en épocas de entrenamiento:\")\n",
        "    print(\"Época final - Precisión de entrenamiento: {},\".format(history.history['accuracy'][-1]), \"Precisión de prueba: {}\".format(history.history['val_accuracy'][-1]))\n"
      ],
      "metadata": {
        "id": "5IWLrNSlY8-e",
        "colab": {
          "base_uri": "https://localhost:8080/"
        },
        "outputId": "88dad62f-0bca-48f7-8587-98b29dbf604c"
      },
      "execution_count": 48,
      "outputs": [
        {
          "output_type": "stream",
          "name": "stdout",
          "text": [
            "Entrenando Modelo 1 - Neuronas en Capa 1: 10, Función de Activación: sigmoid, Optimizador: Adam\n",
            "Epoch 1/5\n",
            "1875/1875 [==============================] - 6s 3ms/step - loss: 1.0372 - accuracy: 0.7211 - val_loss: 0.6800 - val_accuracy: 0.7983\n",
            "Epoch 2/5\n",
            "1875/1875 [==============================] - 4s 2ms/step - loss: 0.5683 - accuracy: 0.8231 - val_loss: 0.5310 - val_accuracy: 0.8234\n",
            "Epoch 3/5\n",
            "1875/1875 [==============================] - 4s 2ms/step - loss: 0.4810 - accuracy: 0.8388 - val_loss: 0.4907 - val_accuracy: 0.8278\n",
            "Epoch 4/5\n",
            "1875/1875 [==============================] - 7s 4ms/step - loss: 0.4441 - accuracy: 0.8468 - val_loss: 0.4633 - val_accuracy: 0.8382\n",
            "Epoch 5/5\n",
            "1875/1875 [==============================] - 4s 2ms/step - loss: 0.4242 - accuracy: 0.8518 - val_loss: 0.4541 - val_accuracy: 0.8393\n",
            "Resultado en épocas de entrenamiento:\n",
            "Época final - Precisión de entrenamiento: 0.8518166542053223, Precisión de prueba: 0.8392999768257141\n"
          ]
        }
      ]
    },
    {
      "cell_type": "markdown",
      "source": [
        "1. *Función de Activación Sigmoid:*\n",
        "   - La precisión de entrenamiento es 0.4911, lo que significa que, en el conjunto de datos de entrenamiento, el modelo predice correctamente aproximadamente el 49.11% de las muestras.\n",
        "   - La precisión de prueba es 0.4915, lo que indica que el modelo tiene un rendimiento similar en el conjunto de datos de prueba. Sin embargo, ambas métricas de precisión son relativamente bajas, lo que sugiere que el modelo con función sigmoid no está capturando de manera efectiva los patrones en los datos de entrenamiento y no se generaliza bien a nuevos datos.\n",
        "\n",
        "2. *Función de Activación Adam:*\n",
        "   - En este caso, la precisión de entrenamiento es mucho más alta, alcanzando 0.8518, lo que significa que el modelo con función de activación Adam predice correctamente aproximadamente el 85.30% de las muestras en el conjunto de entrenamiento.\n",
        "   - La precisión de prueba es 0.8392, lo que indica que el modelo también generaliza bien en datos de prueba, con una precisión bastante alta.\n",
        "\n",
        "La mejora significativa en la precisión tanto en entrenamiento como en prueba en el segundo resultado indica que la función de activación Adam ha sido beneficiosa en comparación con la función sigmoid. El optimizador Adam es conocido por su eficacia en la optimización de parámetros de modelos de aprendizaje automático, y esto se refleja en los resultados."
      ],
      "metadata": {
        "id": "tALT9CSSjb1D"
      }
    },
    {
      "cell_type": "markdown",
      "source": [
        "## ANEXO Y OBSERVACIONES"
      ],
      "metadata": {
        "id": "rUrwclhpnPPH"
      }
    },
    {
      "cell_type": "code",
      "source": [
        "from keras.datasets import fashion_mnist # De todos los conjuntos de datos impórtame mnist\n",
        "from keras import models\n",
        "from keras import layers\n",
        "(train_images, train_labels), (test_images, test_labels) = fashion_mnist.load_data() # Llama a una función, cargar datos\n",
        "# El tipo de red será secuencial. Desde la entrada hasta la salida sin ciclos\n",
        "network = models.Sequential()"
      ],
      "metadata": {
        "id": "iBCewcrpog4t"
      },
      "execution_count": 49,
      "outputs": []
    },
    {
      "cell_type": "markdown",
      "source": [
        "Como se puede observar en la tabla del enunciado, las variables de cada modelo son las mismas, lo que cambia es el valor de cada una de ellas y se hacen combinaciones con ellas.\n",
        "Por ello, pensamos que podríamos optimizar el código haciendo una función que nos entrenara los modelos por medio de un bucle, en vez de ir haciéndolo una a una:"
      ],
      "metadata": {
        "id": "126K1efKnXyE"
      }
    },
    {
      "cell_type": "markdown",
      "source": [
        "Nuestra función toma cuatro parámetros y crea una red neuronal secuencial con una capa de entrada `Flatten` de 28x28, una capa `Dense` con el número de nuronas especificado y la función de activación en cada caso, y finalmente otra capa `Dense` de salida con 10 neuronas y función de activación softmax.\n",
        "Posteriormente, se compila la red neuronal con el optimizador"
      ],
      "metadata": {
        "id": "pglQFrwTtXKR"
      }
    },
    {
      "cell_type": "code",
      "source": [
        "def train_model (neurons, activation, optimizer, epochs):\n",
        "    network = models.Sequential()\n",
        "    network.add(Flatten(input_shape=(28, 28)))\n",
        "    network.add(Dense(neurons, activation=activation))\n",
        "    network.add(Dense(10, activation='softmax'))\n",
        "    network.compile(optimizer=optimizer, loss='sparse_categorical_crossentropy', metrics=['accuracy'])\n",
        "    history = network.fit(train_images, train_labels, epochs=epochs, validation_data=(test_images, test_labels))\n",
        "    return history"
      ],
      "metadata": {
        "id": "zdfQI3ZWn-Z1"
      },
      "execution_count": 50,
      "outputs": []
    },
    {
      "cell_type": "markdown",
      "source": [],
      "metadata": {
        "id": "9KrsAyKyopXA"
      }
    },
    {
      "cell_type": "code",
      "source": [
        "# Modelos y configuraciones\n",
        "modelos = [\n",
        "    (10, 'relu', 'sgd', 5),        # Modelo 1\n",
        "    (10, 'relu', 'rmsprop', 5),    # Modelo 2\n",
        "    (10, 'sigmoid', 'sgd', 5),     # Modelo 3\n",
        "    (10, 'sigmoid', 'rmsprop', 5), # Modelo 4\n",
        "    (512, 'relu', 'sgd', 5),       # Modelo 5\n",
        "    (512, 'relu', 'rmsprop', 5),   # Modelo 6\n",
        "    (512, 'sigmoid', 'sgd', 5),    # Modelo 7\n",
        "    (512, 'sigmoid', 'rmsprop', 5) # Modelo 8\n",
        "]\n",
        "\n",
        "modelos_entrenados = []\n",
        "# Entrenar y evaluar los modelos\n",
        "for i, caso in enumerate(modelos):\n",
        "    neurons, activation, optimizer, epochs = caso\n",
        "    print(\"Entrenando Modelo {} - Neuronas en Capa 1: {}, Función de Activación: {}, Optimizador: {}\".format(i + 1, neurons, activation, optimizer))\n",
        "    history = train_model(neurons, activation, optimizer, epochs)\n",
        "    print(\"Resultado en épocas de entrenamiento:\")\n",
        "    print(\"Época final - Precisión de entrenamiento: {},\".format(history.history['accuracy'][-1]), \"Precisión de prueba: {}\".format(history.history['val_accuracy'][-1]))\n",
        "    print(\"=\"*50)\n",
        "    modelos_entrenados.append(network)"
      ],
      "metadata": {
        "colab": {
          "base_uri": "https://localhost:8080/"
        },
        "id": "hIeLc0Nmopyk",
        "outputId": "19be0707-6bc7-49cd-fa08-21991ec9416a"
      },
      "execution_count": 51,
      "outputs": [
        {
          "output_type": "stream",
          "name": "stdout",
          "text": [
            "Entrenando Modelo 1 - Neuronas en Capa 1: 10, Función de Activación: relu, Optimizador: sgd\n",
            "Epoch 1/5\n",
            "1875/1875 [==============================] - 8s 4ms/step - loss: 2.8822 - accuracy: 0.0969 - val_loss: 2.3035 - val_accuracy: 0.1000\n",
            "Epoch 2/5\n",
            "1875/1875 [==============================] - 5s 2ms/step - loss: 2.3023 - accuracy: 0.0987 - val_loss: 2.3010 - val_accuracy: 0.1007\n",
            "Epoch 3/5\n",
            "1875/1875 [==============================] - 4s 2ms/step - loss: 2.3006 - accuracy: 0.1001 - val_loss: 2.2993 - val_accuracy: 0.1016\n",
            "Epoch 4/5\n",
            "1875/1875 [==============================] - 4s 2ms/step - loss: 2.3106 - accuracy: 0.0993 - val_loss: 2.3026 - val_accuracy: 0.1000\n",
            "Epoch 5/5\n",
            "1875/1875 [==============================] - 4s 2ms/step - loss: 2.3027 - accuracy: 0.0994 - val_loss: 2.3026 - val_accuracy: 0.1000\n",
            "Resultado en épocas de entrenamiento:\n",
            "Época final - Precisión de entrenamiento: 0.09938333183526993, Precisión de prueba: 0.10000000149011612\n",
            "==================================================\n",
            "Entrenando Modelo 2 - Neuronas en Capa 1: 10, Función de Activación: relu, Optimizador: rmsprop\n",
            "Epoch 1/5\n",
            "1875/1875 [==============================] - 4s 2ms/step - loss: 2.1625 - accuracy: 0.2508 - val_loss: 1.8901 - val_accuracy: 0.2918\n",
            "Epoch 2/5\n",
            "1875/1875 [==============================] - 5s 2ms/step - loss: 1.8789 - accuracy: 0.2896 - val_loss: 1.8029 - val_accuracy: 0.3152\n",
            "Epoch 3/5\n",
            "1875/1875 [==============================] - 4s 2ms/step - loss: 1.8134 - accuracy: 0.3082 - val_loss: 1.8279 - val_accuracy: 0.2869\n",
            "Epoch 4/5\n",
            "1875/1875 [==============================] - 5s 3ms/step - loss: 1.7774 - accuracy: 0.3185 - val_loss: 1.7802 - val_accuracy: 0.3203\n",
            "Epoch 5/5\n",
            "1875/1875 [==============================] - 7s 4ms/step - loss: 1.7448 - accuracy: 0.3295 - val_loss: 1.7623 - val_accuracy: 0.3111\n",
            "Resultado en épocas de entrenamiento:\n",
            "Época final - Precisión de entrenamiento: 0.32945001125335693, Precisión de prueba: 0.3111000061035156\n",
            "==================================================\n",
            "Entrenando Modelo 3 - Neuronas en Capa 1: 10, Función de Activación: sigmoid, Optimizador: sgd\n",
            "Epoch 1/5\n",
            "1875/1875 [==============================] - 7s 4ms/step - loss: 1.8957 - accuracy: 0.3787 - val_loss: 1.5418 - val_accuracy: 0.5318\n",
            "Epoch 2/5\n",
            "1875/1875 [==============================] - 6s 3ms/step - loss: 1.3617 - accuracy: 0.5917 - val_loss: 1.3811 - val_accuracy: 0.5170\n",
            "Epoch 3/5\n",
            "1875/1875 [==============================] - 4s 2ms/step - loss: 1.2095 - accuracy: 0.5786 - val_loss: 1.0907 - val_accuracy: 0.6519\n",
            "Epoch 4/5\n",
            "1875/1875 [==============================] - 5s 3ms/step - loss: 1.0849 - accuracy: 0.6182 - val_loss: 1.0720 - val_accuracy: 0.5943\n",
            "Epoch 5/5\n",
            "1875/1875 [==============================] - 4s 2ms/step - loss: 1.0257 - accuracy: 0.6321 - val_loss: 0.9785 - val_accuracy: 0.6243\n",
            "Resultado en épocas de entrenamiento:\n",
            "Época final - Precisión de entrenamiento: 0.6320833563804626, Precisión de prueba: 0.6243000030517578\n",
            "==================================================\n",
            "Entrenando Modelo 4 - Neuronas en Capa 1: 10, Función de Activación: sigmoid, Optimizador: rmsprop\n",
            "Epoch 1/5\n",
            "1875/1875 [==============================] - 5s 2ms/step - loss: 1.3498 - accuracy: 0.5756 - val_loss: 0.9944 - val_accuracy: 0.6623\n",
            "Epoch 2/5\n",
            "1875/1875 [==============================] - 5s 3ms/step - loss: 0.9154 - accuracy: 0.6741 - val_loss: 0.8794 - val_accuracy: 0.6716\n",
            "Epoch 3/5\n",
            "1875/1875 [==============================] - 4s 2ms/step - loss: 0.8286 - accuracy: 0.6998 - val_loss: 0.8225 - val_accuracy: 0.6951\n",
            "Epoch 4/5\n",
            "1875/1875 [==============================] - 4s 2ms/step - loss: 0.7774 - accuracy: 0.7126 - val_loss: 0.8272 - val_accuracy: 0.6932\n",
            "Epoch 5/5\n",
            "1875/1875 [==============================] - 4s 2ms/step - loss: 0.7417 - accuracy: 0.7303 - val_loss: 0.8092 - val_accuracy: 0.7134\n",
            "Resultado en épocas de entrenamiento:\n",
            "Época final - Precisión de entrenamiento: 0.7303166389465332, Precisión de prueba: 0.7134000062942505\n",
            "==================================================\n",
            "Entrenando Modelo 5 - Neuronas en Capa 1: 512, Función de Activación: relu, Optimizador: sgd\n",
            "Epoch 1/5\n",
            "1875/1875 [==============================] - 10s 5ms/step - loss: 202.5378 - accuracy: 0.1387 - val_loss: 2.2650 - val_accuracy: 0.1228\n",
            "Epoch 2/5\n",
            "1875/1875 [==============================] - 10s 5ms/step - loss: 2.2423 - accuracy: 0.1345 - val_loss: 2.2173 - val_accuracy: 0.1413\n",
            "Epoch 3/5\n",
            "1875/1875 [==============================] - 11s 6ms/step - loss: 2.2005 - accuracy: 0.1463 - val_loss: 2.1471 - val_accuracy: 0.1728\n",
            "Epoch 4/5\n",
            "1875/1875 [==============================] - 9s 5ms/step - loss: 2.1900 - accuracy: 0.1522 - val_loss: 2.2164 - val_accuracy: 0.1445\n",
            "Epoch 5/5\n",
            "1875/1875 [==============================] - 11s 6ms/step - loss: 2.1516 - accuracy: 0.1657 - val_loss: 2.1384 - val_accuracy: 0.1711\n",
            "Resultado en épocas de entrenamiento:\n",
            "Época final - Precisión de entrenamiento: 0.1656833291053772, Precisión de prueba: 0.17110000550746918\n",
            "==================================================\n",
            "Entrenando Modelo 6 - Neuronas en Capa 1: 512, Función de Activación: relu, Optimizador: rmsprop\n",
            "Epoch 1/5\n",
            "1875/1875 [==============================] - 16s 8ms/step - loss: 5.6715 - accuracy: 0.7516 - val_loss: 0.8540 - val_accuracy: 0.7902\n",
            "Epoch 2/5\n",
            "1875/1875 [==============================] - 15s 8ms/step - loss: 0.7485 - accuracy: 0.8067 - val_loss: 0.8138 - val_accuracy: 0.7770\n",
            "Epoch 3/5\n",
            "1875/1875 [==============================] - 14s 7ms/step - loss: 0.6935 - accuracy: 0.8185 - val_loss: 0.8677 - val_accuracy: 0.7910\n",
            "Epoch 4/5\n",
            "1875/1875 [==============================] - 18s 10ms/step - loss: 0.6931 - accuracy: 0.8221 - val_loss: 0.9161 - val_accuracy: 0.8037\n",
            "Epoch 5/5\n",
            "1875/1875 [==============================] - 15s 8ms/step - loss: 0.6695 - accuracy: 0.8270 - val_loss: 0.7872 - val_accuracy: 0.7980\n",
            "Resultado en épocas de entrenamiento:\n",
            "Época final - Precisión de entrenamiento: 0.8270333409309387, Precisión de prueba: 0.7979999780654907\n",
            "==================================================\n",
            "Entrenando Modelo 7 - Neuronas en Capa 1: 512, Función de Activación: sigmoid, Optimizador: sgd\n",
            "Epoch 1/5\n",
            "1875/1875 [==============================] - 12s 6ms/step - loss: 0.7277 - accuracy: 0.7550 - val_loss: 0.6339 - val_accuracy: 0.7821\n",
            "Epoch 2/5\n",
            "1875/1875 [==============================] - 12s 6ms/step - loss: 0.5867 - accuracy: 0.7916 - val_loss: 0.6072 - val_accuracy: 0.7843\n",
            "Epoch 3/5\n",
            "1875/1875 [==============================] - 10s 5ms/step - loss: 0.5739 - accuracy: 0.7997 - val_loss: 0.5657 - val_accuracy: 0.7975\n",
            "Epoch 4/5\n",
            "1875/1875 [==============================] - 9s 5ms/step - loss: 0.5607 - accuracy: 0.8051 - val_loss: 0.5759 - val_accuracy: 0.7958\n",
            "Epoch 5/5\n",
            "1875/1875 [==============================] - 15s 8ms/step - loss: 0.5603 - accuracy: 0.8036 - val_loss: 0.5716 - val_accuracy: 0.7984\n",
            "Resultado en épocas de entrenamiento:\n",
            "Época final - Precisión de entrenamiento: 0.8035500049591064, Precisión de prueba: 0.7983999848365784\n",
            "==================================================\n",
            "Entrenando Modelo 8 - Neuronas en Capa 1: 512, Función de Activación: sigmoid, Optimizador: rmsprop\n",
            "Epoch 1/5\n",
            "1875/1875 [==============================] - 19s 10ms/step - loss: 0.6695 - accuracy: 0.7531 - val_loss: 0.6151 - val_accuracy: 0.7543\n",
            "Epoch 2/5\n",
            "1875/1875 [==============================] - 14s 7ms/step - loss: 0.5622 - accuracy: 0.7955 - val_loss: 0.5583 - val_accuracy: 0.7987\n",
            "Epoch 3/5\n",
            "1875/1875 [==============================] - 14s 7ms/step - loss: 0.5397 - accuracy: 0.8073 - val_loss: 0.5691 - val_accuracy: 0.8010\n",
            "Epoch 4/5\n",
            "1875/1875 [==============================] - 15s 8ms/step - loss: 0.5238 - accuracy: 0.8130 - val_loss: 0.5510 - val_accuracy: 0.8085\n",
            "Epoch 5/5\n",
            "1875/1875 [==============================] - 18s 9ms/step - loss: 0.5147 - accuracy: 0.8167 - val_loss: 0.5575 - val_accuracy: 0.8033\n",
            "Resultado en épocas de entrenamiento:\n",
            "Época final - Precisión de entrenamiento: 0.8167499899864197, Precisión de prueba: 0.8033000230789185\n",
            "==================================================\n"
          ]
        }
      ]
    },
    {
      "cell_type": "markdown",
      "source": [
        "Para hacer el summary, hemos creado una función para que nos dé directamente el resumen de todos los modelos, en vez de tener que ir uno a uno, aprovechando que previamente teníamos también nuestra función para entrenar nuestros modelos."
      ],
      "metadata": {
        "id": "uI21h_A6jqJo"
      }
    },
    {
      "cell_type": "code",
      "source": [
        "def model_summary (neurons, activation, optimizer, epochs):\n",
        "    model = models.Sequential()\n",
        "    model.add(Flatten(input_shape=(28, 28)))\n",
        "    model.add(Dense(neurons, activation=activation))\n",
        "    model.add(Dense(10, activation='softmax'))\n",
        "    model.compile(optimizer=optimizer, loss='sparse_categorical_crossentropy', metrics=['accuracy'])\n",
        "    return model.summary()\n",
        "\n",
        "for i, caso in enumerate(modelos):\n",
        "    print(\"Resumen de modelo {}\".format(i+1))\n",
        "    neurons, activation, optimizer, epochs = caso\n",
        "    model_summary (neurons, activation, optimizer, epochs)\n",
        "    print(\"=\"*50)"
      ],
      "metadata": {
        "colab": {
          "base_uri": "https://localhost:8080/"
        },
        "id": "LwWV6Qf1XfeV",
        "outputId": "916cbbec-dd49-424b-bbe1-ac752a815b00"
      },
      "execution_count": 52,
      "outputs": [
        {
          "output_type": "stream",
          "name": "stdout",
          "text": [
            "Resumen de modelo 1\n",
            "Model: \"sequential_22\"\n",
            "_________________________________________________________________\n",
            " Layer (type)                Output Shape              Param #   \n",
            "=================================================================\n",
            " flatten_19 (Flatten)        (None, 784)               0         \n",
            "                                                                 \n",
            " dense_34 (Dense)            (None, 10)                7850      \n",
            "                                                                 \n",
            " dense_35 (Dense)            (None, 10)                110       \n",
            "                                                                 \n",
            "=================================================================\n",
            "Total params: 7960 (31.09 KB)\n",
            "Trainable params: 7960 (31.09 KB)\n",
            "Non-trainable params: 0 (0.00 Byte)\n",
            "_________________________________________________________________\n",
            "==================================================\n",
            "Resumen de modelo 2\n",
            "Model: \"sequential_23\"\n",
            "_________________________________________________________________\n",
            " Layer (type)                Output Shape              Param #   \n",
            "=================================================================\n",
            " flatten_20 (Flatten)        (None, 784)               0         \n",
            "                                                                 \n",
            " dense_36 (Dense)            (None, 10)                7850      \n",
            "                                                                 \n",
            " dense_37 (Dense)            (None, 10)                110       \n",
            "                                                                 \n",
            "=================================================================\n",
            "Total params: 7960 (31.09 KB)\n",
            "Trainable params: 7960 (31.09 KB)\n",
            "Non-trainable params: 0 (0.00 Byte)\n",
            "_________________________________________________________________\n",
            "==================================================\n",
            "Resumen de modelo 3\n",
            "Model: \"sequential_24\"\n",
            "_________________________________________________________________\n",
            " Layer (type)                Output Shape              Param #   \n",
            "=================================================================\n",
            " flatten_21 (Flatten)        (None, 784)               0         \n",
            "                                                                 \n",
            " dense_38 (Dense)            (None, 10)                7850      \n",
            "                                                                 \n",
            " dense_39 (Dense)            (None, 10)                110       \n",
            "                                                                 \n",
            "=================================================================\n",
            "Total params: 7960 (31.09 KB)\n",
            "Trainable params: 7960 (31.09 KB)\n",
            "Non-trainable params: 0 (0.00 Byte)\n",
            "_________________________________________________________________\n",
            "==================================================\n",
            "Resumen de modelo 4\n",
            "Model: \"sequential_25\"\n",
            "_________________________________________________________________\n",
            " Layer (type)                Output Shape              Param #   \n",
            "=================================================================\n",
            " flatten_22 (Flatten)        (None, 784)               0         \n",
            "                                                                 \n",
            " dense_40 (Dense)            (None, 10)                7850      \n",
            "                                                                 \n",
            " dense_41 (Dense)            (None, 10)                110       \n",
            "                                                                 \n",
            "=================================================================\n",
            "Total params: 7960 (31.09 KB)\n",
            "Trainable params: 7960 (31.09 KB)\n",
            "Non-trainable params: 0 (0.00 Byte)\n",
            "_________________________________________________________________\n",
            "==================================================\n",
            "Resumen de modelo 5\n",
            "Model: \"sequential_26\"\n",
            "_________________________________________________________________\n",
            " Layer (type)                Output Shape              Param #   \n",
            "=================================================================\n",
            " flatten_23 (Flatten)        (None, 784)               0         \n",
            "                                                                 \n",
            " dense_42 (Dense)            (None, 512)               401920    \n",
            "                                                                 \n",
            " dense_43 (Dense)            (None, 10)                5130      \n",
            "                                                                 \n",
            "=================================================================\n",
            "Total params: 407050 (1.55 MB)\n",
            "Trainable params: 407050 (1.55 MB)\n",
            "Non-trainable params: 0 (0.00 Byte)\n",
            "_________________________________________________________________\n",
            "==================================================\n",
            "Resumen de modelo 6\n",
            "Model: \"sequential_27\"\n",
            "_________________________________________________________________\n",
            " Layer (type)                Output Shape              Param #   \n",
            "=================================================================\n",
            " flatten_24 (Flatten)        (None, 784)               0         \n",
            "                                                                 \n",
            " dense_44 (Dense)            (None, 512)               401920    \n",
            "                                                                 \n",
            " dense_45 (Dense)            (None, 10)                5130      \n",
            "                                                                 \n",
            "=================================================================\n",
            "Total params: 407050 (1.55 MB)\n",
            "Trainable params: 407050 (1.55 MB)\n",
            "Non-trainable params: 0 (0.00 Byte)\n",
            "_________________________________________________________________\n",
            "==================================================\n",
            "Resumen de modelo 7\n",
            "Model: \"sequential_28\"\n",
            "_________________________________________________________________\n",
            " Layer (type)                Output Shape              Param #   \n",
            "=================================================================\n",
            " flatten_25 (Flatten)        (None, 784)               0         \n",
            "                                                                 \n",
            " dense_46 (Dense)            (None, 512)               401920    \n",
            "                                                                 \n",
            " dense_47 (Dense)            (None, 10)                5130      \n",
            "                                                                 \n",
            "=================================================================\n",
            "Total params: 407050 (1.55 MB)\n",
            "Trainable params: 407050 (1.55 MB)\n",
            "Non-trainable params: 0 (0.00 Byte)\n",
            "_________________________________________________________________\n",
            "==================================================\n",
            "Resumen de modelo 8\n",
            "Model: \"sequential_29\"\n",
            "_________________________________________________________________\n",
            " Layer (type)                Output Shape              Param #   \n",
            "=================================================================\n",
            " flatten_26 (Flatten)        (None, 784)               0         \n",
            "                                                                 \n",
            " dense_48 (Dense)            (None, 512)               401920    \n",
            "                                                                 \n",
            " dense_49 (Dense)            (None, 10)                5130      \n",
            "                                                                 \n",
            "=================================================================\n",
            "Total params: 407050 (1.55 MB)\n",
            "Trainable params: 407050 (1.55 MB)\n",
            "Non-trainable params: 0 (0.00 Byte)\n",
            "_________________________________________________________________\n",
            "==================================================\n"
          ]
        }
      ]
    },
    {
      "cell_type": "markdown",
      "source": [
        "Para la parte de modelos 2 y 7 con 25 neuronas hacemos lo mismo pero ahora nuestra lista tiene solo dos modelos y en vez de 5, 25 épocas:"
      ],
      "metadata": {
        "id": "kIfOOGTu0SBg"
      }
    },
    {
      "cell_type": "code",
      "source": [
        "modelos2 = [\n",
        "    (10, 'relu', 'rmsprop', 25),    # Modelo 2\n",
        "    (512, 'sigmoid', 'sgd', 25),    # Modelo 7\n",
        "]\n",
        "\n",
        "# Entrenar y evaluar los modelos\n",
        "for i, caso in enumerate(modelos2):\n",
        "    neurons, activation, optimizer, epochs = caso\n",
        "    print(\"Entrenando Modelo {} - Neuronas en Capa 1: {}, Función de Activación: {}, Optimizador: {}\".format(i + 1, neurons, activation, optimizer))\n",
        "    history = train_model(neurons, activation, optimizer, epochs)\n",
        "    print(\"Resultado en épocas de entrenamiento:\")\n",
        "    print(\"Época final - Precisión de entrenamiento: {history.history['accuracy'][-1]}, Precisión de prueba: {history.history['val_accuracy'][-1]}\")\n",
        "    print(\"=\"*50)"
      ],
      "metadata": {
        "colab": {
          "base_uri": "https://localhost:8080/"
        },
        "id": "1klAQ4VnXs3h",
        "outputId": "f928dee4-81c3-487f-c2a5-4eaa80af47a8"
      },
      "execution_count": null,
      "outputs": [
        {
          "output_type": "stream",
          "name": "stdout",
          "text": [
            "Entrenando Modelo 1 - Neuronas en Capa 1: 10, Función de Activación: relu, Optimizador: rmsprop\n",
            "Epoch 1/25\n",
            "1875/1875 [==============================] - 5s 2ms/step - loss: 2.2278 - accuracy: 0.2716 - val_loss: 1.7697 - val_accuracy: 0.3287\n",
            "Epoch 2/25\n",
            "1875/1875 [==============================] - 4s 2ms/step - loss: 1.7754 - accuracy: 0.3429 - val_loss: 1.6636 - val_accuracy: 0.3797\n",
            "Epoch 3/25\n",
            "1875/1875 [==============================] - 4s 2ms/step - loss: 1.6757 - accuracy: 0.3998 - val_loss: 1.6827 - val_accuracy: 0.4655\n",
            "Epoch 4/25\n",
            "1875/1875 [==============================] - 4s 2ms/step - loss: 1.4756 - accuracy: 0.4915 - val_loss: 1.5949 - val_accuracy: 0.5313\n",
            "Epoch 5/25\n",
            "1875/1875 [==============================] - 4s 2ms/step - loss: 1.3913 - accuracy: 0.5130 - val_loss: 1.3570 - val_accuracy: 0.5126\n",
            "Epoch 6/25\n",
            "1875/1875 [==============================] - 4s 2ms/step - loss: 1.3547 - accuracy: 0.5287 - val_loss: 1.4959 - val_accuracy: 0.5326\n",
            "Epoch 7/25\n",
            "1875/1875 [==============================] - 4s 2ms/step - loss: 1.3309 - accuracy: 0.5376 - val_loss: 1.3949 - val_accuracy: 0.5053\n",
            "Epoch 8/25\n",
            "1875/1875 [==============================] - 4s 2ms/step - loss: 1.2991 - accuracy: 0.5365 - val_loss: 1.3445 - val_accuracy: 0.5227\n",
            "Epoch 9/25\n",
            "1875/1875 [==============================] - 5s 2ms/step - loss: 1.3110 - accuracy: 0.5461 - val_loss: 1.3727 - val_accuracy: 0.5503\n",
            "Epoch 10/25\n",
            "1875/1875 [==============================] - 5s 2ms/step - loss: 1.2770 - accuracy: 0.5488 - val_loss: 1.3665 - val_accuracy: 0.5298\n",
            "Epoch 11/25\n",
            "1875/1875 [==============================] - 4s 2ms/step - loss: 1.3012 - accuracy: 0.5477 - val_loss: 1.3149 - val_accuracy: 0.5530\n",
            "Epoch 12/25\n",
            "1875/1875 [==============================] - 4s 2ms/step - loss: 1.3091 - accuracy: 0.5505 - val_loss: 1.3497 - val_accuracy: 0.5329\n",
            "Epoch 13/25\n",
            "1875/1875 [==============================] - 5s 2ms/step - loss: 1.2918 - accuracy: 0.5505 - val_loss: 1.4044 - val_accuracy: 0.5275\n",
            "Epoch 14/25\n",
            "1875/1875 [==============================] - 4s 2ms/step - loss: 1.2805 - accuracy: 0.5521 - val_loss: 1.3737 - val_accuracy: 0.5207\n",
            "Epoch 15/25\n",
            "1875/1875 [==============================] - 4s 2ms/step - loss: 1.2601 - accuracy: 0.5612 - val_loss: 1.3838 - val_accuracy: 0.5459\n",
            "Epoch 16/25\n",
            "1875/1875 [==============================] - 5s 3ms/step - loss: 1.2772 - accuracy: 0.5624 - val_loss: 1.3781 - val_accuracy: 0.5618\n",
            "Epoch 17/25\n",
            "1875/1875 [==============================] - 4s 2ms/step - loss: 1.2527 - accuracy: 0.5727 - val_loss: 1.4003 - val_accuracy: 0.5666\n",
            "Epoch 18/25\n",
            "1875/1875 [==============================] - 4s 2ms/step - loss: 1.2517 - accuracy: 0.5706 - val_loss: 1.3258 - val_accuracy: 0.5730\n",
            "Epoch 19/25\n",
            "1875/1875 [==============================] - 5s 3ms/step - loss: 1.2327 - accuracy: 0.5735 - val_loss: 1.4168 - val_accuracy: 0.5545\n",
            "Epoch 20/25\n",
            "1875/1875 [==============================] - 4s 2ms/step - loss: 1.2447 - accuracy: 0.5673 - val_loss: 1.4320 - val_accuracy: 0.5519\n",
            "Epoch 21/25\n",
            "1875/1875 [==============================] - 4s 2ms/step - loss: 1.2687 - accuracy: 0.5705 - val_loss: 1.4148 - val_accuracy: 0.5724\n",
            "Epoch 22/25\n",
            "1875/1875 [==============================] - 5s 2ms/step - loss: 1.2669 - accuracy: 0.5738 - val_loss: 1.4946 - val_accuracy: 0.5769\n",
            "Epoch 23/25\n",
            "1875/1875 [==============================] - 4s 2ms/step - loss: 1.2510 - accuracy: 0.5635 - val_loss: 1.4855 - val_accuracy: 0.5556\n",
            "Epoch 24/25\n",
            "1875/1875 [==============================] - 4s 2ms/step - loss: 1.2368 - accuracy: 0.5755 - val_loss: 1.3544 - val_accuracy: 0.5490\n",
            "Epoch 25/25\n",
            "1875/1875 [==============================] - 5s 2ms/step - loss: 1.2181 - accuracy: 0.5711 - val_loss: 1.5085 - val_accuracy: 0.5788\n",
            "Resultado en épocas de entrenamiento:\n",
            "Época final - Precisión de entrenamiento: {history.history['accuracy'][-1]}, Precisión de prueba: {history.history['val_accuracy'][-1]}\n",
            "==================================================\n",
            "Entrenando Modelo 2 - Neuronas en Capa 1: 512, Función de Activación: sigmoid, Optimizador: sgd\n",
            "Epoch 1/25\n",
            "1875/1875 [==============================] - 11s 5ms/step - loss: 0.7021 - accuracy: 0.7612 - val_loss: 0.6159 - val_accuracy: 0.7851\n",
            "Epoch 2/25\n",
            "1875/1875 [==============================] - 11s 6ms/step - loss: 0.5872 - accuracy: 0.7938 - val_loss: 0.5949 - val_accuracy: 0.7903\n",
            "Epoch 3/25\n",
            "1875/1875 [==============================] - 11s 6ms/step - loss: 0.5699 - accuracy: 0.7984 - val_loss: 0.5985 - val_accuracy: 0.7863\n",
            "Epoch 4/25\n",
            "1875/1875 [==============================] - 11s 6ms/step - loss: 0.5611 - accuracy: 0.8003 - val_loss: 0.5771 - val_accuracy: 0.7894\n",
            "Epoch 5/25\n",
            "1875/1875 [==============================] - 11s 6ms/step - loss: 0.5566 - accuracy: 0.8026 - val_loss: 0.5721 - val_accuracy: 0.8019\n",
            "Epoch 6/25\n",
            "1875/1875 [==============================] - 10s 5ms/step - loss: 0.5450 - accuracy: 0.8073 - val_loss: 0.5825 - val_accuracy: 0.7953\n",
            "Epoch 7/25\n",
            "1875/1875 [==============================] - 10s 5ms/step - loss: 0.5496 - accuracy: 0.8045 - val_loss: 0.5846 - val_accuracy: 0.7895\n",
            "Epoch 8/25\n",
            "1875/1875 [==============================] - 11s 6ms/step - loss: 0.5510 - accuracy: 0.8060 - val_loss: 0.5824 - val_accuracy: 0.8008\n",
            "Epoch 9/25\n",
            "1875/1875 [==============================] - 11s 6ms/step - loss: 0.5546 - accuracy: 0.8057 - val_loss: 0.5696 - val_accuracy: 0.7929\n",
            "Epoch 10/25\n",
            "1875/1875 [==============================] - 11s 6ms/step - loss: 0.5507 - accuracy: 0.8068 - val_loss: 0.5903 - val_accuracy: 0.7905\n",
            "Epoch 11/25\n",
            "1875/1875 [==============================] - 10s 5ms/step - loss: 0.5514 - accuracy: 0.8037 - val_loss: 0.5700 - val_accuracy: 0.7963\n",
            "Epoch 12/25\n",
            "1875/1875 [==============================] - 9s 5ms/step - loss: 0.5476 - accuracy: 0.8069 - val_loss: 0.5723 - val_accuracy: 0.7984\n",
            "Epoch 13/25\n",
            "1875/1875 [==============================] - 11s 6ms/step - loss: 0.5587 - accuracy: 0.7991 - val_loss: 0.5663 - val_accuracy: 0.8005\n",
            "Epoch 14/25\n",
            "1875/1875 [==============================] - 12s 6ms/step - loss: 0.5414 - accuracy: 0.8079 - val_loss: 0.5602 - val_accuracy: 0.7958\n",
            "Epoch 15/25\n",
            "1875/1875 [==============================] - 11s 6ms/step - loss: 0.5442 - accuracy: 0.8041 - val_loss: 0.5657 - val_accuracy: 0.7977\n",
            "Epoch 16/25\n",
            "1875/1875 [==============================] - 11s 6ms/step - loss: 0.5439 - accuracy: 0.8054 - val_loss: 0.5789 - val_accuracy: 0.7864\n",
            "Epoch 17/25\n",
            "1875/1875 [==============================] - 10s 6ms/step - loss: 0.5545 - accuracy: 0.8023 - val_loss: 0.5813 - val_accuracy: 0.7979\n",
            "Epoch 18/25\n",
            "1875/1875 [==============================] - 12s 7ms/step - loss: 0.5480 - accuracy: 0.8033 - val_loss: 0.5888 - val_accuracy: 0.7823\n",
            "Epoch 19/25\n",
            "1875/1875 [==============================] - 13s 7ms/step - loss: 0.5425 - accuracy: 0.8054 - val_loss: 0.5689 - val_accuracy: 0.7935\n",
            "Epoch 20/25\n",
            "1875/1875 [==============================] - 10s 5ms/step - loss: 0.5437 - accuracy: 0.8065 - val_loss: 0.5796 - val_accuracy: 0.7935\n",
            "Epoch 21/25\n",
            "1875/1875 [==============================] - 10s 5ms/step - loss: 0.5407 - accuracy: 0.8068 - val_loss: 0.5594 - val_accuracy: 0.8044\n",
            "Epoch 22/25\n",
            "1875/1875 [==============================] - 11s 6ms/step - loss: 0.5462 - accuracy: 0.8063 - val_loss: 0.5837 - val_accuracy: 0.7926\n",
            "Epoch 23/25\n",
            "1875/1875 [==============================] - 11s 6ms/step - loss: 0.5405 - accuracy: 0.8060 - val_loss: 0.5847 - val_accuracy: 0.7853\n",
            "Epoch 24/25\n",
            "1875/1875 [==============================] - 11s 6ms/step - loss: 0.5385 - accuracy: 0.8060 - val_loss: 0.5784 - val_accuracy: 0.7923\n",
            "Epoch 25/25\n",
            "1875/1875 [==============================] - 10s 5ms/step - loss: 0.5259 - accuracy: 0.8114 - val_loss: 0.5476 - val_accuracy: 0.8070\n",
            "Resultado en épocas de entrenamiento:\n",
            "Época final - Precisión de entrenamiento: {history.history['accuracy'][-1]}, Precisión de prueba: {history.history['val_accuracy'][-1]}\n",
            "==================================================\n"
          ]
        }
      ]
    },
    {
      "cell_type": "markdown",
      "source": [
        "Vamos a analizar e interpretar los resultados de los dos entrenamientos de cada modelo, uno con 5 épocas y otro con 25 épocas:\n",
        "\n",
        "**Modelo 2 Entrenado con 5 Épocas:**\n",
        "\n",
        "En la primera época, el modelo tiene una pérdida (loss) de aproximadamente 2.4149 y una precisión (accuracy) de alrededor del 10% en el conjunto de entrenamiento. En el conjunto de validación, la pérdida es de alrededor de 2.3043 y la precisión es del 9.99%.\n",
        "A lo largo de las 5 épocas, el modelo no muestra una mejora significativa en la precisión ni en la pérdida. La precisión se mantiene en alrededor del 10%, lo que indica que el modelo está teniendo dificultades para aprender y realizar predicciones útiles.\n",
        "\n",
        "**Modelo 2 Entrenado con 25 Épocas:**\n",
        "\n",
        "En la primera época, el modelo tiene una pérdida de aproximadamente 2.2419 y una precisión de alrededor del 25.09% en el conjunto de entrenamiento. En el conjunto de validación, la pérdida es de aproximadamente 1.8471 y la precisión es del 32.71%.\n",
        "A lo largo de las 25 épocas, el modelo muestra una mejora en la precisión y la pérdida tanto en el conjunto de entrenamiento como en el conjunto de validación. Esto indica que el modelo está aprendiendo a medida que se entrena. Sin embargo, la precisión en el conjunto de validación parece estancarse después de alrededor de la época 6, lo que sugiere que el modelo podría estar sobreajustando los datos de entrenamiento.\n",
        "La precisión en el conjunto de validación alcanza su punto máximo alrededor de la época 11 y luego disminuye ligeramente, lo que podría ser un signo de sobreajuste.\n",
        "\n"
      ],
      "metadata": {
        "id": "zsj_tlv1_30l"
      }
    },
    {
      "cell_type": "markdown",
      "source": [
        "**Modelo 7 entrenado con 5 épocas:**\n",
        "\n",
        "En la época 1, la pérdida (loss) en el conjunto de entrenamiento es de aproximadamente 0.7193, mientras que la precisión (accuracy) es de aproximadamente 0.7560. En el conjunto de validación, la pérdida es de aproximadamente 0.6408 y la precisión es de aproximadamente 0.7682.\n",
        "A lo largo de las 5 épocas, la pérdida en el conjunto de entrenamiento disminuye gradualmente, y la precisión aumenta, lo que indica que el modelo está aprendiendo de los datos de entrenamiento.\n",
        "En el conjunto de validación, la pérdida también disminuye durante las 5 épocas, y la precisión aumenta ligeramente, lo que sugiere que el modelo generaliza mejor a medida que avanza el entrenamiento.\n",
        "\n",
        "**Modelo 7 entrenado con 25 épocas:**\n",
        "\n",
        "En la época 1, la pérdida en el conjunto de entrenamiento es de aproximadamente 0.7126, y la precisión es de aproximadamente 0.7579. En el conjunto de validación, la pérdida es de aproximadamente 0.6283 y la precisión es de aproximadamente 0.7760.\n",
        "A medida que avanzan las épocas, se observa una tendencia similar a la del modelo entrenado con 5 épocas. La pérdida en el conjunto de entrenamiento disminuye y la precisión aumenta gradualmente.\n",
        "En el conjunto de validación, la pérdida también disminuye a lo largo de las épocas, y la precisión aumenta. Sin embargo, en comparación con el modelo entrenado con 5 épocas, este modelo parece tener una tendencia a alcanzar una precisión ligeramente más alta en el conjunto de validación.\n",
        "\n",
        "\n",
        "\n",
        "\n",
        "\n",
        "\n"
      ],
      "metadata": {
        "id": "FL_QWkVDAm_F"
      }
    },
    {
      "cell_type": "markdown",
      "source": [
        "En general, en ambos modelos, el modelo entrenado con 25 épocas parece tener un mejor rendimiento en términos de precisión en el conjunto de validación en comparación con el modelo entrenado con 5 épocas. Esto sugiere que el entrenamiento prolongado ha permitido al modelo aprender mejor los patrones en los datos de entrenamiento y generalizar mejor a datos no vistos en el conjunto de validación. Sin embargo, es importante tener en cuenta que un entrenamiento excesivamente largo puede llevar a un sobreajuste (overfitting), por lo que se debe tener cuidado al seleccionar el número adecuado de épocas para entrenar un modelo."
      ],
      "metadata": {
        "id": "tHuRY8IpA4zG"
      }
    },
    {
      "cell_type": "markdown",
      "source": [
        "Para evaluar la red, haremos uso de `.evaluate`"
      ],
      "metadata": {
        "id": "7x_UJ0qK4PzQ"
      }
    },
    {
      "cell_type": "code",
      "source": [
        "# Importa Sequential desde keras.models\n",
        "from keras.models import Sequential\n",
        "\n",
        "# Define y compila el modelo fuera del bucle\n",
        "model = Sequential()\n",
        "model.add(Flatten(input_shape=(28, 28)))\n",
        "model.add(Dense(neurons, activation=activation))\n",
        "model.add(Dense(10, activation='softmax'))\n",
        "model.compile(optimizer=optimizer, loss='sparse_categorical_crossentropy', metrics=['accuracy'])\n",
        "\n",
        "\n",
        "model_accuracies = []  # Almacenar las precisiones de los modelos\n",
        "\n",
        "for i, caso in enumerate(configs):\n",
        "    neurons, activation, optimizer, epochs = caso\n",
        "    print(\"Entrenando Modelo {} - Neuronas en Capa 1: {}, Función de Activación: {}, Optimizador: {}\".format(i + 1, neurons, activation, optimizer))\n",
        "\n",
        "    # No es necesario compilar nuevamente dentro de train_model\n",
        "    history = model.fit(train_images, train_labels, epochs=epochs, verbose=0)\n",
        "\n",
        "    # Evaluar el modelo en el conjunto de prueba\n",
        "    test_loss, test_accuracy = model.evaluate(test_images, test_labels, verbose=0)\n",
        "    model_accuracies.append(test_accuracy)\n",
        "\n",
        "    print(\"Resultado en épocas de entrenamiento:\")\n",
        "    print(\"Precisión de entrenamiento en la última época: {:.4f}\".format(history.history['accuracy'][-1]))\n",
        "    print(\"Precisión de prueba: {:.4f}\".format(test_accuracy))\n",
        "    print(\"=\"*50)\n",
        "\n",
        "# Comparar las precisiones de los modelos\n",
        "best_model_index = model_accuracies.index(max(model_accuracies))\n",
        "best_model_accuracy = max(model_accuracies)\n",
        "\n",
        "print(\"El mejor modelo es el Modelo {} con una precisión en el conjunto de prueba de {:.2f}%\".format(best_model_index + 1, best_model_accuracy*100))"
      ],
      "metadata": {
        "colab": {
          "base_uri": "https://localhost:8080/"
        },
        "id": "vIE_L353ZvNq",
        "outputId": "c01f7401-4666-481f-c3f0-a1f155aafa95"
      },
      "execution_count": null,
      "outputs": [
        {
          "output_type": "stream",
          "name": "stdout",
          "text": [
            "Entrenando Modelo 1 - Neuronas en Capa 1: 10, Función de Activación: relu, Optimizador: sgd\n",
            "Resultado en épocas de entrenamiento:\n",
            "Precisión de entrenamiento en la última época: 0.8022\n",
            "Precisión de prueba: 0.7924\n",
            "==================================================\n",
            "Entrenando Modelo 2 - Neuronas en Capa 1: 10, Función de Activación: relu, Optimizador: rmsprop\n",
            "Resultado en épocas de entrenamiento:\n",
            "Precisión de entrenamiento en la última época: 0.8065\n",
            "Precisión de prueba: 0.7895\n",
            "==================================================\n",
            "Entrenando Modelo 3 - Neuronas en Capa 1: 10, Función de Activación: sigmoid, Optimizador: sgd\n",
            "Resultado en épocas de entrenamiento:\n",
            "Precisión de entrenamiento en la última época: 0.8076\n",
            "Precisión de prueba: 0.7841\n",
            "==================================================\n",
            "Entrenando Modelo 4 - Neuronas en Capa 1: 10, Función de Activación: sigmoid, Optimizador: rmsprop\n",
            "Resultado en épocas de entrenamiento:\n",
            "Precisión de entrenamiento en la última época: 0.8051\n",
            "Precisión de prueba: 0.7945\n",
            "==================================================\n",
            "Entrenando Modelo 5 - Neuronas en Capa 1: 512, Función de Activación: relu, Optimizador: sgd\n",
            "Resultado en épocas de entrenamiento:\n",
            "Precisión de entrenamiento en la última época: 0.8091\n",
            "Precisión de prueba: 0.7934\n",
            "==================================================\n",
            "Entrenando Modelo 6 - Neuronas en Capa 1: 512, Función de Activación: relu, Optimizador: rmsprop\n",
            "Resultado en épocas de entrenamiento:\n",
            "Precisión de entrenamiento en la última época: 0.8037\n",
            "Precisión de prueba: 0.7928\n",
            "==================================================\n",
            "Entrenando Modelo 7 - Neuronas en Capa 1: 512, Función de Activación: sigmoid, Optimizador: sgd\n",
            "Resultado en épocas de entrenamiento:\n",
            "Precisión de entrenamiento en la última época: 0.8061\n",
            "Precisión de prueba: 0.7917\n",
            "==================================================\n",
            "Entrenando Modelo 8 - Neuronas en Capa 1: 512, Función de Activación: sigmoid, Optimizador: rmsprop\n",
            "Resultado en épocas de entrenamiento:\n",
            "Precisión de entrenamiento en la última época: 0.8113\n",
            "Precisión de prueba: 0.7977\n",
            "==================================================\n",
            "El mejor modelo es el Modelo 8 con una precisión en el conjunto de prueba de 79.77%\n"
          ]
        }
      ]
    },
    {
      "cell_type": "markdown",
      "source": [
        "Sin embargo, a la hora de dibujar, nos ha dado muchos problemas ya que no sabíamos obtener los datos de cada modelo, entonces nos sacaba mal las precisiones y nos daban datos que obviamente no estaban bien (suma de probabilidades = 197).\n"
      ],
      "metadata": {
        "id": "46Lh2YLPBK-u"
      }
    },
    {
      "cell_type": "markdown",
      "source": [
        "## CONCLUSIONES\n",
        "Podemos observar, tanto evaluando como haciendo las predicciones y viéndolo gráficamente, que los mejores modelos son el 6 y el 8. Además, hemos incluido en el código una parte para que nos sacara el mejor (apartado 4).\n",
        "\n",
        "En adición, hemos intentado implementar el entrenamiento de redes neuronales de una forma distinta, haciendo uso de funciones. Hemos observado que, en general, no nos ha dado unos muy buenos resultados y que en comparación con ir haciéndolo uno a uno, aunque es más tedioso, obtenemos mejores soluciones.\n"
      ],
      "metadata": {
        "id": "IRcEwGAmDMhU"
      }
    },
    {
      "cell_type": "markdown",
      "source": [
        "## REFLEXIONES\n",
        "1. Cómo hemos afrontado la solución de la práctica: Tras haber entendido el código proporcionado en clase por Carlos Emilio Rabazo, hemos ido acoplando y adpatando el código a lo que se nos pedía en esta práctica. Además, preguntando a otros compañeros para ir contrastando los resultados que nos daba nuestro entrenamiento de la red neuronal, hemos sido capaces de orientarnos.\n",
        "\n",
        "2. Cómo se ha dividido el trabajo: Se decidió hacer reuniones para llevar a cabo la resolución de la práctica. En principio, cada uno se ponía a intentar resolver un ejercicio pero terminábamos ayudándonos entre nosotros, ya que en alguno de los casos si no se resolvía el ejercicio anterior, no podíamos avanzar en el siguiente. Gracias a esto, se ha logrado una mayor comunicación y más facilidad para trabajar en grupo, lo cual se ha visto reflejado en el proyecto.\n",
        "\n",
        "3. Cómo se ha gestionado el equipo para trabajar: Como hemos mencionado anteriormente, cada uno se enfrentaba a uno de los ejercicios y en caso de necesitar ayuda el resto se la brindaba.\n"
      ],
      "metadata": {
        "id": "yNBfL5ulD2Y8"
      }
    }
  ]
}